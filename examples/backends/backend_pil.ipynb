{
 "cells": [
  {
   "cell_type": "code",
   "execution_count": 1,
   "metadata": {},
   "outputs": [
    {
     "data": {
      "image/png": "[encoded data removed]",
      "text/plain": [
       "<PIL.Image.Image image mode=1 size=256x256>"
      ]
     },
     "execution_count": 1,
     "metadata": {},
     "output_type": "execute_result"
    }
   ],
   "source": [
    "from tagcloud.backends.backend_pil import Image, graphics\n",
    "\n",
    "import PIL\n",
    "import PIL.Image\n",
    "import PIL.ImageFont\n",
    "\n",
    "import urllib\n",
    "import urllib.request\n",
    "\n",
    "im = Image(\n",
    "    PIL.Image.open(\n",
    "        urllib.request.urlopen(\n",
    "            'http://www.lenna.org/len_std.jpg'\n",
    "        )\n",
    "    ).convert('1')\n",
    ")\n",
    "\n",
    "\n",
    "im_text0 = Image.from_font(\n",
    "    PIL.ImageFont.truetype('DejaVuSans.ttf', 36),\n",
    "    text='sample text'\n",
    ")\n",
    "im_text0.rotate(\n",
    "    angle=-10,\n",
    "    expand=True\n",
    ")\n",
    "im_text0.render()\n",
    "im.paste(im_text0, (im.size.width // 2, im.size.height // 2), mask=im_text0)\n",
    "\n",
    "\n",
    "im_text1 = Image.make(mode='1', size=(0, 0))\n",
    "im_text1.text(\n",
    "    font=PIL.ImageFont.truetype('DejaVuSans.ttf', 72),\n",
    "    xy=(0, 0),\n",
    "    text='sample TEXT', fill=255,\n",
    "    expand=True\n",
    ")\n",
    "im_text1.rotate(\n",
    "    angle=30,\n",
    "    expand=True\n",
    ")\n",
    "im_text1.render()\n",
    "im.paste(im_text1, (im.size.width // 3, im.size.height // 2), mask=im_text1)\n",
    "\n",
    "im.render()._base\n"
   ]
  },
  {
   "cell_type": "code",
   "execution_count": 3,
   "metadata": {},
   "outputs": [
    {
     "data": {
      "image/png": "[encoded data removed]",
      "text/plain": [
       "<PIL.Image.Image image mode=1 size=600x800>"
      ]
     },
     "execution_count": 3,
     "metadata": {},
     "output_type": "execute_result"
    }
   ],
   "source": [
    "im = Image.make(mode='1', size=graphics.Dimension(600, 800), color=0)\n",
    "\n",
    "im._base"
   ]
  }
 ],
 "metadata": {
  "kernelspec": {
   "display_name": "env-tagcloud-dev",
   "language": "python",
   "name": "python3"
  },
  "language_info": {
   "codemirror_mode": {
    "name": "ipython",
    "version": 3
   },
   "file_extension": ".py",
   "mimetype": "text/x-python",
   "name": "python",
   "nbconvert_exporter": "python",
   "pygments_lexer": "ipython3",
   "version": "3.10.6"
  },
  "orig_nbformat": 4,
  "vscode": {
   "interpreter": {
    "hash": "5a22c5d2d832a38cd7633b8fbc844f0ce6ec19c5629a76f9ca5e60a9edac4169"
   }
  }
 },
 "nbformat": 4,
 "nbformat_minor": 2
}
