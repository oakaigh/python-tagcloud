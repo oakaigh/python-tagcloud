{
 "cells": [
  {
   "cell_type": "code",
   "execution_count": 7,
   "metadata": {},
   "outputs": [
    {
     "name": "stdout",
     "output_type": "stream",
     "text": [
      "161 µs ± 1.81 µs per loop (mean ± std. dev. of 7 runs, 10,000 loops each)\n"
     ]
    }
   ],
   "source": [
    "import numpy as np\n",
    "import scipy\n",
    "\n",
    "xs = np.empty(int(1e4))\n",
    "\n",
    "%timeit scipy.ndimage.shift(xs, 3, order=0, mode='constant', cval=np.NaN, prefilter=False)"
   ]
  },
  {
   "cell_type": "code",
   "execution_count": 8,
   "metadata": {},
   "outputs": [
    {
     "name": "stdout",
     "output_type": "stream",
     "text": [
      "15.5 µs ± 244 ns per loop (mean ± std. dev. of 7 runs, 100,000 loops each)\n"
     ]
    }
   ],
   "source": [
    "def shift(xs, n):\n",
    "    if n >= 0:\n",
    "        return np.r_[np.full(n, np.nan), xs[:-n]]\n",
    "    else:\n",
    "        return np.r_[xs[-n:], np.full(-n, np.nan)]\n",
    "\n",
    "%timeit shift(xs, 4)"
   ]
  },
  {
   "cell_type": "code",
   "execution_count": 23,
   "metadata": {},
   "outputs": [
    {
     "ename": "TypeError",
     "evalue": "tuple expected at most 1 argument, got 2",
     "output_type": "error",
     "traceback": [
      "\u001b[0;31m---------------------------------------------------------------------------\u001b[0m",
      "\u001b[0;31mTypeError\u001b[0m                                 Traceback (most recent call last)",
      "Cell \u001b[0;32mIn[23], line 1\u001b[0m\n\u001b[0;32m----> 1\u001b[0m np\u001b[39m.\u001b[39mempty((\u001b[39mint\u001b[39m(\u001b[39m1e2\u001b[39m), \u001b[39mint\u001b[39m(\u001b[39m1e2\u001b[39m)))[\u001b[39mtuple\u001b[39;49m(np\u001b[39m.\u001b[39;49ms_[\u001b[39m1\u001b[39;49m:], np\u001b[39m.\u001b[39;49ms_[\u001b[39m1\u001b[39;49m:])]\u001b[39m.\u001b[39mshape\n",
      "\u001b[0;31mTypeError\u001b[0m: tuple expected at most 1 argument, got 2"
     ]
    }
   ],
   "source": [
    "np.empty((int(1e2), int(1e2)))[tuple([np.s_[1:], np.s_[1:]])].shape"
   ]
  },
  {
   "cell_type": "code",
   "execution_count": 16,
   "metadata": {},
   "outputs": [
    {
     "data": {
      "text/plain": [
       "(1, 2)"
      ]
     },
     "execution_count": 16,
     "metadata": {},
     "output_type": "execute_result"
    }
   ],
   "source": [
    "tuple(a for a in [1,2])"
   ]
  },
  {
   "cell_type": "code",
   "execution_count": 34,
   "metadata": {},
   "outputs": [
    {
     "name": "stdout",
     "output_type": "stream",
     "text": [
      "160 ms ± 2.22 ms per loop (mean ± std. dev. of 7 runs, 10 loops each)\n"
     ]
    }
   ],
   "source": [
    "import numpy as np\n",
    "\n",
    "# https://stackoverflow.com/a/27087513/11934495\n",
    "def _shift(a, offsets, fill_value=np.nan):\n",
    "    _mom = lambda s: max(0, s)\n",
    "    _non = lambda s: s if s < 0 else None\n",
    "\n",
    "    res = np.full_like(a, fill_value=fill_value)\n",
    "    res[tuple(np.s_[_mom(o):_non(o)] for o in offsets)] \\\n",
    "        = a[tuple(np.s_[_mom(-o):_non(-o)] for o in offsets)]\n",
    "\n",
    "    return res\n",
    "\n",
    "#%timeit _shift(np.random.rand(int(1e3), int(1e4)), offsets=(10, 10))\n",
    "%timeit _shift(np.random.rand(3840, 2160), offsets=(10, 10))"
   ]
  },
  {
   "cell_type": "code",
   "execution_count": 79,
   "metadata": {},
   "outputs": [
    {
     "data": {
      "text/plain": [
       "array([[0.48487268, 0.99210684, 0.00391865, 0.46874951,        nan],\n",
       "       [0.85019869, 0.17476457, 0.3389439 , 0.50691623,        nan],\n",
       "       [0.13689083, 0.91014512, 0.39802933, 0.22023545,        nan],\n",
       "       [0.87027076, 0.23352419, 0.44286331, 0.6512303 ,        nan],\n",
       "       [       nan,        nan,        nan,        nan,        nan]])"
      ]
     },
     "execution_count": 79,
     "metadata": {},
     "output_type": "execute_result"
    }
   ],
   "source": [
    "a = np.random.rand(5, 5)\n",
    "_shift(a, offsets=(-1, -1)) #- _shift(a, offsets=(-1, 0))"
   ]
  },
  {
   "cell_type": "code",
   "execution_count": 3,
   "metadata": {},
   "outputs": [
    {
     "name": "stdout",
     "output_type": "stream",
     "text": [
      "[[3 7 9]\n",
      " [7 8 9]\n",
      " [4 5 6]\n",
      " [1 2 3]]\n",
      "[[1 2 3]\n",
      " [4 5 6]\n",
      " [7 8 9]\n",
      " [3 7 9]]\n"
     ]
    }
   ],
   "source": [
    "import numpy as np\n",
    "\n",
    "x=np.array([[1,2,3],[4,5,6],[7,8,9], [3, 7,9]])[::-1,:]\n",
    "print(x)\n",
    "print(x[::-1,:])"
   ]
  },
  {
   "cell_type": "code",
   "execution_count": 88,
   "metadata": {},
   "outputs": [
    {
     "data": {
      "text/plain": [
       "array([ True])"
      ]
     },
     "execution_count": 88,
     "metadata": {},
     "output_type": "execute_result"
    }
   ],
   "source": [
    "np.array([0.]) == 0"
   ]
  },
  {
   "cell_type": "code",
   "execution_count": 87,
   "metadata": {},
   "outputs": [
    {
     "data": {
      "text/plain": [
       "array([[ 0.21226666,  0.50723416, -0.98818819,  0.46483086],\n",
       "       [ 0.42427005, -0.67543411,  0.16417933,  0.16797232],\n",
       "       [-0.4625298 ,  0.77325428, -0.51211578, -0.17779388],\n",
       "       [-0.00881306, -0.63674657,  0.20933912,  0.20836698]])"
      ]
     },
     "execution_count": 87,
     "metadata": {},
     "output_type": "execute_result"
    }
   ],
   "source": [
    "a[1:, 1:] - a[1:, 0:-1]"
   ]
  },
  {
   "cell_type": "code",
   "execution_count": 80,
   "metadata": {},
   "outputs": [
    {
     "data": {
      "text/plain": [
       "array([[0.27260602, 0.48487268, 0.99210684, 0.00391865, 0.46874951],\n",
       "       [0.42592864, 0.85019869, 0.17476457, 0.3389439 , 0.50691623],\n",
       "       [0.59942063, 0.13689083, 0.91014512, 0.39802933, 0.22023545],\n",
       "       [0.87908382, 0.87027076, 0.23352419, 0.44286331, 0.6512303 ],\n",
       "       [       nan,        nan,        nan,        nan,        nan]])"
      ]
     },
     "execution_count": 80,
     "metadata": {},
     "output_type": "execute_result"
    }
   ],
   "source": [
    "_shift(a, offsets=(-1, 0))"
   ]
  },
  {
   "cell_type": "code",
   "execution_count": 46,
   "metadata": {},
   "outputs": [
    {
     "data": {
      "text/plain": [
       "Range(min=1, max=100)"
      ]
     },
     "execution_count": 46,
     "metadata": {},
     "output_type": "execute_result"
    }
   ],
   "source": [
    "import typing\n",
    "class Range(typing.NamedTuple):\n",
    "    min: typing.Any\n",
    "    max: typing.Any\n",
    "\n",
    "    def has(self, n) -> bool:\n",
    "        return self.min <= n and n <= self.max\n",
    "\n",
    "    @property\n",
    "    def set(self): return self._replace\n",
    "\n",
    "Range(10, 100).has(90)\n",
    "Range(10, 100).set(min=1)"
   ]
  },
  {
   "cell_type": "code",
   "execution_count": 74,
   "metadata": {},
   "outputs": [
    {
     "ename": "TypeError",
     "evalue": "range() takes no keyword arguments",
     "output_type": "error",
     "traceback": [
      "\u001b[0;31m---------------------------------------------------------------------------\u001b[0m",
      "\u001b[0;31mTypeError\u001b[0m                                 Traceback (most recent call last)",
      "Cell \u001b[0;32mIn[74], line 2\u001b[0m\n\u001b[1;32m      1\u001b[0m \u001b[39mimport\u001b[39;00m \u001b[39mrandom\u001b[39;00m\n\u001b[0;32m----> 2\u001b[0m random\u001b[39m.\u001b[39mchoice(\u001b[39mrange\u001b[39;49m(\u001b[39m1\u001b[39;49m, \u001b[39m10\u001b[39;49m, step\u001b[39m=\u001b[39;49m\u001b[39m2\u001b[39;49m))\n",
      "\u001b[0;31mTypeError\u001b[0m: range() takes no keyword arguments"
     ]
    }
   ],
   "source": [
    "import random\n",
    "random.choice(range(1, 10, step=2))"
   ]
  },
  {
   "cell_type": "code",
   "execution_count": 61,
   "metadata": {},
   "outputs": [
    {
     "ename": "AttributeError",
     "evalue": "'range' object has no attribute '__dict__'",
     "output_type": "error",
     "traceback": [
      "\u001b[0;31m---------------------------------------------------------------------------\u001b[0m",
      "\u001b[0;31mAttributeError\u001b[0m                            Traceback (most recent call last)",
      "Cell \u001b[0;32mIn[61], line 1\u001b[0m\n\u001b[0;32m----> 1\u001b[0m \u001b[39mrange\u001b[39m(\u001b[39m*\u001b[39m\u001b[39m*\u001b[39m\u001b[39mrange\u001b[39;49m(\u001b[39m1\u001b[39;49m, \u001b[39m10\u001b[39;49m)\u001b[39m.\u001b[39;49m\u001b[39m__dict__\u001b[39;49m)\n",
      "\u001b[0;31mAttributeError\u001b[0m: 'range' object has no attribute '__dict__'"
     ]
    }
   ],
   "source": [
    "range(**range(1, 10).__dict__)"
   ]
  },
  {
   "cell_type": "code",
   "execution_count": 59,
   "metadata": {},
   "outputs": [
    {
     "data": {
      "text/plain": [
       "range"
      ]
     },
     "execution_count": 59,
     "metadata": {},
     "output_type": "execute_result"
    }
   ],
   "source": [
    "type(range(1, 10))"
   ]
  },
  {
   "cell_type": "code",
   "execution_count": 75,
   "metadata": {},
   "outputs": [
    {
     "ename": "TypeError",
     "evalue": "'float' object cannot be interpreted as an integer",
     "output_type": "error",
     "traceback": [
      "\u001b[0;31m---------------------------------------------------------------------------\u001b[0m",
      "\u001b[0;31mTypeError\u001b[0m                                 Traceback (most recent call last)",
      "Cell \u001b[0;32mIn[75], line 1\u001b[0m\n\u001b[0;32m----> 1\u001b[0m \u001b[39m10\u001b[39m \u001b[39min\u001b[39;00m \u001b[39mrange\u001b[39;49m(\u001b[39m1.\u001b[39;49m, \u001b[39m10000000.\u001b[39;49m)\n",
      "\u001b[0;31mTypeError\u001b[0m: 'float' object cannot be interpreted as an integer"
     ]
    }
   ],
   "source": [
    "10 in range(1., 10000000.)"
   ]
  },
  {
   "cell_type": "code",
   "execution_count": 57,
   "metadata": {},
   "outputs": [
    {
     "name": "stdout",
     "output_type": "stream",
     "text": [
      "192 ns ± 1.6 ns per loop (mean ± std. dev. of 7 runs, 1,000,000 loops each)\n"
     ]
    }
   ],
   "source": [
    "%timeit 2 in range(1, 10000000000000000000000, 5)"
   ]
  },
  {
   "cell_type": "code",
   "execution_count": 58,
   "metadata": {},
   "outputs": [
    {
     "name": "stdout",
     "output_type": "stream",
     "text": [
      "132 ns ± 2.45 ns per loop (mean ± std. dev. of 7 runs, 10,000,000 loops each)\n"
     ]
    }
   ],
   "source": [
    "%timeit 2 in range(1, 10, 5)"
   ]
  },
  {
   "cell_type": "code",
   "execution_count": 50,
   "metadata": {},
   "outputs": [
    {
     "data": {
      "text/plain": [
       "1"
      ]
     },
     "execution_count": 50,
     "metadata": {},
     "output_type": "execute_result"
    }
   ],
   "source": [
    "range(1, 100).start"
   ]
  },
  {
   "cell_type": "code",
   "execution_count": 28,
   "metadata": {},
   "outputs": [
    {
     "data": {
      "text/plain": [
       "array([[0., 0., 0., 0., 0., 0., 0., 0., 0., 0.],\n",
       "       [0., 0., 0., 0., 0., 0., 0., 0., 0., 0.],\n",
       "       [0., 0., 0., 0., 0., 0., 0., 0., 0., 0.],\n",
       "       [0., 0., 0., 0., 0., 0., 0., 0., 0., 0.],\n",
       "       [0., 0., 0., 0., 0., 0., 0., 0., 0., 0.],\n",
       "       [0., 0., 0., 0., 0., 0., 0., 0., 0., 0.],\n",
       "       [0., 0., 0., 0., 0., 0., 0., 0., 0., 0.],\n",
       "       [0., 0., 0., 0., 0., 0., 0., 0., 0., 0.],\n",
       "       [0., 0., 0., 0., 0., 0., 0., 0., 0., 0.],\n",
       "       [0., 0., 0., 0., 0., 0., 0., 0., 0., 0.]])"
      ]
     },
     "execution_count": 28,
     "metadata": {},
     "output_type": "execute_result"
    }
   ],
   "source": [
    "non = lambda s: s if s<0 else None\n",
    "mom = lambda s: max(0,s)\n",
    "\n",
    "ox, oy = 100, 20\n",
    "\n",
    "lena = np.random.rand(int(1e1), int(1e1))\n",
    "shift_lena = np.zeros_like(lena)\n",
    "shift_lena[mom(oy):non(oy), mom(ox):non(ox)] = lena[mom(-oy):non(-oy), mom(-ox):non(-ox)]\n",
    "shift_lena"
   ]
  },
  {
   "cell_type": "code",
   "execution_count": 22,
   "metadata": {},
   "outputs": [
    {
     "data": {
      "text/plain": [
       "array([[0.14722417, 0.65187387, 0.2182883 , 0.96870189, 0.16140282,\n",
       "        0.49674699, 0.19216196, 0.80956324, 0.1634241 , 0.02985771],\n",
       "       [0.57946233, 0.44927198, 0.77446557, 0.28985117, 0.51271813,\n",
       "        0.71089524, 0.08477589, 0.30820718, 0.59274624, 0.01339266],\n",
       "       [0.12683431, 0.90358764, 0.89757084, 0.21345632, 0.76391804,\n",
       "        0.81595428, 0.00497499, 0.26151264, 0.05902862, 0.68235074],\n",
       "       [0.53531016, 0.28756075, 0.32437459, 0.7269367 , 0.3978504 ,\n",
       "        0.12553503, 0.263205  , 0.88904344, 0.48662597, 0.90631622],\n",
       "       [0.9434918 , 0.65483762, 0.19021461, 0.31227834, 0.03908298,\n",
       "        0.74431537, 0.62361831, 0.68348902, 0.37665268, 0.17147724],\n",
       "       [0.63448048, 0.22508845, 0.90497971, 0.43762653, 0.17178309,\n",
       "        0.20864504, 0.30874608, 0.79572176, 0.66382593, 0.35957342],\n",
       "       [0.03684169, 0.87889069, 0.47262484, 0.48845591, 0.34652259,\n",
       "        0.08905608, 0.38723422, 0.60764266, 0.96394283, 0.00850713],\n",
       "       [0.40568912, 0.79912775, 0.67531145, 0.35173277, 0.79601082,\n",
       "        0.49766302, 0.96748418, 0.42404371, 0.63502783, 0.05156446],\n",
       "       [0.96753765, 0.84238306, 0.08678855, 0.2836638 , 0.25192809,\n",
       "        0.6877098 , 0.09826119, 0.70632803, 0.28581155, 0.27765938],\n",
       "       [0.40357946, 0.31129162, 0.43038023, 0.81666066, 0.47038243,\n",
       "        0.46360084, 0.95918472, 0.49132591, 0.52309892, 0.78009791]])"
      ]
     },
     "execution_count": 22,
     "metadata": {},
     "output_type": "execute_result"
    }
   ],
   "source": [
    "np.random.rand(int(1e1), int(1e1))"
   ]
  },
  {
   "cell_type": "code",
   "execution_count": null,
   "metadata": {},
   "outputs": [],
   "source": []
  }
 ],
 "metadata": {
  "kernelspec": {
   "display_name": "Python 3",
   "language": "python",
   "name": "python3"
  },
  "language_info": {
   "codemirror_mode": {
    "name": "ipython",
    "version": 3
   },
   "file_extension": ".py",
   "mimetype": "text/x-python",
   "name": "python",
   "nbconvert_exporter": "python",
   "pygments_lexer": "ipython3",
   "version": "3.10.6"
  },
  "orig_nbformat": 4,
  "vscode": {
   "interpreter": {
    "hash": "916dbcbb3f70747c44a77c7bcd40155683ae19c65e1c03b4aa3499c5328201f1"
   }
  }
 },
 "nbformat": 4,
 "nbformat_minor": 2
}
