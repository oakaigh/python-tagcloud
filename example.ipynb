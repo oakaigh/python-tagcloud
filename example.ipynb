{
 "cells": [
  {
   "cell_type": "code",
   "execution_count": 59,
   "metadata": {},
   "outputs": [],
   "source": [
    "import random\n",
    "import numpy as np\n",
    "import numpy.typing\n",
    "\n",
    "\n",
    "\n",
    "# TODO min pyver 3.8\n",
    "\n",
    "import enum\n",
    "import typing\n",
    "import abc\n",
    "\n",
    "\n",
    "class Orientation(enum.Enum):\n",
    "    HORIZONTAL = 'horizontal'\n",
    "    VERTICAL = 'vertical'\n",
    "\n",
    "class Coordinate(typing.NamedTuple):\n",
    "    x: int\n",
    "    y: int\n",
    "\n",
    "    @classmethod\n",
    "    def make(cls, x, y):\n",
    "        return cls(x=int(x), y=int(y))\n",
    "\n",
    "class Dimension(typing.NamedTuple):\n",
    "    width: int\n",
    "    height: int\n",
    "\n",
    "    @classmethod\n",
    "    def make(cls, width, height):\n",
    "        return cls(width=int(width), height=int(height))\n",
    "\n",
    "class TextSpec(typing.NamedTuple):\n",
    "    content: str\n",
    "    size: int\n",
    "    rotation: Orientation\n",
    "    position: Coordinate = None\n",
    "\n",
    "\n",
    "\n",
    "\n",
    "BilevelData = np.typing.NDArray[np.bool_]\n",
    "\n",
    "\n",
    "\n",
    "\n",
    "\n",
    "class CanvasBase(abc.ABC):\n",
    "    class Callbacks(typing.TypedDict):\n",
    "        f_update: typing.Set[typing.Callable[[BilevelData], typing.Any]]\n",
    "\n",
    "    def __init__(self):\n",
    "        self.callbacks = self.Callbacks(\n",
    "            f_update=set()\n",
    "        )\n",
    "\n",
    "    @property\n",
    "    @abc.abstractmethod\n",
    "    def dimension(self) -> Dimension:\n",
    "        raise NotImplementedError()\n",
    "\n",
    "    @property\n",
    "    @abc.abstractmethod\n",
    "    def data_bilevel(self) -> BilevelData:\n",
    "        raise NotImplementedError()\n",
    "\n",
    "    # callbacks: BilevelData: updated region\n",
    "    def on_update(self, *callbacks: typing.Callable[[BilevelData], typing.Any]):\n",
    "        self.callbacks['f_update'] |= set(callbacks)\n",
    "        return self\n",
    "        \n",
    "    def off_update(self, *callbacks: typing.Callable[[BilevelData], typing.Any]):\n",
    "        self.callbacks['f_update'] -= set(callbacks)\n",
    "        return self\n",
    "\n",
    "    @abc.abstractmethod\n",
    "    def text(self, text_spec: TextSpec) -> Dimension:\n",
    "        raise NotImplementedError()\n",
    "\n",
    "    \n",
    "\n",
    "\n",
    "def rgba_to_rgb(\n",
    "    rgba: np.typing.ArrayLike, \n",
    "    rgb_background: np.typing.ArrayLike\n",
    ") -> np.typing.NDArray:\n",
    "    rgba = np.asarray(rgba, dtype=np.uint8)\n",
    "\n",
    "    r, g, b, a = rgba.T\n",
    "    r_, g_, b_, a_ = *rgb_background, a / 255.\n",
    "\n",
    "    rgb = (a_ * (r, g, b) + (1 - a_) * (r, g, b)).T\n",
    "    return rgb.astype(np.uint8)\n",
    "\n",
    "def rgb_to_bilevel(\n",
    "    rgb: np.typing.ArrayLike, \n",
    "    rgb_background: np.typing.ArrayLike\n",
    ") -> np.typing.NDArray:\n",
    "    rgb, rgb_background = map(\n",
    "        lambda x: np.asarray(x, dtype=np.uint8), \n",
    "        (rgb, rgb_background)\n",
    "    )\n",
    "    return (rgb != rgb_background).all(axis=-1)\n",
    "\n",
    "\n",
    "\n",
    "\n",
    "\n",
    "import matplotlib as mpl\n",
    "import matplotlib.backends.backend_agg\n",
    "\n",
    "# TODO rm\n",
    "import matplotlib.pyplot as plt\n",
    "\n",
    "\n",
    "import io\n",
    "\n",
    "\n",
    "\n",
    "\n",
    "\n",
    "class Canvas(CanvasBase):\n",
    "    def __init__(\n",
    "        self, \n",
    "        backend: typing.Type[mpl.figure.FigureCanvasBase]\n",
    "            =mpl.backends.backend_agg.FigureCanvas,\n",
    "        figure: mpl.figure.FigureBase=None\n",
    "    ):\n",
    "        super().__init__()\n",
    "        self._base = backend(figure=figure)\n",
    "\n",
    "    @property\n",
    "    def _figure(self):\n",
    "        return self._base.figure\n",
    "\n",
    "    @property\n",
    "    def _background_rgb(self) -> np.typing.ArrayLike:\n",
    "        r, g, b, _ = np.multiply(\n",
    "            self._figure.get_facecolor(), \n",
    "            255\n",
    "        ).astype(np.uint8)\n",
    "        return r, g, b\n",
    "\n",
    "    @property\n",
    "    def dimension(self) -> Dimension:\n",
    "        _, _, width, height = self._figure.get_window_extent(\n",
    "            renderer=self._base.get_renderer()\n",
    "        ).bounds\n",
    "        return Dimension.make(width, height)\n",
    "\n",
    "    @property\n",
    "    def data_rgba(self) -> np.typing.ArrayLike:\n",
    "        region = self._base.copy_from_bbox(self._figure.bbox)\n",
    "        return np.asarray(region, dtype=np.uint8)\n",
    "\n",
    "    @property\n",
    "    def data_rgb(self) -> np.typing.ArrayLike:\n",
    "        return rgba_to_rgb(self.data_rgba, rgb_background=self._background_rgb)\n",
    "\n",
    "    @property\n",
    "    def data_bilevel(self) -> np.typing.ArrayLike:\n",
    "        return rgb_to_bilevel(self.data_rgb, rgb_background=self._background_rgb)\n",
    "\n",
    "    def text(self, text_spec: TextSpec) -> Dimension:\n",
    "        def _draw(f: mpl.figure.Figure, render: bool):\n",
    "            if not render:\n",
    "                return f.draw_without_rendering()\n",
    "            return f.draw(renderer=f.canvas.get_renderer())\n",
    "\n",
    "        def _get_extent(t: mpl.text.Text):\n",
    "            b = t.get_bbox_patch()\n",
    "            if b is not None:\n",
    "                return b.get_window_extent()\n",
    "            return t.get_window_extent(\n",
    "                renderer=t.get_figure().canvas.get_renderer()\n",
    "            )\n",
    "\n",
    "        pos = text_spec.position or Coordinate(0, 0)\n",
    "        t = self._figure.add_artist(\n",
    "            mpl.text.Text(\n",
    "                x=pos.x, y=pos.y,\n",
    "                text=text_spec.content,\n",
    "                size=text_spec.size,\n",
    "                transform=None\n",
    "            )            \n",
    "        )\n",
    "\n",
    "        _draw(self._figure, render=True)\n",
    "        \n",
    "        _, _, width, height = _get_extent(t).bounds\n",
    "\n",
    "        # hidden\n",
    "        if text_spec.position is None:\n",
    "            t.remove()\n",
    "            _draw(self._figure, render=True)\n",
    "\n",
    "        for f in self.callbacks['f_update']:\n",
    "            # TODO\n",
    "            f(None)\n",
    "\n",
    "        return Dimension.make(width, height)\n",
    "\n",
    "\n",
    "\n",
    "# see https://en.wikipedia.org/wiki/Summed-area_table\n",
    "class SummedAreaTable:\n",
    "    def __init__(self, a: np.typing.NDArray):\n",
    "        a = np.asarray(a, dtype=np.bool_)\n",
    "        self.base = np.apply_over_axes(\n",
    "            np.cumsum, \n",
    "            a, \n",
    "            axes=np.arange(2)\n",
    "        )\n",
    "\n",
    "    def area(\n",
    "        self,\n",
    "        offset: Coordinate,\n",
    "        block_size: Dimension\n",
    "    ):\n",
    "        x, y = offset\n",
    "        x_block, y_block = block_size\n",
    "\n",
    "        return (\n",
    "            (self.base[x + x_block, y + y_block] - self.base[x + x_block, y])\n",
    "                - (self.base[x, y + y_block] - self.base[x, y])\n",
    "        )\n",
    "\n",
    "    def _areas(\n",
    "        self,\n",
    "        block_size: Dimension\n",
    "    ):\n",
    "        # https://stackoverflow.com/a/27087513/11934495\n",
    "        def _shift(a, offsets, fill_value=np.nan):\n",
    "            _mom = lambda s: max(0, s)\n",
    "            _non = lambda s: s if s < 0 else None\n",
    "\n",
    "            res = np.full_like(a, fill_value=fill_value)\n",
    "            res[tuple(np.s_[_mom(o):_non(o)] for o in offsets)] \\\n",
    "                = a[tuple(np.s_[_mom(-o):_non(-o)] for o in offsets)]\n",
    "\n",
    "            return res\n",
    "\n",
    "        x_block, y_block = block_size\n",
    "        a = self.base[:-x_block, :-y_block]\n",
    "\n",
    "        return (\n",
    "            (_shift(a, (-x_block, -y_block)) - _shift(a, (-x_block, 0)))\n",
    "                - (_shift(a, (0, -y_block)) - _shift(a, (0, 0)))\n",
    "        )\n",
    "\n",
    "    def _rm_areas_comp(self,\n",
    "        block_size: Dimension):\n",
    "\n",
    "        x_max, y_max = self.base.shape\n",
    "        x_block, y_block = block_size\n",
    "\n",
    "\n",
    "        res = np.full(((x_max - x_block), (y_max - y_block)), fill_value=np.nan)\n",
    "        for x in range(x_max - x_block):\n",
    "            for y in range(y_max - y_block):\n",
    "                offset = Coordinate(x, y)\n",
    "                res[x, y] = self.area(\n",
    "                    offset=offset, \n",
    "                    block_size=block_size\n",
    "                )\n",
    "\n",
    "        return res\n",
    "\n",
    "    def areas(\n",
    "        self,\n",
    "        block_size: Dimension\n",
    "    ):\n",
    "        x_max, y_max = self.base.shape\n",
    "        x_block, y_block = block_size\n",
    "\n",
    "        for x in range(x_max - x_block):\n",
    "            for y in range(y_max - y_block):\n",
    "                offset = Coordinate(x, y)\n",
    "                yield offset, self.area(\n",
    "                    offset=offset, \n",
    "                    block_size=block_size\n",
    "                )\n",
    "\n",
    "\n",
    "\n",
    "\n",
    "\n",
    "\n",
    "\n",
    "\n",
    "\n",
    "\n",
    "class OccupancyMap:\n",
    "    def __init__(\n",
    "        self, \n",
    "        canvas: CanvasBase, \n",
    "        mask: typing.Union[np.typing.ArrayLike, None]=None\n",
    "    ):\n",
    "        self._canvas = canvas\n",
    "        self._mask = mask\n",
    "\n",
    "        self._data = None\n",
    "        def _f_update(_):\n",
    "            d = self._canvas.data_bilevel\n",
    "            if self._mask is not None:\n",
    "                d += self._mask\n",
    "            self._data = SummedAreaTable(d)\n",
    "        self._canvas.on_update(_f_update)\n",
    "\n",
    "    @property\n",
    "    def canvas(self) -> CanvasBase:\n",
    "        return self._canvas\n",
    "\n",
    "    # TODO caching\n",
    "    @property\n",
    "    def data(self) -> SummedAreaTable:\n",
    "        return self._data\n",
    "\n",
    "    def query_position(\n",
    "        self, \n",
    "        block_size: Dimension\n",
    "    ) -> typing.Iterator[Coordinate]:\n",
    "        for pos, area in self.data.areas(block_size):\n",
    "            # unoccupied area\n",
    "            if not area:\n",
    "                yield pos\n",
    "    \n",
    "    def sample_position(\n",
    "        self, \n",
    "        block_size: Dimension, \n",
    "        random_state: random.Random\n",
    "    ) -> Coordinate:\n",
    "        for x in self.query_position(block_size):\n",
    "            # TODO rm\n",
    "            #print('try', x)\n",
    "            if random_state.choice((True, False)):\n",
    "                return x\n",
    "\n",
    "\n",
    "class Range(typing.NamedTuple):\n",
    "    min: typing.Any\n",
    "    max: typing.Any\n",
    "\n",
    "    def has(self, n) -> bool:\n",
    "        return self.min <= n and n <= self.max\n",
    "\n",
    "    @property\n",
    "    def set(self): return self._replace\n",
    "\n",
    "\n",
    "\n",
    "\n",
    "\n",
    "class TextPlacement:\n",
    "    def __init__(self, \n",
    "        canvas: CanvasBase, \n",
    "        occupancy: OccupancyMap, \n",
    "        random_state: random.Random\n",
    "    ):\n",
    "        self.canvas = canvas\n",
    "        self.occupancy = occupancy\n",
    "        self.random_state = random_state\n",
    "\n",
    "    def add(\n",
    "        self, \n",
    "        text: str, \n",
    "        size_range: typing.Tuple[float, float], \n",
    "        size_step: float, \n",
    "\n",
    "        # TODO use range object\n",
    "        #rotation_range: range\n",
    "        rotation_range: typing.Tuple[float, float], \n",
    "        rotation_step: float, \n",
    "\n",
    "        rotation_prob: float,\n",
    "    ) -> TextSpec:\n",
    "        random_state = self.random_state\n",
    "        canvas = self.canvas\n",
    "        occupancy = self.occupancy\n",
    "        size_min, size_max = size_range\n",
    "        rotation_min, rotation_max = rotation_range\n",
    "\n",
    "        def _impl(size: float, rotation: float):\n",
    "            if size is None:\n",
    "                return None\n",
    "\n",
    "            if not (size_min <= size and size <= size_max):\n",
    "                return None\n",
    "\n",
    "            if not (rotation_min <= rotation and rotation <= rotation_max):\n",
    "                return None\n",
    "            \n",
    "            dim = canvas.text(TextSpec(\n",
    "                content=text, \n",
    "                size=size, \n",
    "                position=None, \n",
    "                rotation=rotation\n",
    "            ))\n",
    "\n",
    "            # TODO rm debug\n",
    "            #print('try', size, rotations)\n",
    "\n",
    "            # try to find a position\n",
    "            pos = occupancy.sample_position(dim, random_state=random_state)\n",
    "            if pos is not None:\n",
    "                return TextSpec(\n",
    "                    content=text,\n",
    "                    size=size, \n",
    "                    position=pos, \n",
    "                    rotation=rotation\n",
    "                )\n",
    "\n",
    "            # if we didn't find a place...\n",
    "            # first try to rotate!\n",
    "            res = _impl(\n",
    "                size=size, \n",
    "                rotation=rotation + rotation_step\n",
    "            )\n",
    "            if res is not None:\n",
    "                return res\n",
    "\n",
    "            # make font smaller\n",
    "            res = _impl(\n",
    "                size=size - size_step, \n",
    "                rotation=rotation\n",
    "            )\n",
    "            if res is not None:\n",
    "                return res\n",
    "\n",
    "            return None\n",
    "\n",
    "        # TODO rename prefer_horizontal\n",
    "        rotation_prob = prefer_horizontal\n",
    "\n",
    "        rotation = rotation_min\n",
    "        if random_state.random() < rotation_prob:\n",
    "            rotation = random_state.choice(\n",
    "                range(\n",
    "                    rotation_min, \n",
    "                    rotation_max + rotation_step, \n",
    "                    rotation_step\n",
    "                )\n",
    "            )\n",
    "        \n",
    "        return _impl(size=size_max, rotation=rotation)\n",
    "\n",
    "\n",
    "\n",
    "\n",
    "\n",
    "\n",
    "import collections.abc\n",
    "\n",
    "class FrequencyData(typing.NamedTuple):\n",
    "    word: str\n",
    "    frequency: float\n",
    "\n",
    "class DescendingFrequencyTable:\n",
    "    @staticmethod\n",
    "    def _sorted(a: collections.abc.Iterable[FrequencyData]):\n",
    "        return sorted(\n",
    "            a, \n",
    "            key=lambda x: x.frequency, \n",
    "            reverse=True\n",
    "        )\n",
    "\n",
    "    @classmethod\n",
    "    def from_iter(cls, a: collections.abc.Iterable):\n",
    "        return cls(map(lambda x: FrequencyData(**x), a))\n",
    "\n",
    "    try:\n",
    "        import pandas\n",
    "        @classmethod\n",
    "        def from_dataframe(cls, df: pandas.DataFrame):\n",
    "            return cls.from_iter(df.to_dict('records'))\n",
    "    except ModuleNotFoundError:\n",
    "        pass \n",
    "\n",
    "    def __init__(self, a: collections.abc.Iterable[FrequencyData]):\n",
    "        self.base = self._sorted(a)\n",
    "\n",
    "    def head(self, n):\n",
    "        inst = self.__new__(self.__class__)\n",
    "        inst.base = self.base[:n]\n",
    "        return inst\n",
    "\n",
    "    @property\n",
    "    def items(self):\n",
    "        return self.base\n",
    "\n",
    "        \n",
    "\n",
    "\n",
    "\n",
    "\n",
    "class WordCloud:\n",
    "    class TextParams(typing.TypedDict):\n",
    "        size_min: int\n",
    "        size_max: typing.Union[int, None]\n",
    "        size_step: int\n",
    "        size_rescaling: float\n",
    "\n",
    "    def __init__(\n",
    "        self, \n",
    "        canvas_backend: typing.Type[CanvasBase],\n",
    "        random_state: random.Random=random.Random()\n",
    "    ):\n",
    "        self.canvas_backend = canvas_backend\n",
    "        self.random_state = random_state\n",
    "\n",
    "    # mask: boolean mask\n",
    "    def _generate_layout(\n",
    "        self,\n",
    "        frequency_table: DescendingFrequencyTable, \n",
    "        canvas: CanvasBase,\n",
    "        bool_mask: typing.Union[np.typing.ArrayLike, None],\n",
    "        text_props: TextParams\n",
    "    ) -> typing.Iterator[TextSpec]:\n",
    "        random_state = self.random_state\n",
    "\n",
    "        occupancy = OccupancyMap(canvas, mask=bool_mask)\n",
    "        text_placement = TextPlacement(\n",
    "            canvas=canvas, \n",
    "            occupancy=occupancy, \n",
    "            random_state=random_state\n",
    "        )\n",
    "\n",
    "        last_freq = None\n",
    "\n",
    "        for word, freq in frequency_table.items:\n",
    "            if freq == 0:\n",
    "                continue\n",
    "\n",
    "            # select the text size\n",
    "            text_size_min, text_size_max = text_props['size_min'], text_props['size_max']\n",
    "            text_size_scaling = text_props['size_rescaling']\n",
    "            if last_freq is not None and text_size_scaling != 0:\n",
    "                text_size_max *= (\n",
    "                    text_size_scaling * (freq / float(last_freq))\n",
    "                        + (1 - text_size_scaling)\n",
    "                )\n",
    "\n",
    "            text_spec = text_placement.add(\n",
    "                text=word, \n",
    "                size_range=(text_size_min, text_size_max), \n",
    "                size_step=text_props['size_step'], \n",
    "                # TODO\n",
    "                rotation_range = (0, 90),\n",
    "                rotation_step = 90\n",
    "            )\n",
    "            # we were unable to draw any more\n",
    "            if text_spec is None:\n",
    "                break\n",
    "\n",
    "            # draw the text\n",
    "            canvas.text(text_spec)\n",
    "\n",
    "            # TODO rm debug\n",
    "            plt.imshow(canvas.data_rgba)\n",
    "            plt.suptitle(word)\n",
    "            plt.show()\n",
    "\n",
    "            yield text_spec\n",
    "\n",
    "            last_freq = freq\n",
    "\n",
    "    def draw(\n",
    "        self,\n",
    "        frequency_table: DescendingFrequencyTable, \n",
    "        canvas_props=dict(),\n",
    "        bool_mask=None,\n",
    "        text_props=dict()\n",
    "    ) -> CanvasBase:\n",
    "        text_props = self.TextParams(\n",
    "            prefer_horizontal=.5,\n",
    "            size_min=5., size_max=None,\n",
    "            size_step=1.,\n",
    "            size_rescaling=0.\n",
    "        )\n",
    "        text_props.update(text_props)\n",
    "\n",
    "        def _make_canvas():\n",
    "            return self.canvas_backend(**canvas_props)\n",
    "\n",
    "        def _find_text_size_max(n_samples):\n",
    "            nonlocal self, frequency_table, canvas_props\n",
    "\n",
    "            canvas = _make_canvas()\n",
    "\n",
    "            # maximum text size when horizontal\n",
    "            size_max = canvas.dimension.height\n",
    "\n",
    "            # we only have one word. We make it big!\n",
    "            if len(frequency_table.items) == 1:\n",
    "                return size_max\n",
    "\n",
    "            sizes = np.fromiter(map(\n",
    "                lambda x: x.size, \n",
    "                self._generate_layout(\n",
    "                    frequency_table=frequency_table.head(n=n_samples),\n",
    "                    canvas=canvas,\n",
    "                    bool_mask=bool_mask,\n",
    "                    text_props={\n",
    "                        **text_props,\n",
    "                        'size_max': size_max\n",
    "                    }\n",
    "                )\n",
    "            ), float)\n",
    "            \n",
    "            if len(sizes) < 1:\n",
    "                raise Exception('canvas out of space')\n",
    "\n",
    "            if len(sizes) == 1:\n",
    "                return sizes[0]\n",
    "\n",
    "            return 2 * np.prod(sizes) / np.sum(sizes)\n",
    "\n",
    "        if text_props.get('size_max', None) is None:\n",
    "            text_props['size_max'] = _find_text_size_max(\n",
    "                n_samples=2\n",
    "            )\n",
    "\n",
    "        canvas = _make_canvas()\n",
    "        layout = list(self._generate_layout(\n",
    "            frequency_table=frequency_table,\n",
    "            canvas=canvas,\n",
    "            bool_mask=bool_mask,\n",
    "            text_props=text_props\n",
    "        ))\n",
    "\n",
    "        # TODO\n",
    "        return canvas"
   ]
  },
  {
   "cell_type": "code",
   "execution_count": 69,
   "metadata": {},
   "outputs": [],
   "source": [
    "\n",
    "# see https://en.wikipedia.org/wiki/Summed-area_table\n",
    "class SummedAreaTable:\n",
    "    def __init__(self, a: np.typing.NDArray):\n",
    "        a = np.asarray(a)\n",
    "        self.base = np.apply_over_axes(\n",
    "            np.cumsum, \n",
    "            a, \n",
    "            axes=np.arange(2)\n",
    "        )\n",
    "\n",
    "    def area(\n",
    "        self,\n",
    "        offset: Coordinate,\n",
    "        block_size: Dimension\n",
    "    ):\n",
    "        x, y = offset\n",
    "        x_block, y_block = block_size\n",
    "\n",
    "        return (\n",
    "            (self.base[x + x_block, y + y_block] - self.base[x + x_block, y])\n",
    "                - (self.base[x, y + y_block] - self.base[x, y])\n",
    "        )\n",
    "\n",
    "    def areas(\n",
    "        self,\n",
    "        block_size: Dimension\n",
    "    ):\n",
    "        # see https://stackoverflow.com/a/27087513/11934495\n",
    "        def _shift(a, offsets, fill_value=np.nan):\n",
    "            _mom = lambda s: s if s > 0 else 0\n",
    "            _non = lambda s: s if s < 0 else None\n",
    "\n",
    "            res = np.full_like(a, fill_value=fill_value)\n",
    "            res[tuple(np.s_[_mom(o):_non(o)] for o in offsets)] \\\n",
    "                = a[tuple(np.s_[_mom(-o):_non(-o)] for o in offsets)]\n",
    "\n",
    "            return res\n",
    "\n",
    "        a = self.base\n",
    "        x_block, y_block = block_size\n",
    "        \n",
    "\n",
    "\n",
    "        return (\n",
    "            (a[x_block:, y_block:] - a[x_block:, :-y_block])\n",
    "                - (a[:-x_block, y_block:] - a[:-x_block, :-y_block])\n",
    "        )\n",
    "\n",
    "        return (\n",
    "            (_shift(a, (-x_block, -y_block)) - _shift(a, (-x_block, 0)))\n",
    "                - (_shift(a, (0, -y_block)) - _shift(a, (0, 0)))\n",
    "        )[:-x_block, :-y_block]\n",
    "\n",
    "\n",
    "    def _rm_areas_comp(self,\n",
    "        block_size: Dimension):\n",
    "\n",
    "        x_max, y_max = self.base.shape\n",
    "        x_block, y_block = block_size\n",
    "\n",
    "\n",
    "        res = np.full(((x_max - x_block), (y_max - y_block)), fill_value=np.nan)\n",
    "        for x in range(x_max - x_block):\n",
    "            for y in range(y_max - y_block):\n",
    "                offset = Coordinate(x, y)\n",
    "                res[x, y] = self.area(\n",
    "                    offset=offset, \n",
    "                    block_size=block_size\n",
    "                )\n",
    "\n",
    "        return res\n"
   ]
  },
  {
   "cell_type": "code",
   "execution_count": 70,
   "metadata": {},
   "outputs": [],
   "source": [
    "a = np.random.rand(640, 480)\n",
    "d = Dimension(10, 5)\n",
    "\n",
    "v = SummedAreaTable(a).areas(d)\n",
    "v_compr = SummedAreaTable(a)._rm_areas_comp(d)\n",
    "\n",
    "assert np.allclose(v, v_compr)"
   ]
  },
  {
   "cell_type": "code",
   "execution_count": 71,
   "metadata": {},
   "outputs": [
    {
     "name": "stdout",
     "output_type": "stream",
     "text": [
      "7.76 ms ± 376 µs per loop (mean ± std. dev. of 7 runs, 100 loops each)\n"
     ]
    }
   ],
   "source": [
    "%%timeit\n",
    "_ = SummedAreaTable(a).areas(d)"
   ]
  },
  {
   "cell_type": "code",
   "execution_count": 28,
   "metadata": {},
   "outputs": [
    {
     "data": {
      "text/plain": [
       "array([[nan, nan, nan, nan, nan, nan, nan, nan, nan, nan],\n",
       "       [nan, nan, nan, nan, nan, nan, nan, nan, nan, nan],\n",
       "       [nan, nan, nan, nan, nan, nan, nan, nan, nan, nan],\n",
       "       [nan, nan, nan, nan, nan, nan, nan, nan, nan, nan],\n",
       "       [nan, nan, nan, nan, nan, nan, nan, nan, nan, nan],\n",
       "       [nan, nan, nan, nan, nan, nan, nan, nan, nan, nan],\n",
       "       [nan, nan, nan, nan, nan, nan, nan, nan, nan, nan],\n",
       "       [nan, nan, nan, nan, nan, nan, nan, nan, nan, nan],\n",
       "       [nan, nan, nan, nan, nan, nan, nan, nan, nan, nan],\n",
       "       [nan, nan, nan, nan, nan, nan, nan, nan, nan, nan]])"
      ]
     },
     "execution_count": 28,
     "metadata": {},
     "output_type": "execute_result"
    }
   ],
   "source": [
    "np.full((10, 10), np.nan)"
   ]
  },
  {
   "cell_type": "code",
   "execution_count": 129,
   "metadata": {},
   "outputs": [
    {
     "ename": "TypeError",
     "evalue": "`pad_width` must be of integral type.",
     "output_type": "error",
     "traceback": [
      "\u001b[0;31m---------------------------------------------------------------------------\u001b[0m",
      "\u001b[0;31mTypeError\u001b[0m                                 Traceback (most recent call last)",
      "Cell \u001b[0;32mIn[129], line 4\u001b[0m\n\u001b[1;32m      1\u001b[0m \u001b[39mimport\u001b[39;00m \u001b[39mnumpy\u001b[39;00m \u001b[39mas\u001b[39;00m \u001b[39mnp\u001b[39;00m\n\u001b[1;32m      2\u001b[0m x \u001b[39m=\u001b[39m np\u001b[39m.\u001b[39marray([[\u001b[39m1\u001b[39m, \u001b[39m2\u001b[39m, \u001b[39m3\u001b[39m],[\u001b[39m4\u001b[39m, \u001b[39m5\u001b[39m, \u001b[39m6\u001b[39m]])\n\u001b[0;32m----> 4\u001b[0m np\u001b[39m.\u001b[39;49mpad(x,((np\u001b[39m.\u001b[39;49mnan,\u001b[39m0\u001b[39;49m),(\u001b[39m1\u001b[39;49m,\u001b[39m0\u001b[39;49m)), mode\u001b[39m=\u001b[39;49m\u001b[39m'\u001b[39;49m\u001b[39mconstant\u001b[39;49m\u001b[39m'\u001b[39;49m)\u001b[39m#[:, :-1]\u001b[39;00m\n",
      "File \u001b[0;32m<__array_function__ internals>:200\u001b[0m, in \u001b[0;36mpad\u001b[0;34m(*args, **kwargs)\u001b[0m\n",
      "File \u001b[0;32m~/.local/lib/python3.10/site-packages/numpy/lib/arraypad.py:741\u001b[0m, in \u001b[0;36mpad\u001b[0;34m(array, pad_width, mode, **kwargs)\u001b[0m\n\u001b[1;32m    738\u001b[0m pad_width \u001b[39m=\u001b[39m np\u001b[39m.\u001b[39masarray(pad_width)\n\u001b[1;32m    740\u001b[0m \u001b[39mif\u001b[39;00m \u001b[39mnot\u001b[39;00m pad_width\u001b[39m.\u001b[39mdtype\u001b[39m.\u001b[39mkind \u001b[39m==\u001b[39m \u001b[39m'\u001b[39m\u001b[39mi\u001b[39m\u001b[39m'\u001b[39m:\n\u001b[0;32m--> 741\u001b[0m     \u001b[39mraise\u001b[39;00m \u001b[39mTypeError\u001b[39;00m(\u001b[39m'\u001b[39m\u001b[39m`pad_width` must be of integral type.\u001b[39m\u001b[39m'\u001b[39m)\n\u001b[1;32m    743\u001b[0m \u001b[39m# Broadcast to shape (array.ndim, 2)\u001b[39;00m\n\u001b[1;32m    744\u001b[0m pad_width \u001b[39m=\u001b[39m _as_pairs(pad_width, array\u001b[39m.\u001b[39mndim, as_index\u001b[39m=\u001b[39m\u001b[39mTrue\u001b[39;00m)\n",
      "\u001b[0;31mTypeError\u001b[0m: `pad_width` must be of integral type."
     ]
    }
   ],
   "source": [
    "import numpy as np\n",
    "x = np.array([[1, 2, 3],[4, 5, 6]])\n",
    "\n",
    "np.pad(x,((np.nan,0),(1,0)), mode='constant')#[:, :-1]"
   ]
  },
  {
   "cell_type": "code",
   "execution_count": 123,
   "metadata": {},
   "outputs": [
    {
     "data": {
      "image/png": "[encoded data removed]",
      "text/plain": [
       "<Figure size 640x480 with 1 Axes>"
      ]
     },
     "metadata": {},
     "output_type": "display_data"
    },
    {
     "data": {
      "image/png": "[encoded data removed]",
      "text/plain": [
       "<Figure size 640x480 with 1 Axes>"
      ]
     },
     "metadata": {},
     "output_type": "display_data"
    },
    {
     "data": {
      "image/png": "[encoded data removed]",
      "text/plain": [
       "<Figure size 640x480 with 1 Axes>"
      ]
     },
     "metadata": {},
     "output_type": "display_data"
    },
    {
     "data": {
      "image/png": "[encoded data removed]",
      "text/plain": [
       "<Figure size 640x480 with 1 Axes>"
      ]
     },
     "metadata": {},
     "output_type": "display_data"
    },
    {
     "data": {
      "image/png": "[encoded data removed]",
      "text/plain": [
       "<Figure size 640x480 with 1 Axes>"
      ]
     },
     "metadata": {},
     "output_type": "display_data"
    }
   ],
   "source": [
    "wc = WordCloud(canvas_backend=Canvas)\n",
    "\n",
    "c = wc.draw(\n",
    "    frequency_table=DescendingFrequencyTable([\n",
    "        FrequencyData('test', 1),\n",
    "        FrequencyData('this', 10),\n",
    "        FrequencyData('more', 5),\n",
    "    ])\n",
    ")\n",
    "#plt.imshow(c.data_rgba)"
   ]
  },
  {
   "cell_type": "code",
   "execution_count": 31,
   "metadata": {},
   "outputs": [
    {
     "name": "stdout",
     "output_type": "stream",
     "text": [
      "[[1 2 3]\n",
      " [4 5 6]\n",
      " [7 8 9]]\n",
      "[[7 8 9]\n",
      " [4 5 6]\n",
      " [1 2 3]]\n"
     ]
    }
   ],
   "source": [
    "import numpy as np\n",
    "\n",
    "x=np.array([[1,2,3],[4,5,6],[7,8,9]]).view()\n",
    "print(x)\n",
    "print(x[::-1,:])"
   ]
  },
  {
   "cell_type": "code",
   "execution_count": null,
   "metadata": {},
   "outputs": [],
   "source": [
    "fff.transSubfigure"
   ]
  },
  {
   "cell_type": "code",
   "execution_count": 3,
   "metadata": {},
   "outputs": [
    {
     "ename": "NameError",
     "evalue": "name 'fff' is not defined",
     "output_type": "error",
     "traceback": [
      "\u001b[0;31m---------------------------------------------------------------------------\u001b[0m",
      "\u001b[0;31mNameError\u001b[0m                                 Traceback (most recent call last)",
      "Cell \u001b[0;32mIn[3], line 1\u001b[0m\n\u001b[0;32m----> 1\u001b[0m fff\u001b[39m.\u001b[39mbbox\n",
      "\u001b[0;31mNameError\u001b[0m: name 'fff' is not defined"
     ]
    }
   ],
   "source": [
    "fff.bbox"
   ]
  },
  {
   "cell_type": "code",
   "execution_count": null,
   "metadata": {},
   "outputs": [
    {
     "data": {
      "text/plain": [
       "(1.0, 1.0, 1.0, 1.0)"
      ]
     },
     "execution_count": 488,
     "metadata": {},
     "output_type": "execute_result"
    }
   ],
   "source": [
    "fff.get_facecolor()"
   ]
  },
  {
   "cell_type": "code",
   "execution_count": null,
   "metadata": {},
   "outputs": [
    {
     "data": {
      "text/plain": [
       "matplotlib.text.Annotation"
      ]
     },
     "execution_count": 463,
     "metadata": {},
     "output_type": "execute_result"
    }
   ],
   "source": [
    "mpl.text.Annotation()"
   ]
  },
  {
   "cell_type": "code",
   "execution_count": 17,
   "metadata": {},
   "outputs": [],
   "source": [
    "fff = mpl.figure.Figure()\n",
    "canvas = mpl.backends.backend_agg.FigureCanvas(fff)"
   ]
  },
  {
   "cell_type": "code",
   "execution_count": null,
   "metadata": {},
   "outputs": [
    {
     "data": {
      "text/plain": [
       "Text(10, 300, 'yeehaw')"
      ]
     },
     "execution_count": 484,
     "metadata": {},
     "output_type": "execute_result"
    }
   ],
   "source": [
    "fff.add_artist(mpl.text.Text(10, 300, 'yeehaw', transform=None))"
   ]
  },
  {
   "cell_type": "code",
   "execution_count": null,
   "metadata": {},
   "outputs": [
    {
     "data": {
      "text/plain": [
       "640.0"
      ]
     },
     "execution_count": 477,
     "metadata": {},
     "output_type": "execute_result"
    }
   ],
   "source": [
    "fff.bbox.width"
   ]
  },
  {
   "cell_type": "code",
   "execution_count": null,
   "metadata": {},
   "outputs": [
    {
     "data": {
      "text/plain": [
       "<matplotlib.image.AxesImage at 0x7f7552648370>"
      ]
     },
     "execution_count": 485,
     "metadata": {},
     "output_type": "execute_result"
    },
    {
     "data": {
      "image/png": "[encoded data removed]",
      "text/plain": [
       "<Figure size 640x480 with 1 Axes>"
      ]
     },
     "metadata": {},
     "output_type": "display_data"
    }
   ],
   "source": [
    "canvas.draw()\n",
    "\n",
    "plt.imshow(canvas.buffer_rgba())"
   ]
  },
  {
   "cell_type": "code",
   "execution_count": null,
   "metadata": {},
   "outputs": [
    {
     "data": {
      "text/plain": [
       "<matplotlib.image.AxesImage at 0x7f75422e0fd0>"
      ]
     },
     "execution_count": 437,
     "metadata": {},
     "output_type": "execute_result"
    },
    {
     "data": {
      "image/png": "[encoded data removed]",
      "text/plain": [
       "<Figure size 640x480 with 1 Axes>"
      ]
     },
     "metadata": {},
     "output_type": "display_data"
    }
   ],
   "source": [
    "plt.imshow(canvas.copy_from_bbox(fff.bbox))"
   ]
  },
  {
   "cell_type": "code",
   "execution_count": null,
   "metadata": {},
   "outputs": [],
   "source": [
    "t = fff.text(0, 0, 'test')"
   ]
  },
  {
   "cell_type": "code",
   "execution_count": null,
   "metadata": {},
   "outputs": [
    {
     "data": {
      "text/plain": [
       "-0.03"
      ]
     },
     "execution_count": 431,
     "metadata": {},
     "output_type": "execute_result"
    }
   ],
   "source": [
    "fff.get_tightbbox().y0"
   ]
  },
  {
   "cell_type": "code",
   "execution_count": null,
   "metadata": {},
   "outputs": [
    {
     "data": {
      "text/plain": [
       "-3.0"
      ]
     },
     "execution_count": 428,
     "metadata": {},
     "output_type": "execute_result"
    }
   ],
   "source": [
    "t.get_window_extent().y0"
   ]
  },
  {
   "cell_type": "code",
   "execution_count": null,
   "metadata": {},
   "outputs": [],
   "source": [
    "canvas.print_png('/tmp/testa.png')"
   ]
  },
  {
   "cell_type": "code",
   "execution_count": null,
   "metadata": {},
   "outputs": [
    {
     "ename": "AttributeError",
     "evalue": "'FigureCanvasAgg' object has no attribute 'renderer'",
     "output_type": "error",
     "traceback": [
      "\u001b[0;31m---------------------------------------------------------------------------\u001b[0m",
      "\u001b[0;31mAttributeError\u001b[0m                            Traceback (most recent call last)",
      "Cell \u001b[0;32mIn[412], line 1\u001b[0m\n\u001b[0;32m----> 1\u001b[0m fff\u001b[39m.\u001b[39;49mcanvas\u001b[39m.\u001b[39;49mtostring_rgb()\n",
      "File \u001b[0;32m~/.local/lib/python3.10/site-packages/matplotlib/backends/backend_agg.py:429\u001b[0m, in \u001b[0;36mFigureCanvasAgg.tostring_rgb\u001b[0;34m(self)\u001b[0m\n\u001b[1;32m    422\u001b[0m \u001b[39mdef\u001b[39;00m \u001b[39mtostring_rgb\u001b[39m(\u001b[39mself\u001b[39m):\n\u001b[1;32m    423\u001b[0m     \u001b[39m\"\"\"\u001b[39;00m\n\u001b[1;32m    424\u001b[0m \u001b[39m    Get the image as RGB `bytes`.\u001b[39;00m\n\u001b[1;32m    425\u001b[0m \n\u001b[1;32m    426\u001b[0m \u001b[39m    `draw` must be called at least once before this function will work and\u001b[39;00m\n\u001b[1;32m    427\u001b[0m \u001b[39m    to update the renderer for any subsequent changes to the Figure.\u001b[39;00m\n\u001b[1;32m    428\u001b[0m \u001b[39m    \"\"\"\u001b[39;00m\n\u001b[0;32m--> 429\u001b[0m     \u001b[39mreturn\u001b[39;00m \u001b[39mself\u001b[39;49m\u001b[39m.\u001b[39;49mrenderer\u001b[39m.\u001b[39mtostring_rgb()\n",
      "\u001b[0;31mAttributeError\u001b[0m: 'FigureCanvasAgg' object has no attribute 'renderer'"
     ]
    }
   ],
   "source": [
    "fff.canvas.tostring_rgb()"
   ]
  },
  {
   "cell_type": "code",
   "execution_count": null,
   "metadata": {},
   "outputs": [],
   "source": []
  },
  {
   "cell_type": "code",
   "execution_count": null,
   "metadata": {},
   "outputs": [
    {
     "ename": "AttributeError",
     "evalue": "'FigureCanvasAgg' object has no attribute 'renderer'",
     "output_type": "error",
     "traceback": [
      "\u001b[0;31m---------------------------------------------------------------------------\u001b[0m",
      "\u001b[0;31mAttributeError\u001b[0m                            Traceback (most recent call last)",
      "Cell \u001b[0;32mIn[411], line 1\u001b[0m\n\u001b[0;32m----> 1\u001b[0m plt\u001b[39m.\u001b[39mimshow(fff\u001b[39m.\u001b[39;49mcanvas\u001b[39m.\u001b[39;49mbuffer_rgba())\n",
      "File \u001b[0;32m~/.local/lib/python3.10/site-packages/matplotlib/backends/backend_agg.py:447\u001b[0m, in \u001b[0;36mFigureCanvasAgg.buffer_rgba\u001b[0;34m(self)\u001b[0m\n\u001b[1;32m    440\u001b[0m \u001b[39mdef\u001b[39;00m \u001b[39mbuffer_rgba\u001b[39m(\u001b[39mself\u001b[39m):\n\u001b[1;32m    441\u001b[0m     \u001b[39m\"\"\"\u001b[39;00m\n\u001b[1;32m    442\u001b[0m \u001b[39m    Get the image as a `memoryview` to the renderer's buffer.\u001b[39;00m\n\u001b[1;32m    443\u001b[0m \n\u001b[1;32m    444\u001b[0m \u001b[39m    `draw` must be called at least once before this function will work and\u001b[39;00m\n\u001b[1;32m    445\u001b[0m \u001b[39m    to update the renderer for any subsequent changes to the Figure.\u001b[39;00m\n\u001b[1;32m    446\u001b[0m \u001b[39m    \"\"\"\u001b[39;00m\n\u001b[0;32m--> 447\u001b[0m     \u001b[39mreturn\u001b[39;00m \u001b[39mself\u001b[39;49m\u001b[39m.\u001b[39;49mrenderer\u001b[39m.\u001b[39mbuffer_rgba()\n",
      "\u001b[0;31mAttributeError\u001b[0m: 'FigureCanvasAgg' object has no attribute 'renderer'"
     ]
    }
   ],
   "source": [
    "plt.imshow(fff.canvas.buffer_rgba())"
   ]
  },
  {
   "cell_type": "code",
   "execution_count": null,
   "metadata": {},
   "outputs": [
    {
     "data": {
      "text/plain": [
       "<bound method FigureBase.text of <Figure size 640x480 with 1 Axes>>"
      ]
     },
     "execution_count": 387,
     "metadata": {},
     "output_type": "execute_result"
    }
   ],
   "source": [
    "c.fig.text"
   ]
  },
  {
   "cell_type": "code",
   "execution_count": null,
   "metadata": {},
   "outputs": [
    {
     "name": "stdout",
     "output_type": "stream",
     "text": [
      "61.7 ns ± 1.24 ns per loop (mean ± std. dev. of 7 runs, 10,000,000 loops each)\n"
     ]
    }
   ],
   "source": [
    "%%timeit\n",
    "c.fig.canvas.renderer"
   ]
  },
  {
   "cell_type": "code",
   "execution_count": 15,
   "metadata": {},
   "outputs": [
    {
     "data": {
      "text/plain": [
       "(0.0, 240.0, 320.0, 240.0)"
      ]
     },
     "execution_count": 15,
     "metadata": {},
     "output_type": "execute_result"
    }
   ],
   "source": [
    "sub.bbox.bounds"
   ]
  },
  {
   "cell_type": "code",
   "execution_count": 16,
   "metadata": {},
   "outputs": [
    {
     "data": {
      "text/plain": [
       "(0.0, 0.0, 640.0, 480.0)"
      ]
     },
     "execution_count": 16,
     "metadata": {},
     "output_type": "execute_result"
    }
   ],
   "source": [
    "fig.bbox.bounds"
   ]
  },
  {
   "cell_type": "code",
   "execution_count": 24,
   "metadata": {},
   "outputs": [
    {
     "data": {
      "image/png": "[encoded data removed]",
      "text/plain": [
       "<Figure size 640x480 with 1 Axes>"
      ]
     },
     "metadata": {},
     "output_type": "display_data"
    }
   ],
   "source": [
    "fig = plt.figure()\n",
    "subfigs = fig.subfigures(2, 2)\n",
    "sub = subfigs.flatten()[0]\n",
    "\n",
    "sub.suptitle('yeehaw')\n",
    "\n",
    "csub = Canvas(figure=sub)\n",
    "csub.text(TextSpec('tis a test', size=None, position=Coordinate(200, 0), rotation=None))\n",
    "\n",
    "plt.text(0, 0, '')\n",
    "plt.show()"
   ]
  },
  {
   "cell_type": "code",
   "execution_count": 30,
   "metadata": {},
   "outputs": [
    {
     "data": {
      "image/png": "[encoded data removed]",
      "text/plain": [
       "<Figure size 640x480 with 1 Axes>"
      ]
     },
     "metadata": {},
     "output_type": "display_data"
    }
   ],
   "source": [
    "_f = plt.figure()\n",
    "\n",
    "_f.suptitle('yeet')\n",
    "Canvas(figure=_f).text(TextSpec('tis a test', size=None, position=Coordinate(200, 0), rotation=None))\n",
    "\n",
    "plt.text(0, 0, '')\n",
    "plt.show()"
   ]
  },
  {
   "cell_type": "code",
   "execution_count": 10,
   "metadata": {},
   "outputs": [
    {
     "data": {
      "image/png": "[encoded data removed]",
      "text/plain": [
       "<Figure size 640x480 with 1 Axes>"
      ]
     },
     "metadata": {},
     "output_type": "display_data"
    }
   ],
   "source": [
    "\n",
    "f = plt.figure()\n",
    "plt.text(0, 0, 'hehe')\n",
    "f.draw_artist(f.text(0, 0, 'hehe'))\n",
    "plt.show()\n"
   ]
  },
  {
   "cell_type": "code",
   "execution_count": 5,
   "metadata": {},
   "outputs": [
    {
     "data": {
      "text/plain": [
       "'module://matplotlib_inline.backend_inline'"
      ]
     },
     "execution_count": 5,
     "metadata": {},
     "output_type": "execute_result"
    }
   ],
   "source": [
    "mpl.backends.backend"
   ]
  },
  {
   "cell_type": "code",
   "execution_count": null,
   "metadata": {},
   "outputs": [
    {
     "data": {
      "text/plain": [
       "[]"
      ]
     },
     "execution_count": 537,
     "metadata": {},
     "output_type": "execute_result"
    }
   ],
   "source": [
    "fig.axes"
   ]
  },
  {
   "cell_type": "code",
   "execution_count": null,
   "metadata": {},
   "outputs": [
    {
     "data": {
      "text/plain": [
       "[<AxesSubplot: >]"
      ]
     },
     "execution_count": 536,
     "metadata": {},
     "output_type": "execute_result"
    }
   ],
   "source": [
    "f.axes"
   ]
  },
  {
   "cell_type": "code",
   "execution_count": 21,
   "metadata": {},
   "outputs": [],
   "source": [
    "ffff = mpl.figure.Figure(canvas=mpl.backends.backend_agg.FigureCanvas())\n"
   ]
  },
  {
   "cell_type": "code",
   "execution_count": null,
   "metadata": {},
   "outputs": [],
   "source": [
    "ffff.dpi_scale_trans.inverted()"
   ]
  },
  {
   "cell_type": "code",
   "execution_count": 23,
   "metadata": {},
   "outputs": [
    {
     "name": "stdout",
     "output_type": "stream",
     "text": [
      "(0.0, 0.0, 640.0, 480.0) (0.0, 0.0, 640.0, 480.0) None\n",
      "(0.0, 0.0, 640.0, 480.0) (0.0, 0.0, 640.0, 480.0) (640.0, 480.0, 100.0)\n"
     ]
    },
    {
     "data": {
      "image/png": "[encoded data removed]",
      "text/plain": [
       "<Figure size 640x480 with 1 Axes>"
      ]
     },
     "metadata": {},
     "output_type": "display_data"
    },
    {
     "name": "stdout",
     "output_type": "stream",
     "text": [
      "(0.0, 0.0, 640.0, 480.0) (0.0, 0.0, 640.0, 480.0) (640.0, 480.0, 100.0)\n",
      "(0.0, 0.0, 640.0, 480.0) (0.0, 0.0, 640.0, 480.0) (640.0, 480.0, 100.0)\n"
     ]
    },
    {
     "data": {
      "image/png": "[encoded data removed]",
      "text/plain": [
       "<Figure size 640x480 with 1 Axes>"
      ]
     },
     "metadata": {},
     "output_type": "display_data"
    },
    {
     "name": "stdout",
     "output_type": "stream",
     "text": [
      "(0.0, 0.0, 640.0, 480.0) (0.0, 0.0, 640.0, 480.0) (640.0, 480.0, 100.0)\n"
     ]
    }
   ],
   "source": [
    "\n",
    "c = Canvas(figure=mpl.backends.backend_agg.FigureCanvas(figure=mpl.figure.Figure()).figure)\n",
    "\n",
    "#c._ax.axis('off')\n",
    "\n",
    "c_stats = lambda: print(c._base.figure.bbox.bounds, c._base.figure.canvas.figure.bbox.bounds, c._base.figure.canvas._lastKey)\n",
    "\n",
    "\n",
    "c_stats()\n",
    "#c.text(TextSpec('tis a test', size=None, position=(0, 0), rotation=None))\n",
    "#c_stats()\n",
    "#c.text(TextSpec('tis a test', size=None, position=(10, 10), rotation=None))\n",
    "#c_stats()\n",
    "#c.text(TextSpec('tis a test', size=None, position=(100, 100), rotation=None))\n",
    "#c_stats()\n",
    "#c.text(TextSpec('tis a test', size=None, position=(640 - 100, 480 - 100), rotation=None))\n",
    "#c_stats()\n",
    "c.text(TextSpec('tis a test', size=None, position=Coordinate(200, 0), rotation=None))\n",
    "c_stats()\n",
    "plt.imshow(c.data_rgba)\n",
    "plt.show()\n",
    "\n",
    "c.text(TextSpec('tis a test', size=None, position=Coordinate(0, 480 - 200), rotation=None))\n",
    "c_stats()\n",
    "\n",
    "\n",
    "c.data_rgba\n",
    "c_stats()\n",
    "\n",
    "plt.imshow(c.data_rgba)\n",
    "plt.show()\n",
    "c_stats()"
   ]
  },
  {
   "cell_type": "code",
   "execution_count": null,
   "metadata": {},
   "outputs": [
    {
     "name": "stdout",
     "output_type": "stream",
     "text": [
      "(0.0, 0.0, 640.0, 480.0) (0.0, 0.0, 640.0, 480.0) (640.0, 480.0, 100.0)\n"
     ]
    },
    {
     "data": {
      "image/png": "[encoded data removed]",
      "text/plain": [
       "<Figure size 640x480 with 1 Axes>"
      ]
     },
     "metadata": {},
     "output_type": "display_data"
    }
   ],
   "source": [
    "c.text(TextSpec('tis a test', size=480, position=Coordinate(0, 0), rotation=None))\n",
    "c_stats()\n",
    "plt.imshow(c.data_rgba)\n",
    "plt.show()"
   ]
  },
  {
   "cell_type": "code",
   "execution_count": null,
   "metadata": {},
   "outputs": [
    {
     "name": "stdout",
     "output_type": "stream",
     "text": [
      "33.2 µs ± 286 ns per loop (mean ± std. dev. of 7 runs, 10,000 loops each)\n"
     ]
    }
   ],
   "source": [
    "%%timeit\n",
    "_ = c.data_rgba"
   ]
  },
  {
   "cell_type": "code",
   "execution_count": null,
   "metadata": {},
   "outputs": [
    {
     "name": "stdout",
     "output_type": "stream",
     "text": [
      "3.42 ms ± 111 µs per loop (mean ± std. dev. of 7 runs, 100 loops each)\n"
     ]
    }
   ],
   "source": [
    "%%timeit\n",
    "_ = c.data_bilevel"
   ]
  },
  {
   "cell_type": "code",
   "execution_count": null,
   "metadata": {},
   "outputs": [
    {
     "name": "stdout",
     "output_type": "stream",
     "text": [
      "292 ns ± 20 ns per loop (mean ± std. dev. of 7 runs, 1,000,000 loops each)\n"
     ]
    }
   ],
   "source": [
    "%%timeit\n",
    "c.fig.canvas.buffer_rgba()"
   ]
  },
  {
   "cell_type": "code",
   "execution_count": null,
   "metadata": {},
   "outputs": [
    {
     "data": {
      "text/plain": [
       "<matplotlib.image.AxesImage at 0x7f7543ba4760>"
      ]
     },
     "execution_count": 302,
     "metadata": {},
     "output_type": "execute_result"
    },
    {
     "data": {
      "image/png": "[encoded data removed]",
      "text/plain": [
       "<Figure size 640x480 with 1 Axes>"
      ]
     },
     "metadata": {},
     "output_type": "display_data"
    }
   ],
   "source": [
    "#%%timeit\n",
    "plt.imshow(c.fig.canvas.buffer_rgba())"
   ]
  },
  {
   "cell_type": "code",
   "execution_count": null,
   "metadata": {},
   "outputs": [
    {
     "data": {
      "text/plain": [
       "(80.0, 576.0)"
      ]
     },
     "execution_count": 326,
     "metadata": {},
     "output_type": "execute_result"
    }
   ],
   "source": [
    "c.ax.bbox.x0, c.ax.bbox.x1"
   ]
  },
  {
   "cell_type": "code",
   "execution_count": null,
   "metadata": {},
   "outputs": [
    {
     "data": {
      "text/plain": [
       "(52.8, 422.4)"
      ]
     },
     "execution_count": 327,
     "metadata": {},
     "output_type": "execute_result"
    }
   ],
   "source": [
    "c.ax.bbox.y0, c.ax.bbox.y1"
   ]
  },
  {
   "cell_type": "code",
   "execution_count": null,
   "metadata": {},
   "outputs": [
    {
     "data": {
      "text/plain": [
       "80.0"
      ]
     },
     "execution_count": 317,
     "metadata": {},
     "output_type": "execute_result"
    }
   ],
   "source": [
    "c.ax.bbox.x0"
   ]
  },
  {
   "cell_type": "code",
   "execution_count": null,
   "metadata": {},
   "outputs": [
    {
     "data": {
      "image/png": "[encoded data removed]",
      "text/plain": [
       "<Figure size 640x480 with 1 Axes>"
      ]
     },
     "execution_count": 533,
     "metadata": {},
     "output_type": "execute_result"
    },
    {
     "data": {
      "image/png": "[encoded data removed]",
      "text/plain": [
       "<Figure size 640x480 with 1 Axes>"
      ]
     },
     "metadata": {},
     "output_type": "display_data"
    },
    {
     "data": {
      "image/png": "[encoded data removed]",
      "text/plain": [
       "<Figure size 640x480 with 1 Axes>"
      ]
     },
     "metadata": {},
     "output_type": "display_data"
    }
   ],
   "source": [
    "import matplotlib.pyplot as plt\n",
    "\n",
    "f = plt.figure()\n",
    "ax = f.add_subplot(111)\n",
    "ax.plot([0,10], [4,0])\n",
    "\n",
    "t = ax.text(3.2, 2.1, \"testing...\")\n",
    "t.set_rotation('horizontal')\n",
    "\n",
    "import copy\n",
    "\n",
    "f_ = copy.deepcopy(t.figure)\n",
    "t.figure"
   ]
  },
  {
   "cell_type": "code",
   "execution_count": null,
   "metadata": {},
   "outputs": [
    {
     "data": {
      "text/plain": [
       "Text(0, 0, 'haha')"
      ]
     },
     "execution_count": 373,
     "metadata": {},
     "output_type": "execute_result"
    }
   ],
   "source": [
    "f_.text(0, 0, 'haha')"
   ]
  },
  {
   "cell_type": "code",
   "execution_count": null,
   "metadata": {},
   "outputs": [],
   "source": [
    "_ = f_"
   ]
  },
  {
   "cell_type": "code",
   "execution_count": null,
   "metadata": {},
   "outputs": [
    {
     "data": {
      "text/plain": [
       "(0.0, 0.0, 640.0, 480.0)"
      ]
     },
     "execution_count": 356,
     "metadata": {},
     "output_type": "execute_result"
    }
   ],
   "source": [
    "f.bbox.bounds\n",
    "f.canvas.figure.bbox.bounds"
   ]
  },
  {
   "cell_type": "code",
   "execution_count": null,
   "metadata": {},
   "outputs": [
    {
     "data": {
      "text/plain": [
       "Bbox([[48.27777777777777, 29.077777777777776], [587.0, 427.9]])"
      ]
     },
     "execution_count": 313,
     "metadata": {},
     "output_type": "execute_result"
    }
   ],
   "source": [
    "c.ax.get_tightbbox()"
   ]
  },
  {
   "cell_type": "code",
   "execution_count": null,
   "metadata": {},
   "outputs": [
    {
     "data": {
      "text/plain": [
       "<matplotlib.image.AxesImage at 0x7f7543620f70>"
      ]
     },
     "execution_count": 323,
     "metadata": {},
     "output_type": "execute_result"
    },
    {
     "data": {
      "image/png": "[encoded data removed]",
      "text/plain": [
       "<Figure size 640x480 with 1 Axes>"
      ]
     },
     "metadata": {},
     "output_type": "display_data"
    }
   ],
   "source": [
    "plt.imshow(c._renderer.buffer_rgba())"
   ]
  },
  {
   "cell_type": "code",
   "execution_count": null,
   "metadata": {},
   "outputs": [
    {
     "data": {
      "text/plain": [
       "<matplotlib.image.AxesImage at 0x7f7543efe2f0>"
      ]
     },
     "execution_count": 340,
     "metadata": {},
     "output_type": "execute_result"
    },
    {
     "data": {
      "image/png": "[encoded data removed]",
      "text/plain": [
       "<Figure size 640x480 with 1 Axes>"
      ]
     },
     "metadata": {},
     "output_type": "display_data"
    }
   ],
   "source": [
    "plt.imshow(c.data_rgba)"
   ]
  },
  {
   "cell_type": "code",
   "execution_count": null,
   "metadata": {},
   "outputs": [
    {
     "data": {
      "text/plain": [
       "<matplotlib.image.AxesImage at 0x7f75423897b0>"
      ]
     },
     "execution_count": 381,
     "metadata": {},
     "output_type": "execute_result"
    },
    {
     "data": {
      "image/png": "[encoded data removed]",
      "text/plain": [
       "<Figure size 640x480 with 1 Axes>"
      ]
     },
     "metadata": {},
     "output_type": "display_data"
    }
   ],
   "source": [
    "plt.imshow(c.data_bilevel)"
   ]
  },
  {
   "cell_type": "code",
   "execution_count": null,
   "metadata": {},
   "outputs": [
    {
     "name": "stdout",
     "output_type": "stream",
     "text": [
      "(80.0, 52.8, 496.0, 369.59999999999997)\n",
      "(80.0, 52.8, 496.0, 369.59999999999997)\n",
      "(80.0, 52.8, 496.0, 369.59999999999997)\n",
      "(80.0, 52.8, 496.0, 369.59999999999997)\n",
      "(80.0, 52.8, 496.0, 369.59999999999997)\n",
      "(80.0, 52.8, 496.0, 369.59999999999997)\n",
      "(80.0, 52.8, 496.0, 369.59999999999997)\n",
      "(80.0, 52.8, 496.0, 369.59999999999997)\n",
      "(80.0, 52.8, 496.0, 369.59999999999997)\n",
      "(80.0, 52.8, 496.0, 369.59999999999997)\n",
      "(80.0, 52.8, 496.0, 369.59999999999997)\n",
      "(80.0, 52.8, 496.0, 369.59999999999997)\n",
      "(80.0, 52.8, 496.0, 369.59999999999997)\n",
      "(80.0, 52.8, 496.0, 369.59999999999997)\n",
      "(80.0, 52.8, 496.0, 369.59999999999997)\n",
      "(80.0, 52.8, 496.0, 369.59999999999997)\n",
      "(80.0, 52.8, 496.0, 369.59999999999997)\n",
      "(80.0, 52.8, 496.0, 369.59999999999997)\n",
      "(80.0, 52.8, 496.0, 369.59999999999997)\n",
      "(80.0, 52.8, 496.0, 369.59999999999997)\n",
      "(80.0, 52.8, 496.0, 369.59999999999997)\n",
      "(80.0, 52.8, 496.0, 369.59999999999997)\n",
      "(80.0, 52.8, 496.0, 369.59999999999997)\n",
      "(80.0, 52.8, 496.0, 369.59999999999997)\n",
      "(80.0, 52.8, 496.0, 369.59999999999997)\n",
      "(80.0, 52.8, 496.0, 369.59999999999997)\n",
      "(80.0, 52.8, 496.0, 369.59999999999997)\n",
      "(80.0, 52.8, 496.0, 369.59999999999997)\n",
      "(80.0, 52.8, 496.0, 369.59999999999997)\n",
      "(80.0, 52.8, 496.0, 369.59999999999997)\n",
      "(80.0, 52.8, 496.0, 369.59999999999997)\n",
      "(80.0, 52.8, 496.0, 369.59999999999997)\n",
      "(80.0, 52.8, 496.0, 369.59999999999997)\n",
      "(80.0, 52.8, 496.0, 369.59999999999997)\n",
      "(80.0, 52.8, 496.0, 369.59999999999997)\n",
      "(80.0, 52.8, 496.0, 369.59999999999997)\n",
      "(80.0, 52.8, 496.0, 369.59999999999997)\n",
      "(80.0, 52.8, 496.0, 369.59999999999997)\n",
      "(80.0, 52.8, 496.0, 369.59999999999997)\n",
      "(80.0, 52.8, 496.0, 369.59999999999997)\n",
      "(80.0, 52.8, 496.0, 369.59999999999997)\n",
      "(80.0, 52.8, 496.0, 369.59999999999997)\n",
      "(80.0, 52.8, 496.0, 369.59999999999997)\n",
      "(80.0, 52.8, 496.0, 369.59999999999997)\n",
      "(80.0, 52.8, 496.0, 369.59999999999997)\n",
      "(80.0, 52.8, 496.0, 369.59999999999997)\n",
      "(80.0, 52.8, 496.0, 369.59999999999997)\n",
      "(80.0, 52.8, 496.0, 369.59999999999997)\n",
      "(80.0, 52.8, 496.0, 369.59999999999997)\n",
      "(80.0, 52.8, 496.0, 369.59999999999997)\n",
      "(80.0, 52.8, 496.0, 369.59999999999997)\n",
      "(80.0, 52.8, 496.0, 369.59999999999997)\n",
      "(80.0, 52.8, 496.0, 369.59999999999997)\n",
      "(80.0, 52.8, 496.0, 369.59999999999997)\n",
      "(80.0, 52.8, 496.0, 369.59999999999997)\n",
      "(80.0, 52.8, 496.0, 369.59999999999997)\n",
      "(80.0, 52.8, 496.0, 369.59999999999997)\n",
      "(80.0, 52.8, 496.0, 369.59999999999997)\n",
      "(80.0, 52.8, 496.0, 369.59999999999997)\n",
      "(80.0, 52.8, 496.0, 369.59999999999997)\n",
      "(80.0, 52.8, 496.0, 369.59999999999997)\n",
      "(80.0, 52.8, 496.0, 369.59999999999997)\n",
      "(80.0, 52.8, 496.0, 369.59999999999997)\n",
      "(80.0, 52.8, 496.0, 369.59999999999997)\n",
      "(80.0, 52.8, 496.0, 369.59999999999997)\n",
      "(80.0, 52.8, 496.0, 369.59999999999997)\n",
      "(80.0, 52.8, 496.0, 369.59999999999997)\n",
      "(80.0, 52.8, 496.0, 369.59999999999997)\n",
      "(80.0, 52.8, 496.0, 369.59999999999997)\n",
      "(80.0, 52.8, 496.0, 369.59999999999997)\n",
      "(80.0, 52.8, 496.0, 369.59999999999997)\n",
      "(80.0, 52.8, 496.0, 369.59999999999997)\n",
      "(80.0, 52.8, 496.0, 369.59999999999997)\n",
      "(80.0, 52.8, 496.0, 369.59999999999997)\n",
      "(80.0, 52.8, 496.0, 369.59999999999997)\n",
      "(80.0, 52.8, 496.0, 369.59999999999997)\n",
      "(80.0, 52.8, 496.0, 369.59999999999997)\n",
      "(80.0, 52.8, 496.0, 369.59999999999997)\n",
      "(80.0, 52.8, 496.0, 369.59999999999997)\n",
      "(80.0, 52.8, 496.0, 369.59999999999997)\n",
      "(80.0, 52.8, 496.0, 369.59999999999997)\n",
      "(80.0, 52.8, 496.0, 369.59999999999997)\n",
      "(80.0, 52.8, 496.0, 369.59999999999997)\n",
      "(80.0, 52.8, 496.0, 369.59999999999997)\n",
      "(80.0, 52.8, 496.0, 369.59999999999997)\n",
      "(80.0, 52.8, 496.0, 369.59999999999997)\n",
      "(80.0, 52.8, 496.0, 369.59999999999997)\n",
      "(80.0, 52.8, 496.0, 369.59999999999997)\n",
      "(80.0, 52.8, 496.0, 369.59999999999997)\n",
      "(80.0, 52.8, 496.0, 369.59999999999997)\n",
      "(80.0, 52.8, 496.0, 369.59999999999997)\n",
      "(80.0, 52.8, 496.0, 369.59999999999997)\n",
      "(80.0, 52.8, 496.0, 369.59999999999997)\n",
      "(80.0, 52.8, 496.0, 369.59999999999997)\n",
      "(80.0, 52.8, 496.0, 369.59999999999997)\n",
      "(80.0, 52.8, 496.0, 369.59999999999997)\n",
      "(80.0, 52.8, 496.0, 369.59999999999997)\n",
      "(80.0, 52.8, 496.0, 369.59999999999997)\n",
      "(80.0, 52.8, 496.0, 369.59999999999997)\n",
      "(80.0, 52.8, 496.0, 369.59999999999997)\n",
      "(80.0, 52.8, 496.0, 369.59999999999997)\n",
      "(80.0, 52.8, 496.0, 369.59999999999997)\n",
      "(80.0, 52.8, 496.0, 369.59999999999997)\n",
      "(80.0, 52.8, 496.0, 369.59999999999997)\n",
      "(80.0, 52.8, 496.0, 369.59999999999997)\n",
      "(80.0, 52.8, 496.0, 369.59999999999997)\n",
      "(80.0, 52.8, 496.0, 369.59999999999997)\n",
      "(80.0, 52.8, 496.0, 369.59999999999997)\n",
      "(80.0, 52.8, 496.0, 369.59999999999997)\n",
      "(80.0, 52.8, 496.0, 369.59999999999997)\n",
      "(80.0, 52.8, 496.0, 369.59999999999997)\n",
      "(80.0, 52.8, 496.0, 369.59999999999997)\n",
      "(80.0, 52.8, 496.0, 369.59999999999997)\n",
      "(80.0, 52.8, 496.0, 369.59999999999997)\n",
      "(80.0, 52.8, 496.0, 369.59999999999997)\n",
      "(80.0, 52.8, 496.0, 369.59999999999997)\n",
      "(80.0, 52.8, 496.0, 369.59999999999997)\n",
      "(80.0, 52.8, 496.0, 369.59999999999997)\n",
      "(80.0, 52.8, 496.0, 369.59999999999997)\n",
      "(80.0, 52.8, 496.0, 369.59999999999997)\n",
      "(80.0, 52.8, 496.0, 369.59999999999997)\n",
      "(80.0, 52.8, 496.0, 369.59999999999997)\n",
      "(80.0, 52.8, 496.0, 369.59999999999997)\n",
      "(80.0, 52.8, 496.0, 369.59999999999997)\n",
      "(80.0, 52.8, 496.0, 369.59999999999997)\n",
      "(80.0, 52.8, 496.0, 369.59999999999997)\n",
      "(80.0, 52.8, 496.0, 369.59999999999997)\n",
      "(80.0, 52.8, 496.0, 369.59999999999997)\n",
      "(80.0, 52.8, 496.0, 369.59999999999997)\n",
      "(80.0, 52.8, 496.0, 369.59999999999997)\n",
      "(80.0, 52.8, 496.0, 369.59999999999997)\n",
      "(80.0, 52.8, 496.0, 369.59999999999997)\n",
      "(80.0, 52.8, 496.0, 369.59999999999997)\n",
      "(80.0, 52.8, 496.0, 369.59999999999997)\n",
      "(80.0, 52.8, 496.0, 369.59999999999997)\n",
      "(80.0, 52.8, 496.0, 369.59999999999997)\n",
      "(80.0, 52.8, 496.0, 369.59999999999997)\n",
      "(80.0, 52.8, 496.0, 369.59999999999997)\n",
      "(80.0, 52.8, 496.0, 369.59999999999997)\n",
      "(80.0, 52.8, 496.0, 369.59999999999997)\n",
      "(80.0, 52.8, 496.0, 369.59999999999997)\n",
      "(80.0, 52.8, 496.0, 369.59999999999997)\n",
      "(80.0, 52.8, 496.0, 369.59999999999997)\n",
      "(80.0, 52.8, 496.0, 369.59999999999997)\n",
      "(80.0, 52.8, 496.0, 369.59999999999997)\n",
      "(80.0, 52.8, 496.0, 369.59999999999997)\n",
      "(80.0, 52.8, 496.0, 369.59999999999997)\n",
      "(80.0, 52.8, 496.0, 369.59999999999997)\n",
      "(80.0, 52.8, 496.0, 369.59999999999997)\n",
      "(80.0, 52.8, 496.0, 369.59999999999997)\n",
      "(80.0, 52.8, 496.0, 369.59999999999997)\n",
      "(80.0, 52.8, 496.0, 369.59999999999997)\n",
      "(80.0, 52.8, 496.0, 369.59999999999997)\n",
      "(80.0, 52.8, 496.0, 369.59999999999997)\n",
      "(80.0, 52.8, 496.0, 369.59999999999997)\n",
      "(80.0, 52.8, 496.0, 369.59999999999997)\n",
      "(80.0, 52.8, 496.0, 369.59999999999997)\n",
      "(80.0, 52.8, 496.0, 369.59999999999997)\n",
      "(80.0, 52.8, 496.0, 369.59999999999997)\n",
      "(80.0, 52.8, 496.0, 369.59999999999997)\n",
      "(80.0, 52.8, 496.0, 369.59999999999997)\n",
      "(80.0, 52.8, 496.0, 369.59999999999997)\n",
      "(80.0, 52.8, 496.0, 369.59999999999997)\n",
      "(80.0, 52.8, 496.0, 369.59999999999997)\n",
      "(80.0, 52.8, 496.0, 369.59999999999997)\n",
      "(80.0, 52.8, 496.0, 369.59999999999997)\n",
      "(80.0, 52.8, 496.0, 369.59999999999997)\n",
      "(80.0, 52.8, 496.0, 369.59999999999997)\n",
      "(80.0, 52.8, 496.0, 369.59999999999997)\n",
      "(80.0, 52.8, 496.0, 369.59999999999997)\n",
      "(80.0, 52.8, 496.0, 369.59999999999997)\n",
      "(80.0, 52.8, 496.0, 369.59999999999997)\n",
      "(80.0, 52.8, 496.0, 369.59999999999997)\n",
      "(80.0, 52.8, 496.0, 369.59999999999997)\n",
      "(80.0, 52.8, 496.0, 369.59999999999997)\n",
      "(80.0, 52.8, 496.0, 369.59999999999997)\n",
      "(80.0, 52.8, 496.0, 369.59999999999997)\n",
      "(80.0, 52.8, 496.0, 369.59999999999997)\n",
      "(80.0, 52.8, 496.0, 369.59999999999997)\n",
      "(80.0, 52.8, 496.0, 369.59999999999997)\n",
      "(80.0, 52.8, 496.0, 369.59999999999997)\n",
      "(80.0, 52.8, 496.0, 369.59999999999997)\n",
      "(80.0, 52.8, 496.0, 369.59999999999997)\n",
      "(80.0, 52.8, 496.0, 369.59999999999997)\n",
      "(80.0, 52.8, 496.0, 369.59999999999997)\n",
      "(80.0, 52.8, 496.0, 369.59999999999997)\n",
      "(80.0, 52.8, 496.0, 369.59999999999997)\n",
      "(80.0, 52.8, 496.0, 369.59999999999997)\n",
      "(80.0, 52.8, 496.0, 369.59999999999997)\n",
      "(80.0, 52.8, 496.0, 369.59999999999997)\n",
      "(80.0, 52.8, 496.0, 369.59999999999997)\n",
      "(80.0, 52.8, 496.0, 369.59999999999997)\n",
      "(80.0, 52.8, 496.0, 369.59999999999997)\n",
      "(80.0, 52.8, 496.0, 369.59999999999997)\n",
      "(80.0, 52.8, 496.0, 369.59999999999997)\n",
      "(80.0, 52.8, 496.0, 369.59999999999997)\n",
      "(80.0, 52.8, 496.0, 369.59999999999997)\n",
      "(80.0, 52.8, 496.0, 369.59999999999997)\n",
      "(80.0, 52.8, 496.0, 369.59999999999997)\n",
      "(80.0, 52.8, 496.0, 369.59999999999997)\n",
      "(80.0, 52.8, 496.0, 369.59999999999997)\n",
      "(80.0, 52.8, 496.0, 369.59999999999997)\n",
      "(80.0, 52.8, 496.0, 369.59999999999997)\n",
      "(80.0, 52.8, 496.0, 369.59999999999997)\n",
      "(80.0, 52.8, 496.0, 369.59999999999997)\n",
      "(80.0, 52.8, 496.0, 369.59999999999997)\n",
      "(80.0, 52.8, 496.0, 369.59999999999997)\n",
      "(80.0, 52.8, 496.0, 369.59999999999997)\n",
      "(80.0, 52.8, 496.0, 369.59999999999997)\n",
      "(80.0, 52.8, 496.0, 369.59999999999997)\n",
      "(80.0, 52.8, 496.0, 369.59999999999997)\n",
      "(80.0, 52.8, 496.0, 369.59999999999997)\n",
      "(80.0, 52.8, 496.0, 369.59999999999997)\n",
      "(80.0, 52.8, 496.0, 369.59999999999997)\n",
      "(80.0, 52.8, 496.0, 369.59999999999997)\n",
      "(80.0, 52.8, 496.0, 369.59999999999997)\n",
      "(80.0, 52.8, 496.0, 369.59999999999997)\n",
      "(80.0, 52.8, 496.0, 369.59999999999997)\n",
      "(80.0, 52.8, 496.0, 369.59999999999997)\n",
      "(80.0, 52.8, 496.0, 369.59999999999997)\n",
      "(80.0, 52.8, 496.0, 369.59999999999997)\n",
      "(80.0, 52.8, 496.0, 369.59999999999997)\n",
      "(80.0, 52.8, 496.0, 369.59999999999997)\n",
      "(80.0, 52.8, 496.0, 369.59999999999997)\n",
      "(80.0, 52.8, 496.0, 369.59999999999997)\n",
      "(80.0, 52.8, 496.0, 369.59999999999997)\n",
      "(80.0, 52.8, 496.0, 369.59999999999997)\n",
      "(80.0, 52.8, 496.0, 369.59999999999997)\n",
      "(80.0, 52.8, 496.0, 369.59999999999997)\n",
      "(80.0, 52.8, 496.0, 369.59999999999997)\n",
      "(80.0, 52.8, 496.0, 369.59999999999997)\n",
      "(80.0, 52.8, 496.0, 369.59999999999997)\n",
      "(80.0, 52.8, 496.0, 369.59999999999997)\n",
      "(80.0, 52.8, 496.0, 369.59999999999997)\n",
      "(80.0, 52.8, 496.0, 369.59999999999997)\n",
      "(80.0, 52.8, 496.0, 369.59999999999997)\n",
      "(80.0, 52.8, 496.0, 369.59999999999997)\n",
      "(80.0, 52.8, 496.0, 369.59999999999997)\n",
      "(80.0, 52.8, 496.0, 369.59999999999997)\n",
      "(80.0, 52.8, 496.0, 369.59999999999997)\n",
      "(80.0, 52.8, 496.0, 369.59999999999997)\n",
      "(80.0, 52.8, 496.0, 369.59999999999997)\n",
      "(80.0, 52.8, 496.0, 369.59999999999997)\n",
      "(80.0, 52.8, 496.0, 369.59999999999997)\n",
      "(80.0, 52.8, 496.0, 369.59999999999997)\n",
      "(80.0, 52.8, 496.0, 369.59999999999997)\n",
      "(80.0, 52.8, 496.0, 369.59999999999997)\n",
      "(80.0, 52.8, 496.0, 369.59999999999997)\n",
      "(80.0, 52.8, 496.0, 369.59999999999997)\n",
      "(80.0, 52.8, 496.0, 369.59999999999997)\n",
      "(80.0, 52.8, 496.0, 369.59999999999997)\n",
      "(80.0, 52.8, 496.0, 369.59999999999997)\n",
      "(80.0, 52.8, 496.0, 369.59999999999997)\n",
      "(80.0, 52.8, 496.0, 369.59999999999997)\n",
      "(80.0, 52.8, 496.0, 369.59999999999997)\n",
      "(80.0, 52.8, 496.0, 369.59999999999997)\n",
      "(80.0, 52.8, 496.0, 369.59999999999997)\n",
      "(80.0, 52.8, 496.0, 369.59999999999997)\n",
      "(80.0, 52.8, 496.0, 369.59999999999997)\n",
      "(80.0, 52.8, 496.0, 369.59999999999997)\n",
      "(80.0, 52.8, 496.0, 369.59999999999997)\n",
      "(80.0, 52.8, 496.0, 369.59999999999997)\n",
      "(80.0, 52.8, 496.0, 369.59999999999997)\n",
      "(80.0, 52.8, 496.0, 369.59999999999997)\n",
      "(80.0, 52.8, 496.0, 369.59999999999997)\n",
      "(80.0, 52.8, 496.0, 369.59999999999997)\n",
      "(80.0, 52.8, 496.0, 369.59999999999997)\n",
      "(80.0, 52.8, 496.0, 369.59999999999997)\n",
      "(80.0, 52.8, 496.0, 369.59999999999997)\n",
      "(80.0, 52.8, 496.0, 369.59999999999997)\n",
      "(80.0, 52.8, 496.0, 369.59999999999997)\n",
      "(80.0, 52.8, 496.0, 369.59999999999997)\n",
      "(80.0, 52.8, 496.0, 369.59999999999997)\n",
      "(80.0, 52.8, 496.0, 369.59999999999997)\n",
      "(80.0, 52.8, 496.0, 369.59999999999997)\n",
      "(80.0, 52.8, 496.0, 369.59999999999997)\n",
      "(80.0, 52.8, 496.0, 369.59999999999997)\n",
      "(80.0, 52.8, 496.0, 369.59999999999997)\n",
      "(80.0, 52.8, 496.0, 369.59999999999997)\n",
      "(80.0, 52.8, 496.0, 369.59999999999997)\n",
      "(80.0, 52.8, 496.0, 369.59999999999997)\n",
      "(80.0, 52.8, 496.0, 369.59999999999997)\n",
      "(80.0, 52.8, 496.0, 369.59999999999997)\n",
      "(80.0, 52.8, 496.0, 369.59999999999997)\n",
      "(80.0, 52.8, 496.0, 369.59999999999997)\n",
      "(80.0, 52.8, 496.0, 369.59999999999997)\n",
      "(80.0, 52.8, 496.0, 369.59999999999997)\n",
      "(80.0, 52.8, 496.0, 369.59999999999997)\n",
      "(80.0, 52.8, 496.0, 369.59999999999997)\n",
      "(80.0, 52.8, 496.0, 369.59999999999997)\n",
      "(80.0, 52.8, 496.0, 369.59999999999997)\n",
      "(80.0, 52.8, 496.0, 369.59999999999997)\n",
      "(80.0, 52.8, 496.0, 369.59999999999997)\n",
      "(80.0, 52.8, 496.0, 369.59999999999997)\n",
      "(80.0, 52.8, 496.0, 369.59999999999997)\n",
      "(80.0, 52.8, 496.0, 369.59999999999997)\n",
      "(80.0, 52.8, 496.0, 369.59999999999997)\n",
      "(80.0, 52.8, 496.0, 369.59999999999997)\n",
      "(80.0, 52.8, 496.0, 369.59999999999997)\n",
      "(80.0, 52.8, 496.0, 369.59999999999997)\n",
      "(80.0, 52.8, 496.0, 369.59999999999997)\n",
      "(80.0, 52.8, 496.0, 369.59999999999997)\n",
      "(80.0, 52.8, 496.0, 369.59999999999997)\n",
      "(80.0, 52.8, 496.0, 369.59999999999997)\n",
      "(80.0, 52.8, 496.0, 369.59999999999997)\n",
      "(80.0, 52.8, 496.0, 369.59999999999997)\n",
      "(80.0, 52.8, 496.0, 369.59999999999997)\n",
      "(80.0, 52.8, 496.0, 369.59999999999997)\n",
      "(80.0, 52.8, 496.0, 369.59999999999997)\n",
      "(80.0, 52.8, 496.0, 369.59999999999997)\n",
      "(80.0, 52.8, 496.0, 369.59999999999997)\n",
      "(80.0, 52.8, 496.0, 369.59999999999997)\n",
      "(80.0, 52.8, 496.0, 369.59999999999997)\n",
      "(80.0, 52.8, 496.0, 369.59999999999997)\n",
      "(80.0, 52.8, 496.0, 369.59999999999997)\n",
      "(80.0, 52.8, 496.0, 369.59999999999997)\n",
      "(80.0, 52.8, 496.0, 369.59999999999997)\n",
      "(80.0, 52.8, 496.0, 369.59999999999997)\n",
      "(80.0, 52.8, 496.0, 369.59999999999997)\n",
      "(80.0, 52.8, 496.0, 369.59999999999997)\n",
      "(80.0, 52.8, 496.0, 369.59999999999997)\n",
      "(80.0, 52.8, 496.0, 369.59999999999997)\n",
      "(80.0, 52.8, 496.0, 369.59999999999997)\n",
      "(80.0, 52.8, 496.0, 369.59999999999997)\n",
      "(80.0, 52.8, 496.0, 369.59999999999997)\n",
      "(80.0, 52.8, 496.0, 369.59999999999997)\n",
      "(80.0, 52.8, 496.0, 369.59999999999997)\n",
      "(80.0, 52.8, 496.0, 369.59999999999997)\n",
      "(80.0, 52.8, 496.0, 369.59999999999997)\n",
      "(80.0, 52.8, 496.0, 369.59999999999997)\n",
      "(80.0, 52.8, 496.0, 369.59999999999997)\n",
      "(80.0, 52.8, 496.0, 369.59999999999997)\n",
      "(80.0, 52.8, 496.0, 369.59999999999997)\n",
      "(80.0, 52.8, 496.0, 369.59999999999997)\n",
      "(80.0, 52.8, 496.0, 369.59999999999997)\n",
      "(80.0, 52.8, 496.0, 369.59999999999997)\n",
      "(80.0, 52.8, 496.0, 369.59999999999997)\n",
      "(80.0, 52.8, 496.0, 369.59999999999997)\n",
      "(80.0, 52.8, 496.0, 369.59999999999997)\n",
      "(80.0, 52.8, 496.0, 369.59999999999997)\n",
      "(80.0, 52.8, 496.0, 369.59999999999997)\n",
      "(80.0, 52.8, 496.0, 369.59999999999997)\n",
      "(80.0, 52.8, 496.0, 369.59999999999997)\n",
      "(80.0, 52.8, 496.0, 369.59999999999997)\n",
      "(80.0, 52.8, 496.0, 369.59999999999997)\n",
      "(80.0, 52.8, 496.0, 369.59999999999997)\n",
      "(80.0, 52.8, 496.0, 369.59999999999997)\n",
      "(80.0, 52.8, 496.0, 369.59999999999997)\n",
      "(80.0, 52.8, 496.0, 369.59999999999997)\n",
      "(80.0, 52.8, 496.0, 369.59999999999997)\n",
      "(80.0, 52.8, 496.0, 369.59999999999997)\n",
      "(80.0, 52.8, 496.0, 369.59999999999997)\n",
      "(80.0, 52.8, 496.0, 369.59999999999997)\n",
      "(80.0, 52.8, 496.0, 369.59999999999997)\n",
      "(80.0, 52.8, 496.0, 369.59999999999997)\n",
      "(80.0, 52.8, 496.0, 369.59999999999997)\n",
      "(80.0, 52.8, 496.0, 369.59999999999997)\n",
      "(80.0, 52.8, 496.0, 369.59999999999997)\n",
      "(80.0, 52.8, 496.0, 369.59999999999997)\n",
      "(80.0, 52.8, 496.0, 369.59999999999997)\n",
      "(80.0, 52.8, 496.0, 369.59999999999997)\n",
      "(80.0, 52.8, 496.0, 369.59999999999997)\n",
      "(80.0, 52.8, 496.0, 369.59999999999997)\n",
      "(80.0, 52.8, 496.0, 369.59999999999997)\n",
      "(80.0, 52.8, 496.0, 369.59999999999997)\n",
      "(80.0, 52.8, 496.0, 369.59999999999997)\n",
      "(80.0, 52.8, 496.0, 369.59999999999997)\n",
      "(80.0, 52.8, 496.0, 369.59999999999997)\n",
      "(80.0, 52.8, 496.0, 369.59999999999997)\n",
      "(80.0, 52.8, 496.0, 369.59999999999997)\n",
      "(80.0, 52.8, 496.0, 369.59999999999997)\n",
      "(80.0, 52.8, 496.0, 369.59999999999997)\n",
      "(80.0, 52.8, 496.0, 369.59999999999997)\n",
      "(80.0, 52.8, 496.0, 369.59999999999997)\n",
      "(80.0, 52.8, 496.0, 369.59999999999997)\n",
      "(80.0, 52.8, 496.0, 369.59999999999997)\n",
      "(80.0, 52.8, 496.0, 369.59999999999997)\n",
      "(80.0, 52.8, 496.0, 369.59999999999997)\n",
      "(80.0, 52.8, 496.0, 369.59999999999997)\n",
      "(80.0, 52.8, 496.0, 369.59999999999997)\n",
      "(80.0, 52.8, 496.0, 369.59999999999997)\n",
      "(80.0, 52.8, 496.0, 369.59999999999997)\n",
      "(80.0, 52.8, 496.0, 369.59999999999997)\n",
      "(80.0, 52.8, 496.0, 369.59999999999997)\n",
      "(80.0, 52.8, 496.0, 369.59999999999997)\n",
      "(80.0, 52.8, 496.0, 369.59999999999997)\n",
      "(80.0, 52.8, 496.0, 369.59999999999997)\n",
      "(80.0, 52.8, 496.0, 369.59999999999997)\n",
      "(80.0, 52.8, 496.0, 369.59999999999997)\n",
      "(80.0, 52.8, 496.0, 369.59999999999997)\n",
      "(80.0, 52.8, 496.0, 369.59999999999997)\n",
      "(80.0, 52.8, 496.0, 369.59999999999997)\n",
      "(80.0, 52.8, 496.0, 369.59999999999997)\n",
      "(80.0, 52.8, 496.0, 369.59999999999997)\n",
      "(80.0, 52.8, 496.0, 369.59999999999997)\n",
      "(80.0, 52.8, 496.0, 369.59999999999997)\n",
      "(80.0, 52.8, 496.0, 369.59999999999997)\n",
      "(80.0, 52.8, 496.0, 369.59999999999997)\n",
      "(80.0, 52.8, 496.0, 369.59999999999997)\n",
      "(80.0, 52.8, 496.0, 369.59999999999997)\n",
      "(80.0, 52.8, 496.0, 369.59999999999997)\n",
      "(80.0, 52.8, 496.0, 369.59999999999997)\n",
      "(80.0, 52.8, 496.0, 369.59999999999997)\n",
      "(80.0, 52.8, 496.0, 369.59999999999997)\n",
      "(80.0, 52.8, 496.0, 369.59999999999997)\n",
      "(80.0, 52.8, 496.0, 369.59999999999997)\n",
      "(80.0, 52.8, 496.0, 369.59999999999997)\n",
      "(80.0, 52.8, 496.0, 369.59999999999997)\n",
      "(80.0, 52.8, 496.0, 369.59999999999997)\n",
      "(80.0, 52.8, 496.0, 369.59999999999997)\n",
      "(80.0, 52.8, 496.0, 369.59999999999997)\n",
      "(80.0, 52.8, 496.0, 369.59999999999997)\n",
      "(80.0, 52.8, 496.0, 369.59999999999997)\n",
      "(80.0, 52.8, 496.0, 369.59999999999997)\n",
      "(80.0, 52.8, 496.0, 369.59999999999997)\n",
      "(80.0, 52.8, 496.0, 369.59999999999997)\n",
      "(80.0, 52.8, 496.0, 369.59999999999997)\n",
      "(80.0, 52.8, 496.0, 369.59999999999997)\n",
      "(80.0, 52.8, 496.0, 369.59999999999997)\n",
      "(80.0, 52.8, 496.0, 369.59999999999997)\n",
      "(80.0, 52.8, 496.0, 369.59999999999997)\n",
      "(80.0, 52.8, 496.0, 369.59999999999997)\n",
      "(80.0, 52.8, 496.0, 369.59999999999997)\n",
      "(80.0, 52.8, 496.0, 369.59999999999997)\n",
      "(80.0, 52.8, 496.0, 369.59999999999997)\n",
      "(80.0, 52.8, 496.0, 369.59999999999997)\n",
      "(80.0, 52.8, 496.0, 369.59999999999997)\n",
      "(80.0, 52.8, 496.0, 369.59999999999997)\n",
      "(80.0, 52.8, 496.0, 369.59999999999997)\n",
      "(80.0, 52.8, 496.0, 369.59999999999997)\n",
      "(80.0, 52.8, 496.0, 369.59999999999997)\n",
      "(80.0, 52.8, 496.0, 369.59999999999997)\n",
      "(80.0, 52.8, 496.0, 369.59999999999997)\n",
      "(80.0, 52.8, 496.0, 369.59999999999997)\n",
      "(80.0, 52.8, 496.0, 369.59999999999997)\n",
      "(80.0, 52.8, 496.0, 369.59999999999997)\n",
      "(80.0, 52.8, 496.0, 369.59999999999997)\n",
      "(80.0, 52.8, 496.0, 369.59999999999997)\n",
      "(80.0, 52.8, 496.0, 369.59999999999997)\n",
      "(80.0, 52.8, 496.0, 369.59999999999997)\n",
      "(80.0, 52.8, 496.0, 369.59999999999997)\n",
      "(80.0, 52.8, 496.0, 369.59999999999997)\n",
      "(80.0, 52.8, 496.0, 369.59999999999997)\n",
      "(80.0, 52.8, 496.0, 369.59999999999997)\n",
      "(80.0, 52.8, 496.0, 369.59999999999997)\n",
      "(80.0, 52.8, 496.0, 369.59999999999997)\n",
      "(80.0, 52.8, 496.0, 369.59999999999997)\n",
      "(80.0, 52.8, 496.0, 369.59999999999997)\n",
      "(80.0, 52.8, 496.0, 369.59999999999997)\n",
      "(80.0, 52.8, 496.0, 369.59999999999997)\n",
      "(80.0, 52.8, 496.0, 369.59999999999997)\n",
      "(80.0, 52.8, 496.0, 369.59999999999997)\n",
      "(80.0, 52.8, 496.0, 369.59999999999997)\n",
      "(80.0, 52.8, 496.0, 369.59999999999997)\n",
      "(80.0, 52.8, 496.0, 369.59999999999997)\n",
      "(80.0, 52.8, 496.0, 369.59999999999997)\n",
      "(80.0, 52.8, 496.0, 369.59999999999997)\n",
      "(80.0, 52.8, 496.0, 369.59999999999997)\n",
      "(80.0, 52.8, 496.0, 369.59999999999997)\n",
      "(80.0, 52.8, 496.0, 369.59999999999997)\n",
      "(80.0, 52.8, 496.0, 369.59999999999997)\n",
      "(80.0, 52.8, 496.0, 369.59999999999997)\n",
      "(80.0, 52.8, 496.0, 369.59999999999997)\n",
      "(80.0, 52.8, 496.0, 369.59999999999997)\n",
      "(80.0, 52.8, 496.0, 369.59999999999997)\n",
      "(80.0, 52.8, 496.0, 369.59999999999997)\n",
      "(80.0, 52.8, 496.0, 369.59999999999997)\n",
      "(80.0, 52.8, 496.0, 369.59999999999997)\n",
      "(80.0, 52.8, 496.0, 369.59999999999997)\n",
      "(80.0, 52.8, 496.0, 369.59999999999997)\n",
      "(80.0, 52.8, 496.0, 369.59999999999997)\n",
      "(80.0, 52.8, 496.0, 369.59999999999997)\n",
      "(80.0, 52.8, 496.0, 369.59999999999997)\n",
      "(80.0, 52.8, 496.0, 369.59999999999997)\n",
      "(80.0, 52.8, 496.0, 369.59999999999997)\n",
      "(80.0, 52.8, 496.0, 369.59999999999997)\n",
      "(80.0, 52.8, 496.0, 369.59999999999997)\n",
      "(80.0, 52.8, 496.0, 369.59999999999997)\n",
      "(80.0, 52.8, 496.0, 369.59999999999997)\n",
      "(80.0, 52.8, 496.0, 369.59999999999997)\n",
      "(80.0, 52.8, 496.0, 369.59999999999997)\n",
      "(80.0, 52.8, 496.0, 369.59999999999997)\n",
      "(80.0, 52.8, 496.0, 369.59999999999997)\n",
      "(80.0, 52.8, 496.0, 369.59999999999997)\n",
      "(80.0, 52.8, 496.0, 369.59999999999997)\n",
      "(80.0, 52.8, 496.0, 369.59999999999997)\n",
      "(80.0, 52.8, 496.0, 369.59999999999997)\n",
      "(80.0, 52.8, 496.0, 369.59999999999997)\n",
      "(80.0, 52.8, 496.0, 369.59999999999997)\n",
      "(80.0, 52.8, 496.0, 369.59999999999997)\n",
      "(80.0, 52.8, 496.0, 369.59999999999997)\n",
      "(80.0, 52.8, 496.0, 369.59999999999997)\n",
      "(80.0, 52.8, 496.0, 369.59999999999997)\n",
      "(80.0, 52.8, 496.0, 369.59999999999997)\n",
      "(80.0, 52.8, 496.0, 369.59999999999997)\n",
      "(80.0, 52.8, 496.0, 369.59999999999997)\n",
      "(80.0, 52.8, 496.0, 369.59999999999997)\n",
      "(80.0, 52.8, 496.0, 369.59999999999997)\n",
      "(80.0, 52.8, 496.0, 369.59999999999997)\n",
      "(80.0, 52.8, 496.0, 369.59999999999997)\n",
      "(80.0, 52.8, 496.0, 369.59999999999997)\n",
      "(80.0, 52.8, 496.0, 369.59999999999997)\n",
      "(80.0, 52.8, 496.0, 369.59999999999997)\n",
      "(80.0, 52.8, 496.0, 369.59999999999997)\n",
      "(80.0, 52.8, 496.0, 369.59999999999997)\n",
      "(80.0, 52.8, 496.0, 369.59999999999997)\n",
      "(80.0, 52.8, 496.0, 369.59999999999997)\n",
      "(80.0, 52.8, 496.0, 369.59999999999997)\n",
      "(80.0, 52.8, 496.0, 369.59999999999997)\n",
      "(80.0, 52.8, 496.0, 369.59999999999997)\n",
      "(80.0, 52.8, 496.0, 369.59999999999997)\n",
      "(80.0, 52.8, 496.0, 369.59999999999997)\n",
      "(80.0, 52.8, 496.0, 369.59999999999997)\n",
      "(80.0, 52.8, 496.0, 369.59999999999997)\n",
      "(80.0, 52.8, 496.0, 369.59999999999997)\n",
      "(80.0, 52.8, 496.0, 369.59999999999997)\n",
      "(80.0, 52.8, 496.0, 369.59999999999997)\n",
      "(80.0, 52.8, 496.0, 369.59999999999997)\n",
      "(80.0, 52.8, 496.0, 369.59999999999997)\n",
      "(80.0, 52.8, 496.0, 369.59999999999997)\n",
      "(80.0, 52.8, 496.0, 369.59999999999997)\n",
      "(80.0, 52.8, 496.0, 369.59999999999997)\n",
      "(80.0, 52.8, 496.0, 369.59999999999997)\n",
      "(80.0, 52.8, 496.0, 369.59999999999997)\n",
      "(80.0, 52.8, 496.0, 369.59999999999997)\n",
      "(80.0, 52.8, 496.0, 369.59999999999997)\n",
      "(80.0, 52.8, 496.0, 369.59999999999997)\n",
      "(80.0, 52.8, 496.0, 369.59999999999997)\n",
      "(80.0, 52.8, 496.0, 369.59999999999997)\n",
      "(80.0, 52.8, 496.0, 369.59999999999997)\n",
      "(80.0, 52.8, 496.0, 369.59999999999997)\n",
      "(80.0, 52.8, 496.0, 369.59999999999997)\n",
      "(80.0, 52.8, 496.0, 369.59999999999997)\n",
      "(80.0, 52.8, 496.0, 369.59999999999997)\n",
      "(80.0, 52.8, 496.0, 369.59999999999997)\n",
      "(80.0, 52.8, 496.0, 369.59999999999997)\n",
      "(80.0, 52.8, 496.0, 369.59999999999997)\n",
      "(80.0, 52.8, 496.0, 369.59999999999997)\n",
      "(80.0, 52.8, 496.0, 369.59999999999997)\n",
      "(80.0, 52.8, 496.0, 369.59999999999997)\n",
      "(80.0, 52.8, 496.0, 369.59999999999997)\n",
      "(80.0, 52.8, 496.0, 369.59999999999997)\n",
      "(80.0, 52.8, 496.0, 369.59999999999997)\n",
      "(80.0, 52.8, 496.0, 369.59999999999997)\n",
      "(80.0, 52.8, 496.0, 369.59999999999997)\n",
      "(80.0, 52.8, 496.0, 369.59999999999997)\n",
      "(80.0, 52.8, 496.0, 369.59999999999997)\n",
      "(80.0, 52.8, 496.0, 369.59999999999997)\n",
      "(80.0, 52.8, 496.0, 369.59999999999997)\n",
      "(80.0, 52.8, 496.0, 369.59999999999997)\n",
      "(80.0, 52.8, 496.0, 369.59999999999997)\n",
      "(80.0, 52.8, 496.0, 369.59999999999997)\n",
      "(80.0, 52.8, 496.0, 369.59999999999997)\n",
      "(80.0, 52.8, 496.0, 369.59999999999997)\n",
      "(80.0, 52.8, 496.0, 369.59999999999997)\n",
      "(80.0, 52.8, 496.0, 369.59999999999997)\n",
      "(80.0, 52.8, 496.0, 369.59999999999997)\n",
      "(80.0, 52.8, 496.0, 369.59999999999997)\n",
      "(80.0, 52.8, 496.0, 369.59999999999997)\n",
      "(80.0, 52.8, 496.0, 369.59999999999997)\n",
      "(80.0, 52.8, 496.0, 369.59999999999997)\n",
      "(80.0, 52.8, 496.0, 369.59999999999997)\n",
      "(80.0, 52.8, 496.0, 369.59999999999997)\n",
      "(80.0, 52.8, 496.0, 369.59999999999997)\n",
      "(80.0, 52.8, 496.0, 369.59999999999997)\n",
      "(80.0, 52.8, 496.0, 369.59999999999997)\n",
      "(80.0, 52.8, 496.0, 369.59999999999997)\n",
      "(80.0, 52.8, 496.0, 369.59999999999997)\n",
      "(80.0, 52.8, 496.0, 369.59999999999997)\n",
      "(80.0, 52.8, 496.0, 369.59999999999997)\n",
      "(80.0, 52.8, 496.0, 369.59999999999997)\n",
      "(80.0, 52.8, 496.0, 369.59999999999997)\n",
      "(80.0, 52.8, 496.0, 369.59999999999997)\n",
      "(80.0, 52.8, 496.0, 369.59999999999997)\n",
      "(80.0, 52.8, 496.0, 369.59999999999997)\n",
      "(80.0, 52.8, 496.0, 369.59999999999997)\n",
      "(80.0, 52.8, 496.0, 369.59999999999997)\n",
      "(80.0, 52.8, 496.0, 369.59999999999997)\n",
      "(80.0, 52.8, 496.0, 369.59999999999997)\n",
      "(80.0, 52.8, 496.0, 369.59999999999997)\n",
      "(80.0, 52.8, 496.0, 369.59999999999997)\n",
      "(80.0, 52.8, 496.0, 369.59999999999997)\n",
      "(80.0, 52.8, 496.0, 369.59999999999997)\n",
      "(80.0, 52.8, 496.0, 369.59999999999997)\n",
      "(80.0, 52.8, 496.0, 369.59999999999997)\n",
      "(80.0, 52.8, 496.0, 369.59999999999997)\n",
      "(80.0, 52.8, 496.0, 369.59999999999997)\n",
      "(80.0, 52.8, 496.0, 369.59999999999997)\n",
      "(80.0, 52.8, 496.0, 369.59999999999997)\n",
      "(80.0, 52.8, 496.0, 369.59999999999997)\n",
      "(80.0, 52.8, 496.0, 369.59999999999997)\n",
      "(80.0, 52.8, 496.0, 369.59999999999997)\n",
      "(80.0, 52.8, 496.0, 369.59999999999997)\n",
      "(80.0, 52.8, 496.0, 369.59999999999997)\n",
      "(80.0, 52.8, 496.0, 369.59999999999997)\n",
      "(80.0, 52.8, 496.0, 369.59999999999997)\n",
      "(80.0, 52.8, 496.0, 369.59999999999997)\n",
      "(80.0, 52.8, 496.0, 369.59999999999997)\n",
      "(80.0, 52.8, 496.0, 369.59999999999997)\n",
      "(80.0, 52.8, 496.0, 369.59999999999997)\n",
      "(80.0, 52.8, 496.0, 369.59999999999997)\n",
      "(80.0, 52.8, 496.0, 369.59999999999997)\n",
      "(80.0, 52.8, 496.0, 369.59999999999997)\n",
      "(80.0, 52.8, 496.0, 369.59999999999997)\n",
      "(80.0, 52.8, 496.0, 369.59999999999997)\n",
      "(80.0, 52.8, 496.0, 369.59999999999997)\n",
      "(80.0, 52.8, 496.0, 369.59999999999997)\n",
      "(80.0, 52.8, 496.0, 369.59999999999997)\n",
      "(80.0, 52.8, 496.0, 369.59999999999997)\n",
      "(80.0, 52.8, 496.0, 369.59999999999997)\n",
      "(80.0, 52.8, 496.0, 369.59999999999997)\n",
      "(80.0, 52.8, 496.0, 369.59999999999997)\n",
      "(80.0, 52.8, 496.0, 369.59999999999997)\n",
      "(80.0, 52.8, 496.0, 369.59999999999997)\n",
      "(80.0, 52.8, 496.0, 369.59999999999997)\n",
      "(80.0, 52.8, 496.0, 369.59999999999997)\n",
      "(80.0, 52.8, 496.0, 369.59999999999997)\n",
      "(80.0, 52.8, 496.0, 369.59999999999997)\n",
      "(80.0, 52.8, 496.0, 369.59999999999997)\n",
      "(80.0, 52.8, 496.0, 369.59999999999997)\n",
      "(80.0, 52.8, 496.0, 369.59999999999997)\n",
      "(80.0, 52.8, 496.0, 369.59999999999997)\n",
      "(80.0, 52.8, 496.0, 369.59999999999997)\n",
      "(80.0, 52.8, 496.0, 369.59999999999997)\n",
      "(80.0, 52.8, 496.0, 369.59999999999997)\n",
      "(80.0, 52.8, 496.0, 369.59999999999997)\n",
      "(80.0, 52.8, 496.0, 369.59999999999997)\n",
      "(80.0, 52.8, 496.0, 369.59999999999997)\n",
      "(80.0, 52.8, 496.0, 369.59999999999997)\n",
      "(80.0, 52.8, 496.0, 369.59999999999997)\n",
      "(80.0, 52.8, 496.0, 369.59999999999997)\n",
      "(80.0, 52.8, 496.0, 369.59999999999997)\n",
      "(80.0, 52.8, 496.0, 369.59999999999997)\n",
      "(80.0, 52.8, 496.0, 369.59999999999997)\n",
      "(80.0, 52.8, 496.0, 369.59999999999997)\n",
      "(80.0, 52.8, 496.0, 369.59999999999997)\n",
      "(80.0, 52.8, 496.0, 369.59999999999997)\n",
      "(80.0, 52.8, 496.0, 369.59999999999997)\n",
      "(80.0, 52.8, 496.0, 369.59999999999997)\n",
      "(80.0, 52.8, 496.0, 369.59999999999997)\n",
      "(80.0, 52.8, 496.0, 369.59999999999997)\n",
      "(80.0, 52.8, 496.0, 369.59999999999997)\n",
      "(80.0, 52.8, 496.0, 369.59999999999997)\n",
      "(80.0, 52.8, 496.0, 369.59999999999997)\n",
      "(80.0, 52.8, 496.0, 369.59999999999997)\n",
      "(80.0, 52.8, 496.0, 369.59999999999997)\n",
      "(80.0, 52.8, 496.0, 369.59999999999997)\n",
      "(80.0, 52.8, 496.0, 369.59999999999997)\n",
      "(80.0, 52.8, 496.0, 369.59999999999997)\n",
      "(80.0, 52.8, 496.0, 369.59999999999997)\n",
      "(80.0, 52.8, 496.0, 369.59999999999997)\n",
      "(80.0, 52.8, 496.0, 369.59999999999997)\n",
      "(80.0, 52.8, 496.0, 369.59999999999997)\n",
      "(80.0, 52.8, 496.0, 369.59999999999997)\n",
      "(80.0, 52.8, 496.0, 369.59999999999997)\n",
      "(80.0, 52.8, 496.0, 369.59999999999997)\n",
      "(80.0, 52.8, 496.0, 369.59999999999997)\n",
      "(80.0, 52.8, 496.0, 369.59999999999997)\n",
      "(80.0, 52.8, 496.0, 369.59999999999997)\n",
      "(80.0, 52.8, 496.0, 369.59999999999997)\n",
      "(80.0, 52.8, 496.0, 369.59999999999997)\n",
      "(80.0, 52.8, 496.0, 369.59999999999997)\n",
      "(80.0, 52.8, 496.0, 369.59999999999997)\n",
      "(80.0, 52.8, 496.0, 369.59999999999997)\n",
      "(80.0, 52.8, 496.0, 369.59999999999997)\n",
      "(80.0, 52.8, 496.0, 369.59999999999997)\n",
      "(80.0, 52.8, 496.0, 369.59999999999997)\n",
      "(80.0, 52.8, 496.0, 369.59999999999997)\n",
      "(80.0, 52.8, 496.0, 369.59999999999997)\n",
      "(80.0, 52.8, 496.0, 369.59999999999997)\n",
      "(80.0, 52.8, 496.0, 369.59999999999997)\n",
      "(80.0, 52.8, 496.0, 369.59999999999997)\n",
      "(80.0, 52.8, 496.0, 369.59999999999997)\n",
      "(80.0, 52.8, 496.0, 369.59999999999997)\n",
      "(80.0, 52.8, 496.0, 369.59999999999997)\n",
      "(80.0, 52.8, 496.0, 369.59999999999997)\n",
      "(80.0, 52.8, 496.0, 369.59999999999997)\n",
      "(80.0, 52.8, 496.0, 369.59999999999997)\n",
      "(80.0, 52.8, 496.0, 369.59999999999997)\n",
      "(80.0, 52.8, 496.0, 369.59999999999997)\n",
      "(80.0, 52.8, 496.0, 369.59999999999997)\n",
      "(80.0, 52.8, 496.0, 369.59999999999997)\n",
      "(80.0, 52.8, 496.0, 369.59999999999997)\n",
      "(80.0, 52.8, 496.0, 369.59999999999997)\n",
      "(80.0, 52.8, 496.0, 369.59999999999997)\n",
      "(80.0, 52.8, 496.0, 369.59999999999997)\n",
      "(80.0, 52.8, 496.0, 369.59999999999997)\n",
      "(80.0, 52.8, 496.0, 369.59999999999997)\n",
      "(80.0, 52.8, 496.0, 369.59999999999997)\n",
      "(80.0, 52.8, 496.0, 369.59999999999997)\n",
      "(80.0, 52.8, 496.0, 369.59999999999997)\n",
      "(80.0, 52.8, 496.0, 369.59999999999997)\n",
      "(80.0, 52.8, 496.0, 369.59999999999997)\n",
      "(80.0, 52.8, 496.0, 369.59999999999997)\n",
      "(80.0, 52.8, 496.0, 369.59999999999997)\n",
      "(80.0, 52.8, 496.0, 369.59999999999997)\n",
      "(80.0, 52.8, 496.0, 369.59999999999997)\n",
      "(80.0, 52.8, 496.0, 369.59999999999997)\n",
      "(80.0, 52.8, 496.0, 369.59999999999997)\n",
      "(80.0, 52.8, 496.0, 369.59999999999997)\n",
      "(80.0, 52.8, 496.0, 369.59999999999997)\n",
      "(80.0, 52.8, 496.0, 369.59999999999997)\n",
      "(80.0, 52.8, 496.0, 369.59999999999997)\n",
      "(80.0, 52.8, 496.0, 369.59999999999997)\n",
      "(80.0, 52.8, 496.0, 369.59999999999997)\n",
      "(80.0, 52.8, 496.0, 369.59999999999997)\n",
      "(80.0, 52.8, 496.0, 369.59999999999997)\n",
      "(80.0, 52.8, 496.0, 369.59999999999997)\n",
      "(80.0, 52.8, 496.0, 369.59999999999997)\n",
      "(80.0, 52.8, 496.0, 369.59999999999997)\n",
      "(80.0, 52.8, 496.0, 369.59999999999997)\n",
      "(80.0, 52.8, 496.0, 369.59999999999997)\n",
      "(80.0, 52.8, 496.0, 369.59999999999997)\n",
      "(80.0, 52.8, 496.0, 369.59999999999997)\n",
      "(80.0, 52.8, 496.0, 369.59999999999997)\n",
      "(80.0, 52.8, 496.0, 369.59999999999997)\n",
      "(80.0, 52.8, 496.0, 369.59999999999997)\n",
      "(80.0, 52.8, 496.0, 369.59999999999997)\n",
      "(80.0, 52.8, 496.0, 369.59999999999997)\n",
      "(80.0, 52.8, 496.0, 369.59999999999997)\n",
      "(80.0, 52.8, 496.0, 369.59999999999997)\n",
      "(80.0, 52.8, 496.0, 369.59999999999997)\n",
      "(80.0, 52.8, 496.0, 369.59999999999997)\n",
      "(80.0, 52.8, 496.0, 369.59999999999997)\n",
      "(80.0, 52.8, 496.0, 369.59999999999997)\n",
      "(80.0, 52.8, 496.0, 369.59999999999997)\n",
      "(80.0, 52.8, 496.0, 369.59999999999997)\n",
      "(80.0, 52.8, 496.0, 369.59999999999997)\n",
      "(80.0, 52.8, 496.0, 369.59999999999997)\n",
      "(80.0, 52.8, 496.0, 369.59999999999997)\n",
      "(80.0, 52.8, 496.0, 369.59999999999997)\n",
      "(80.0, 52.8, 496.0, 369.59999999999997)\n",
      "(80.0, 52.8, 496.0, 369.59999999999997)\n",
      "(80.0, 52.8, 496.0, 369.59999999999997)\n",
      "(80.0, 52.8, 496.0, 369.59999999999997)\n",
      "(80.0, 52.8, 496.0, 369.59999999999997)\n",
      "(80.0, 52.8, 496.0, 369.59999999999997)\n",
      "(80.0, 52.8, 496.0, 369.59999999999997)\n",
      "(80.0, 52.8, 496.0, 369.59999999999997)\n",
      "(80.0, 52.8, 496.0, 369.59999999999997)\n",
      "(80.0, 52.8, 496.0, 369.59999999999997)\n",
      "(80.0, 52.8, 496.0, 369.59999999999997)\n",
      "(80.0, 52.8, 496.0, 369.59999999999997)\n",
      "(80.0, 52.8, 496.0, 369.59999999999997)\n",
      "(80.0, 52.8, 496.0, 369.59999999999997)\n",
      "(80.0, 52.8, 496.0, 369.59999999999997)\n",
      "(80.0, 52.8, 496.0, 369.59999999999997)\n",
      "(80.0, 52.8, 496.0, 369.59999999999997)\n",
      "(80.0, 52.8, 496.0, 369.59999999999997)\n",
      "(80.0, 52.8, 496.0, 369.59999999999997)\n",
      "(80.0, 52.8, 496.0, 369.59999999999997)\n",
      "(80.0, 52.8, 496.0, 369.59999999999997)\n",
      "(80.0, 52.8, 496.0, 369.59999999999997)\n",
      "(80.0, 52.8, 496.0, 369.59999999999997)\n",
      "(80.0, 52.8, 496.0, 369.59999999999997)\n",
      "(80.0, 52.8, 496.0, 369.59999999999997)\n",
      "(80.0, 52.8, 496.0, 369.59999999999997)\n",
      "(80.0, 52.8, 496.0, 369.59999999999997)\n",
      "(80.0, 52.8, 496.0, 369.59999999999997)\n",
      "(80.0, 52.8, 496.0, 369.59999999999997)\n",
      "(80.0, 52.8, 496.0, 369.59999999999997)\n",
      "(80.0, 52.8, 496.0, 369.59999999999997)\n",
      "(80.0, 52.8, 496.0, 369.59999999999997)\n",
      "(80.0, 52.8, 496.0, 369.59999999999997)\n",
      "(80.0, 52.8, 496.0, 369.59999999999997)\n",
      "(80.0, 52.8, 496.0, 369.59999999999997)\n",
      "(80.0, 52.8, 496.0, 369.59999999999997)\n",
      "(80.0, 52.8, 496.0, 369.59999999999997)\n",
      "(80.0, 52.8, 496.0, 369.59999999999997)\n",
      "(80.0, 52.8, 496.0, 369.59999999999997)\n",
      "(80.0, 52.8, 496.0, 369.59999999999997)\n",
      "(80.0, 52.8, 496.0, 369.59999999999997)\n",
      "(80.0, 52.8, 496.0, 369.59999999999997)\n",
      "(80.0, 52.8, 496.0, 369.59999999999997)\n",
      "(80.0, 52.8, 496.0, 369.59999999999997)\n",
      "(80.0, 52.8, 496.0, 369.59999999999997)\n",
      "(80.0, 52.8, 496.0, 369.59999999999997)\n",
      "(80.0, 52.8, 496.0, 369.59999999999997)\n",
      "(80.0, 52.8, 496.0, 369.59999999999997)\n",
      "(80.0, 52.8, 496.0, 369.59999999999997)\n",
      "(80.0, 52.8, 496.0, 369.59999999999997)\n",
      "(80.0, 52.8, 496.0, 369.59999999999997)\n",
      "(80.0, 52.8, 496.0, 369.59999999999997)\n",
      "(80.0, 52.8, 496.0, 369.59999999999997)\n",
      "(80.0, 52.8, 496.0, 369.59999999999997)\n",
      "(80.0, 52.8, 496.0, 369.59999999999997)\n",
      "(80.0, 52.8, 496.0, 369.59999999999997)\n",
      "(80.0, 52.8, 496.0, 369.59999999999997)\n",
      "(80.0, 52.8, 496.0, 369.59999999999997)\n",
      "(80.0, 52.8, 496.0, 369.59999999999997)\n",
      "(80.0, 52.8, 496.0, 369.59999999999997)\n",
      "(80.0, 52.8, 496.0, 369.59999999999997)\n",
      "(80.0, 52.8, 496.0, 369.59999999999997)\n",
      "(80.0, 52.8, 496.0, 369.59999999999997)\n",
      "(80.0, 52.8, 496.0, 369.59999999999997)\n",
      "(80.0, 52.8, 496.0, 369.59999999999997)\n",
      "(80.0, 52.8, 496.0, 369.59999999999997)\n",
      "(80.0, 52.8, 496.0, 369.59999999999997)\n",
      "(80.0, 52.8, 496.0, 369.59999999999997)\n",
      "(80.0, 52.8, 496.0, 369.59999999999997)\n",
      "(80.0, 52.8, 496.0, 369.59999999999997)\n",
      "(80.0, 52.8, 496.0, 369.59999999999997)\n",
      "(80.0, 52.8, 496.0, 369.59999999999997)\n",
      "(80.0, 52.8, 496.0, 369.59999999999997)\n",
      "(80.0, 52.8, 496.0, 369.59999999999997)\n",
      "(80.0, 52.8, 496.0, 369.59999999999997)\n",
      "(80.0, 52.8, 496.0, 369.59999999999997)\n",
      "(80.0, 52.8, 496.0, 369.59999999999997)\n",
      "(80.0, 52.8, 496.0, 369.59999999999997)\n",
      "(80.0, 52.8, 496.0, 369.59999999999997)\n",
      "(80.0, 52.8, 496.0, 369.59999999999997)\n",
      "4.03 ms ± 924 µs per loop (mean ± std. dev. of 7 runs, 100 loops each)\n"
     ]
    }
   ],
   "source": [
    "%%timeit\n",
    "#plt.imshow\n",
    "(c.data_rgb)"
   ]
  },
  {
   "cell_type": "code",
   "execution_count": null,
   "metadata": {},
   "outputs": [
    {
     "data": {
      "text/plain": [
       "array([640., 480.])"
      ]
     },
     "execution_count": 350,
     "metadata": {},
     "output_type": "execute_result"
    }
   ],
   "source": [
    "c.fig.canvas.figure.bbox.size"
   ]
  },
  {
   "cell_type": "code",
   "execution_count": null,
   "metadata": {},
   "outputs": [
    {
     "data": {
      "text/plain": [
       "(558.7222222222222, 418.82222222222214, 100.0)"
      ]
     },
     "execution_count": 351,
     "metadata": {},
     "output_type": "execute_result"
    }
   ],
   "source": [
    "c.fig.canvas._lastKey"
   ]
  },
  {
   "cell_type": "code",
   "execution_count": null,
   "metadata": {},
   "outputs": [
    {
     "name": "stdout",
     "output_type": "stream",
     "text": [
      "(80.0, 52.8, 496.0, 369.59999999999997)\n"
     ]
    },
    {
     "data": {
      "text/plain": [
       "<matplotlib.image.AxesImage at 0x7f75438e72b0>"
      ]
     },
     "execution_count": 305,
     "metadata": {},
     "output_type": "execute_result"
    },
    {
     "data": {
      "image/png": "[encoded data removed]",
      "text/plain": [
       "<Figure size 640x480 with 1 Axes>"
      ]
     },
     "metadata": {},
     "output_type": "display_data"
    }
   ],
   "source": [
    "plt.imshow(c.data_rgba)\n"
   ]
  },
  {
   "cell_type": "code",
   "execution_count": null,
   "metadata": {},
   "outputs": [
    {
     "name": "stdout",
     "output_type": "stream",
     "text": [
      "(80.0, 52.8, 496.0, 369.59999999999997)\n"
     ]
    },
    {
     "data": {
      "text/plain": [
       "<matplotlib.image.AxesImage at 0x7f754395a8f0>"
      ]
     },
     "execution_count": 306,
     "metadata": {},
     "output_type": "execute_result"
    },
    {
     "data": {
      "image/png": "[encoded data removed]",
      "text/plain": [
       "<Figure size 640x480 with 1 Axes>"
      ]
     },
     "metadata": {},
     "output_type": "display_data"
    }
   ],
   "source": [
    "plt.imshow(c.data_rgb)\n"
   ]
  },
  {
   "cell_type": "code",
   "execution_count": null,
   "metadata": {},
   "outputs": [
    {
     "name": "stdout",
     "output_type": "stream",
     "text": [
      "20.1 ms ± 1.45 ms per loop (mean ± std. dev. of 7 runs, 10 loops each)\n"
     ]
    },
    {
     "data": {
      "image/png": "[encoded data removed]",
      "text/plain": [
       "<Figure size 640x480 with 1 Axes>"
      ]
     },
     "metadata": {},
     "output_type": "display_data"
    }
   ],
   "source": [
    "%%timeit\n",
    "plt.imshow(c.data_rgb)"
   ]
  },
  {
   "cell_type": "code",
   "execution_count": null,
   "metadata": {},
   "outputs": [],
   "source": [
    "def _rgba_to_rgb(rgba, rgb_background):\n",
    "    rgba = np.asarray(rgba, dtype=np.uint8)\n",
    "\n",
    "    r, g, b, a = rgba.T\n",
    "    r_, g_, b_, a_ = *rgb_background, a / 255.\n",
    "\n",
    "    rgb = (a_ * (r, g, b) + (1 - a_) * (r, g, b)).T\n",
    "    return rgb\n",
    "\n",
    "def _rgb_to_bilevel(rgb, rgb_background):\n",
    "    rgb, rgb_background = map(\n",
    "        lambda x: np.asarray(x, dtype=np.uint8), \n",
    "        (rgb, rgb_background)\n",
    "    )\n",
    "\n",
    "    return (rgb == rgb_background).all(axis=-1)"
   ]
  },
  {
   "cell_type": "code",
   "execution_count": null,
   "metadata": {},
   "outputs": [
    {
     "data": {
      "text/plain": [
       "(370, 496, 3)"
      ]
     },
     "execution_count": 207,
     "metadata": {},
     "output_type": "execute_result"
    }
   ],
   "source": [
    "_rgba_to_rgb(c.data_rgba,  (255, 255, 255)).shape"
   ]
  },
  {
   "cell_type": "code",
   "execution_count": null,
   "metadata": {},
   "outputs": [],
   "source": []
  },
  {
   "cell_type": "code",
   "execution_count": null,
   "metadata": {},
   "outputs": [
    {
     "data": {
      "text/plain": [
       "array([[[255, 255, 255,   0],\n",
       "        [255, 255, 255,   0]],\n",
       "\n",
       "       [[255, 255, 255,   0],\n",
       "        [255, 255, 255,   0]]], dtype=uint8)"
      ]
     },
     "execution_count": 212,
     "metadata": {},
     "output_type": "execute_result"
    }
   ],
   "source": [
    "c.data_rgba[:2, :2]"
   ]
  },
  {
   "cell_type": "code",
   "execution_count": null,
   "metadata": {},
   "outputs": [
    {
     "data": {
      "text/plain": [
       "array([[ True,  True],\n",
       "       [ True,  True]])"
      ]
     },
     "execution_count": 216,
     "metadata": {},
     "output_type": "execute_result"
    }
   ],
   "source": [
    "_rgb_to_bilevel(_rgba_to_rgb(c.data_rgba[:2, :2],  (255, 255, 255)), (255, 255, 255)).all(axis=-1)\n"
   ]
  },
  {
   "cell_type": "code",
   "execution_count": null,
   "metadata": {},
   "outputs": [],
   "source": [
    "r, g, b, a = c.data_rgba.T"
   ]
  },
  {
   "cell_type": "code",
   "execution_count": null,
   "metadata": {},
   "outputs": [
    {
     "data": {
      "text/plain": [
       "(496, 370)"
      ]
     },
     "execution_count": 194,
     "metadata": {},
     "output_type": "execute_result"
    }
   ],
   "source": [
    "r.shape"
   ]
  },
  {
   "cell_type": "code",
   "execution_count": null,
   "metadata": {},
   "outputs": [
    {
     "data": {
      "text/plain": [
       "array([[((255, 255, 255, 255),), ((255, 255, 255, 255),),\n",
       "        ((255, 255, 255, 255),), ((  0,   0,   0,   0),)]],\n",
       "      dtype=[('x', [('r', 'u1'), ('g', 'u1'), ('b', 'u1'), ('a', 'u1')])])"
      ]
     },
     "execution_count": 179,
     "metadata": {},
     "output_type": "execute_result"
    }
   ],
   "source": [
    "np.asarray(\n",
    "            c.data_rgba[[0], [0]],\n",
    "            dtype=[('x', [\n",
    "                ('r', np.uint8),\n",
    "                ('g', np.uint8),\n",
    "                ('b', np.uint8),\n",
    "                ('a', np.uint8),\n",
    "            ])\n",
    "            ]\n",
    "            #dtype=[\n",
    "            #    ('x', [\n",
    "            #        ('r', np.uint8),\n",
    "            #        ('g', np.uint8),\n",
    "            #        ('b', np.uint8),\n",
    "            #        ('a', np.uint8),\n",
    "            #    ]\n",
    "            #    ),\n",
    "            #    ('y', [\n",
    "            #        ('r', np.uint8),\n",
    "            #        ('g', np.uint8),\n",
    "            #        ('b', np.uint8),\n",
    "            #        ('a', np.uint8),\n",
    "            #    ]\n",
    "            #    )\n",
    "            #]\n",
    "        )"
   ]
  },
  {
   "cell_type": "code",
   "execution_count": null,
   "metadata": {},
   "outputs": [
    {
     "data": {
      "text/plain": [
       "array([[255, 255, 255,   0]], dtype=uint8)"
      ]
     },
     "execution_count": 176,
     "metadata": {},
     "output_type": "execute_result"
    }
   ],
   "source": [
    "c.data_rgba[[0], [0]]"
   ]
  },
  {
   "cell_type": "code",
   "execution_count": null,
   "metadata": {},
   "outputs": [
    {
     "data": {
      "text/plain": [
       "(496, 4)"
      ]
     },
     "execution_count": 143,
     "metadata": {},
     "output_type": "execute_result"
    }
   ],
   "source": [
    "c.data_rgba[0].shape"
   ]
  },
  {
   "cell_type": "code",
   "execution_count": null,
   "metadata": {},
   "outputs": [
    {
     "data": {
      "text/plain": [
       "(4, 496, 370)"
      ]
     },
     "execution_count": 114,
     "metadata": {},
     "output_type": "execute_result"
    }
   ],
   "source": [
    "c.data_rgba.T.shape"
   ]
  },
  {
   "cell_type": "code",
   "execution_count": null,
   "metadata": {},
   "outputs": [
    {
     "data": {
      "text/plain": [
       "array([[[255, 255, 255,   0],\n",
       "        [255, 255, 255,   0],\n",
       "        [255, 255, 255,   0],\n",
       "        ...,\n",
       "        [255, 255, 255,   0],\n",
       "        [255, 255, 255,   0],\n",
       "        [255, 255, 255,   0]],\n",
       "\n",
       "       [[255, 255, 255,   0],\n",
       "        [255, 255, 255,   0],\n",
       "        [255, 255, 255,   0],\n",
       "        ...,\n",
       "        [255, 255, 255,   0],\n",
       "        [255, 255, 255,   0],\n",
       "        [255, 255, 255,   0]],\n",
       "\n",
       "       [[255, 255, 255,   0],\n",
       "        [255, 255, 255,   0],\n",
       "        [255, 255, 255,   0],\n",
       "        ...,\n",
       "        [255, 255, 255,   0],\n",
       "        [255, 255, 255,   0],\n",
       "        [255, 255, 255,   0]],\n",
       "\n",
       "       ...,\n",
       "\n",
       "       [[255, 255, 255,   0],\n",
       "        [255, 255, 255,   0],\n",
       "        [255, 255, 255,   0],\n",
       "        ...,\n",
       "        [255, 255, 255,   0],\n",
       "        [255, 255, 255,   0],\n",
       "        [255, 255, 255,   0]],\n",
       "\n",
       "       [[255, 255, 255,   0],\n",
       "        [255, 255, 255,   0],\n",
       "        [255, 255, 255,   0],\n",
       "        ...,\n",
       "        [255, 255, 255,   0],\n",
       "        [255, 255, 255,   0],\n",
       "        [255, 255, 255,   0]],\n",
       "\n",
       "       [[255, 255, 255,   0],\n",
       "        [255, 255, 255,   0],\n",
       "        [255, 255, 255,   0],\n",
       "        ...,\n",
       "        [255, 255, 255,   0],\n",
       "        [255, 255, 255,   0],\n",
       "        [255, 255, 255,   0]]], dtype=uint8)"
      ]
     },
     "execution_count": 127,
     "metadata": {},
     "output_type": "execute_result"
    }
   ],
   "source": [
    "np.take(c.data_rgba, [0, 1, 2, 3], axis=2)"
   ]
  },
  {
   "cell_type": "code",
   "execution_count": null,
   "metadata": {},
   "outputs": [
    {
     "data": {
      "text/plain": [
       "array([255, 255, 255,   0], dtype=uint8)"
      ]
     },
     "execution_count": 129,
     "metadata": {},
     "output_type": "execute_result"
    }
   ],
   "source": [
    "c.data_rgba[0, 0]"
   ]
  },
  {
   "cell_type": "code",
   "execution_count": null,
   "metadata": {},
   "outputs": [
    {
     "data": {
      "text/plain": [
       "array([[[255, 255, 255,   0],\n",
       "        [255, 255, 255,   0],\n",
       "        [255, 255, 255,   0],\n",
       "        ...,\n",
       "        [255, 255, 255,   0],\n",
       "        [255, 255, 255,   0],\n",
       "        [255, 255, 255,   0]],\n",
       "\n",
       "       [[255, 255, 255,   0],\n",
       "        [255, 255, 255,   0],\n",
       "        [255, 255, 255,   0],\n",
       "        ...,\n",
       "        [255, 255, 255,   0],\n",
       "        [255, 255, 255,   0],\n",
       "        [255, 255, 255,   0]],\n",
       "\n",
       "       [[255, 255, 255,   0],\n",
       "        [255, 255, 255,   0],\n",
       "        [255, 255, 255,   0],\n",
       "        ...,\n",
       "        [255, 255, 255,   0],\n",
       "        [255, 255, 255,   0],\n",
       "        [255, 255, 255,   0]],\n",
       "\n",
       "       ...,\n",
       "\n",
       "       [[255, 255, 255,   0],\n",
       "        [255, 255, 255,   0],\n",
       "        [255, 255, 255,   0],\n",
       "        ...,\n",
       "        [255, 255, 255,   0],\n",
       "        [255, 255, 255,   0],\n",
       "        [255, 255, 255,   0]],\n",
       "\n",
       "       [[255, 255, 255,   0],\n",
       "        [255, 255, 255,   0],\n",
       "        [255, 255, 255,   0],\n",
       "        ...,\n",
       "        [255, 255, 255,   0],\n",
       "        [255, 255, 255,   0],\n",
       "        [255, 255, 255,   0]],\n",
       "\n",
       "       [[255, 255, 255,   0],\n",
       "        [255, 255, 255,   0],\n",
       "        [255, 255, 255,   0],\n",
       "        ...,\n",
       "        [255, 255, 255,   0],\n",
       "        [255, 255, 255,   0],\n",
       "        [255, 255, 255,   0]]], dtype=uint8)"
      ]
     },
     "execution_count": 141,
     "metadata": {},
     "output_type": "execute_result"
    }
   ],
   "source": [
    "c.data_rgba"
   ]
  },
  {
   "cell_type": "code",
   "execution_count": null,
   "metadata": {},
   "outputs": [
    {
     "data": {
      "text/plain": [
       "(4, 496, 370)"
      ]
     },
     "execution_count": 140,
     "metadata": {},
     "output_type": "execute_result"
    }
   ],
   "source": [
    "np.asarray(\n",
    "    c.data_rgba.T,\n",
    "dtype=[\n",
    "    ('r', np.uint8),\n",
    "    ('g', np.uint8),\n",
    "    ('b', np.uint8),\n",
    "    ('a', np.uint8)\n",
    "]    \n",
    ")[['r', 'g']].shape\n"
   ]
  },
  {
   "cell_type": "code",
   "execution_count": null,
   "metadata": {},
   "outputs": [
    {
     "ename": "IndexError",
     "evalue": "only integers, slices (`:`), ellipsis (`...`), numpy.newaxis (`None`) and integer or boolean arrays are valid indices",
     "output_type": "error",
     "traceback": [
      "\u001b[0;31m---------------------------------------------------------------------------\u001b[0m",
      "\u001b[0;31mIndexError\u001b[0m                                Traceback (most recent call last)",
      "Cell \u001b[0;32mIn[113], line 1\u001b[0m\n\u001b[0;32m----> 1\u001b[0m c\u001b[39m.\u001b[39;49mdata_rgba[\u001b[39m'\u001b[39;49m\u001b[39mg\u001b[39;49m\u001b[39m'\u001b[39;49m]\n",
      "\u001b[0;31mIndexError\u001b[0m: only integers, slices (`:`), ellipsis (`...`), numpy.newaxis (`None`) and integer or boolean arrays are valid indices"
     ]
    }
   ],
   "source": [
    "c.data_rgba['g']"
   ]
  },
  {
   "cell_type": "code",
   "execution_count": null,
   "metadata": {},
   "outputs": [
    {
     "data": {
      "text/plain": [
       "(370, 496, 4)"
      ]
     },
     "execution_count": 102,
     "metadata": {},
     "output_type": "execute_result"
    }
   ],
   "source": [
    "c.data_rgba.shape"
   ]
  },
  {
   "cell_type": "code",
   "execution_count": null,
   "metadata": {},
   "outputs": [
    {
     "data": {
      "text/plain": [
       "(370, 496, 4)"
      ]
     },
     "execution_count": 99,
     "metadata": {},
     "output_type": "execute_result"
    }
   ],
   "source": [
    "np.squeeze(c.data_rgba.take([0, 1, 2, 3], axis=2)).shape\n"
   ]
  },
  {
   "cell_type": "code",
   "execution_count": null,
   "metadata": {},
   "outputs": [
    {
     "data": {
      "text/plain": [
       "(80.0, 52.8, 496.0, 369.59999999999997)"
      ]
     },
     "execution_count": 114,
     "metadata": {},
     "output_type": "execute_result"
    }
   ],
   "source": [
    "c.ax.get_window_extent(c.fig.canvas.get_renderer()).bounds"
   ]
  },
  {
   "cell_type": "code",
   "execution_count": null,
   "metadata": {},
   "outputs": [],
   "source": [
    "bb = ax.get_tightbbox()"
   ]
  },
  {
   "cell_type": "code",
   "execution_count": null,
   "metadata": {},
   "outputs": [
    {
     "data": {
      "text/plain": [
       "<matplotlib.transforms.TransformedBbox at 0x7f5c61919090>"
      ]
     },
     "execution_count": 179,
     "metadata": {},
     "output_type": "execute_result"
    }
   ],
   "source": [
    "ax.bbox"
   ]
  },
  {
   "cell_type": "code",
   "execution_count": null,
   "metadata": {},
   "outputs": [
    {
     "data": {
      "text/plain": [
       "array([6.4, 4.8])"
      ]
     },
     "execution_count": 186,
     "metadata": {},
     "output_type": "execute_result"
    }
   ],
   "source": [
    "fig.get_size_inches()"
   ]
  },
  {
   "cell_type": "code",
   "execution_count": null,
   "metadata": {},
   "outputs": [
    {
     "data": {
      "text/plain": [
       "Bbox([[0.8, 0.528], [5.76, 4.224]])"
      ]
     },
     "execution_count": 194,
     "metadata": {},
     "output_type": "execute_result"
    }
   ],
   "source": [
    "ax.bbox.transformed(fig.dpi_scale_trans.inverted())"
   ]
  },
  {
   "cell_type": "code",
   "execution_count": null,
   "metadata": {},
   "outputs": [
    {
     "data": {
      "text/plain": [
       "Bbox([[0.0, 0.0], [6.4, 4.8]])"
      ]
     },
     "execution_count": 192,
     "metadata": {},
     "output_type": "execute_result"
    }
   ],
   "source": [
    "fig.bbox.transformed(fig.dpi_scale_trans.inverted())"
   ]
  },
  {
   "cell_type": "code",
   "execution_count": null,
   "metadata": {},
   "outputs": [
    {
     "data": {
      "text/plain": [
       "Bbox([[0.8, 0.528], [5.76, 4.224]])"
      ]
     },
     "execution_count": 185,
     "metadata": {},
     "output_type": "execute_result"
    }
   ],
   "source": [
    "bb.transformed(fig.dpi_scale_trans.inverted())"
   ]
  },
  {
   "cell_type": "code",
   "execution_count": null,
   "metadata": {},
   "outputs": [
    {
     "data": {
      "text/plain": [
       "Bbox([[80.0, 52.8], [576.0, 422.4]])"
      ]
     },
     "execution_count": 181,
     "metadata": {},
     "output_type": "execute_result"
    }
   ],
   "source": [
    "ax.get_tightbbox()"
   ]
  },
  {
   "cell_type": "code",
   "execution_count": null,
   "metadata": {},
   "outputs": [
    {
     "data": {
      "text/plain": [
       "matplotlib.axes._subplots.AxesSubplot"
      ]
     },
     "execution_count": 180,
     "metadata": {},
     "output_type": "execute_result"
    }
   ],
   "source": [
    "type(ax)"
   ]
  },
  {
   "cell_type": "code",
   "execution_count": null,
   "metadata": {},
   "outputs": [],
   "source": [
    "b = ax.get_window_extent()"
   ]
  },
  {
   "cell_type": "code",
   "execution_count": null,
   "metadata": {},
   "outputs": [
    {
     "data": {
      "text/plain": [
       "(0.0, 0.0, 640.0, 480.0)"
      ]
     },
     "execution_count": 103,
     "metadata": {},
     "output_type": "execute_result"
    }
   ],
   "source": [
    "fig.get_window_extent().bounds"
   ]
  },
  {
   "cell_type": "code",
   "execution_count": null,
   "metadata": {},
   "outputs": [
    {
     "data": {
      "text/plain": [
       "(80.0, 52.8, 496.0, 369.59999999999997)"
      ]
     },
     "execution_count": 90,
     "metadata": {},
     "output_type": "execute_result"
    }
   ],
   "source": [
    "b.bounds"
   ]
  },
  {
   "cell_type": "code",
   "execution_count": null,
   "metadata": {},
   "outputs": [
    {
     "data": {
      "text/plain": [
       "<module 'wordcloud' from '/home/rexjo/.local/lib/python3.10/site-packages/wordcloud/__init__.py'>"
      ]
     },
     "execution_count": 35,
     "metadata": {},
     "output_type": "execute_result"
    }
   ],
   "source": [
    "import importlib\n",
    "importlib.reload(wordcloud)"
   ]
  },
  {
   "cell_type": "code",
   "execution_count": null,
   "metadata": {},
   "outputs": [
    {
     "data": {
      "image/png": "[encoded data removed]",
      "text/plain": [
       "<Figure size 640x480 with 1 Axes>"
      ]
     },
     "metadata": {},
     "output_type": "display_data"
    }
   ],
   "source": [
    "import matplotlib.pyplot as plt\n",
    "\n",
    "f = plt.figure()\n",
    "ax = f.add_subplot(111)\n",
    "ax.plot([0,10], [4,0])\n",
    "\n",
    "ax.axis('off')\n",
    "\n",
    "t = ax.text(3.2, 2.1, \"testing...\")\n",
    "t.set_rotation('horizontal')\n",
    "\n",
    "# get the inverse of the transformation from data coordinates to pixels\n",
    "transf = ax.transData.inverted()\n",
    "bb = t.get_window_extent(f.canvas.get_renderer())\n",
    "bb_datacoords = bb.transformed(transf)"
   ]
  },
  {
   "cell_type": "code",
   "execution_count": null,
   "metadata": {},
   "outputs": [],
   "source": [
    "canvas = f.canvas"
   ]
  },
  {
   "cell_type": "code",
   "execution_count": null,
   "metadata": {},
   "outputs": [
    {
     "data": {
      "text/plain": [
       "<function RendererAgg.copy_from_bbox>"
      ]
     },
     "execution_count": 75,
     "metadata": {},
     "output_type": "execute_result"
    }
   ],
   "source": [
    "canvas.renderer.copy_from_bbox"
   ]
  },
  {
   "cell_type": "code",
   "execution_count": null,
   "metadata": {},
   "outputs": [
    {
     "data": {
      "text/plain": [
       "<bound method FigureCanvasAgg.copy_from_bbox of <matplotlib.backends.backend_agg.FigureCanvasAgg object at 0x7f75ada339a0>>"
      ]
     },
     "execution_count": 73,
     "metadata": {},
     "output_type": "execute_result"
    }
   ],
   "source": [
    "canvas.copy_from_bbox"
   ]
  },
  {
   "cell_type": "code",
   "execution_count": null,
   "metadata": {},
   "outputs": [
    {
     "data": {
      "text/plain": [
       "<matplotlib.backends._backend_agg.BufferRegion at 0x7f75ac6883f0>"
      ]
     },
     "execution_count": 72,
     "metadata": {},
     "output_type": "execute_result"
    }
   ],
   "source": [
    "canvas.copy_from_bbox(ax.bbox)"
   ]
  },
  {
   "cell_type": "code",
   "execution_count": null,
   "metadata": {},
   "outputs": [],
   "source": [
    "aaa = f.canvas.copy_from_bbox(ax.bbox)"
   ]
  },
  {
   "cell_type": "code",
   "execution_count": null,
   "metadata": {},
   "outputs": [],
   "source": []
  },
  {
   "cell_type": "code",
   "execution_count": null,
   "metadata": {},
   "outputs": [
    {
     "data": {
      "text/plain": [
       "(370, 496, 4)"
      ]
     },
     "execution_count": 80,
     "metadata": {},
     "output_type": "execute_result"
    }
   ],
   "source": [
    "np.array(aaa).shape"
   ]
  },
  {
   "cell_type": "code",
   "execution_count": null,
   "metadata": {},
   "outputs": [
    {
     "data": {
      "text/plain": [
       "array([[[255, 255, 255, 255],\n",
       "        [255, 255, 255, 255],\n",
       "        [255, 255, 255, 255],\n",
       "        ...,\n",
       "        [255, 255, 255, 255],\n",
       "        [255, 255, 255, 255],\n",
       "        [255, 255, 255, 255]],\n",
       "\n",
       "       [[255, 255, 255, 255],\n",
       "        [255, 255, 255, 255],\n",
       "        [255, 255, 255, 255],\n",
       "        ...,\n",
       "        [255, 255, 255, 255],\n",
       "        [255, 255, 255, 255],\n",
       "        [255, 255, 255, 255]],\n",
       "\n",
       "       [[255, 255, 255, 255],\n",
       "        [255, 255, 255, 255],\n",
       "        [255, 255, 255, 255],\n",
       "        ...,\n",
       "        [255, 255, 255, 255],\n",
       "        [255, 255, 255, 255],\n",
       "        [255, 255, 255, 255]],\n",
       "\n",
       "       ...,\n",
       "\n",
       "       [[255, 255, 255, 255],\n",
       "        [255, 255, 255, 255],\n",
       "        [255, 255, 255, 255],\n",
       "        ...,\n",
       "        [255, 255, 255, 255],\n",
       "        [255, 255, 255, 255],\n",
       "        [255, 255, 255, 255]],\n",
       "\n",
       "       [[255, 255, 255, 255],\n",
       "        [255, 255, 255, 255],\n",
       "        [255, 255, 255, 255],\n",
       "        ...,\n",
       "        [255, 255, 255, 255],\n",
       "        [255, 255, 255, 255],\n",
       "        [255, 255, 255, 255]],\n",
       "\n",
       "       [[255, 255, 255, 255],\n",
       "        [255, 255, 255, 255],\n",
       "        [255, 255, 255, 255],\n",
       "        ...,\n",
       "        [255, 255, 255, 255],\n",
       "        [255, 255, 255, 255],\n",
       "        [255, 255, 255, 255]]], dtype=uint8)"
      ]
     },
     "execution_count": 82,
     "metadata": {},
     "output_type": "execute_result"
    }
   ],
   "source": [
    "np.squeeze(np.array(f.canvas.buffer_rgba()))"
   ]
  },
  {
   "cell_type": "code",
   "execution_count": null,
   "metadata": {},
   "outputs": [
    {
     "data": {
      "text/plain": [
       "(0.0, 0.0, 640.0, 480.0)"
      ]
     },
     "metadata": {},
     "output_type": "display_data"
    }
   ],
   "source": [
    "f.get_window_extent().bounds"
   ]
  },
  {
   "cell_type": "code",
   "execution_count": null,
   "metadata": {},
   "outputs": [],
   "source": [
    "aaa.to_string_argb()"
   ]
  },
  {
   "cell_type": "code",
   "execution_count": null,
   "metadata": {},
   "outputs": [
    {
     "data": {
      "text/plain": [
       "matplotlib.backends._backend_agg.BufferRegion"
      ]
     },
     "metadata": {},
     "output_type": "display_data"
    }
   ],
   "source": [
    "type(aaa)"
   ]
  },
  {
   "cell_type": "code",
   "execution_count": null,
   "metadata": {},
   "outputs": [
    {
     "data": {
      "text/plain": [
       "(80, 58, 576, 428)"
      ]
     },
     "metadata": {},
     "output_type": "display_data"
    }
   ],
   "source": [
    "aaa.get_extents()"
   ]
  },
  {
   "cell_type": "code",
   "execution_count": null,
   "metadata": {},
   "outputs": [],
   "source": [
    "_, _, width, height = aaa.get_extents()"
   ]
  },
  {
   "cell_type": "code",
   "execution_count": null,
   "metadata": {},
   "outputs": [
    {
     "ename": "ValueError",
     "evalue": "cannot reshape array of size 734080 into shape (576,428,newaxis)",
     "output_type": "error",
     "traceback": [
      "\u001b[0;31m---------------------------------------------------------------------------\u001b[0m\n",
      "\u001b[0;31mValueError\u001b[0m                                Traceback (most recent call last)\n",
      "Cell \u001b[0;32mIn[61], line 1\u001b[0m\n",
      "\u001b[0;32m----> 1\u001b[0m np\u001b[39m.\u001b[39;49mfrombuffer(aaa\u001b[39m.\u001b[39;49mto_string_argb(), dtype\u001b[39m=\u001b[39;49mnp\u001b[39m.\u001b[39;49muint8)\u001b[39m.\u001b[39;49mreshape(width, height, \u001b[39m-\u001b[39;49m\u001b[39m1\u001b[39;49m)\n",
      "\n",
      "\u001b[0;31mValueError\u001b[0m: cannot reshape array of size 734080 into shape (576,428,newaxis)"
     ]
    }
   ],
   "source": [
    "np.frombuffer(aaa.to_string_argb(), dtype=np.uint8).reshape(width, height, -1)"
   ]
  },
  {
   "cell_type": "code",
   "execution_count": null,
   "metadata": {},
   "outputs": [
    {
     "data": {
      "text/plain": [
       "2.998496830272531"
      ]
     },
     "metadata": {},
     "output_type": "display_data"
    }
   ],
   "source": [
    "734080/((576-4)*(428))"
   ]
  },
  {
   "cell_type": "code",
   "execution_count": null,
   "metadata": {},
   "outputs": [
    {
     "data": {
      "text/plain": [
       "571.7133956386293"
      ]
     },
     "metadata": {},
     "output_type": "display_data"
    }
   ],
   "source": [
    "734080/((3)*(428))\n"
   ]
  },
  {
   "cell_type": "code",
   "execution_count": null,
   "metadata": {},
   "outputs": [
    {
     "data": {
      "text/plain": [
       "(80, 58, 576, 428)"
      ]
     },
     "metadata": {},
     "output_type": "display_data"
    }
   ],
   "source": [
    "_, _, width, height = aaa.get_extents()"
   ]
  },
  {
   "cell_type": "code",
   "execution_count": null,
   "metadata": {},
   "outputs": [
    {
     "data": {
      "text/plain": [
       "Bbox([[0.8, 0.528], [5.76, 4.224]])"
      ]
     },
     "metadata": {},
     "output_type": "display_data"
    }
   ],
   "source": [
    "ax.bbox.transformed(\n",
    "                    f.dpi_scale_trans.inverted()\n",
    "                )"
   ]
  },
  {
   "cell_type": "code",
   "execution_count": null,
   "metadata": {},
   "outputs": [
    {
     "data": {
      "text/plain": [
       "369.59999999999997"
      ]
     },
     "metadata": {},
     "output_type": "display_data"
    }
   ],
   "source": [
    "ax.bbox.height"
   ]
  },
  {
   "cell_type": "code",
   "execution_count": null,
   "metadata": {},
   "outputs": [
    {
     "data": {
      "text/plain": [
       "480.0"
      ]
     },
     "metadata": {},
     "output_type": "display_data"
    }
   ],
   "source": [
    "f.bbox.height"
   ]
  },
  {
   "cell_type": "code",
   "execution_count": null,
   "metadata": {},
   "outputs": [],
   "source": [
    "def fig2rgb_array(fig):\n",
    "    fig.canvas.draw()\n",
    "    buf = fig.canvas.tostring_rgb()\n",
    "    ncols, nrows = fig.canvas.get_width_height()\n",
    "    return np.frombuffer(buf, dtype=np.uint8).reshape(nrows, ncols, 3)"
   ]
  },
  {
   "cell_type": "code",
   "execution_count": null,
   "metadata": {},
   "outputs": [
    {
     "data": {
      "text/plain": [
       "array([[[255, 255, 255],\n",
       "        [255, 255, 255],\n",
       "        [255, 255, 255],\n",
       "        ...,\n",
       "        [255, 255, 255],\n",
       "        [255, 255, 255],\n",
       "        [255, 255, 255]],\n",
       "\n",
       "       [[255, 255, 255],\n",
       "        [255, 255, 255],\n",
       "        [255, 255, 255],\n",
       "        ...,\n",
       "        [255, 255, 255],\n",
       "        [255, 255, 255],\n",
       "        [255, 255, 255]],\n",
       "\n",
       "       [[255, 255, 255],\n",
       "        [255, 255, 255],\n",
       "        [255, 255, 255],\n",
       "        ...,\n",
       "        [255, 255, 255],\n",
       "        [255, 255, 255],\n",
       "        [255, 255, 255]],\n",
       "\n",
       "       ...,\n",
       "\n",
       "       [[255, 255, 255],\n",
       "        [255, 255, 255],\n",
       "        [255, 255, 255],\n",
       "        ...,\n",
       "        [255, 255, 255],\n",
       "        [255, 255, 255],\n",
       "        [255, 255, 255]],\n",
       "\n",
       "       [[255, 255, 255],\n",
       "        [255, 255, 255],\n",
       "        [255, 255, 255],\n",
       "        ...,\n",
       "        [255, 255, 255],\n",
       "        [255, 255, 255],\n",
       "        [255, 255, 255]],\n",
       "\n",
       "       [[255, 255, 255],\n",
       "        [255, 255, 255],\n",
       "        [255, 255, 255],\n",
       "        ...,\n",
       "        [255, 255, 255],\n",
       "        [255, 255, 255],\n",
       "        [255, 255, 255]]], dtype=uint8)"
      ]
     },
     "execution_count": 15,
     "metadata": {},
     "output_type": "execute_result"
    }
   ],
   "source": [
    "fig2rgb_array(f)"
   ]
  },
  {
   "cell_type": "code",
   "execution_count": null,
   "metadata": {},
   "outputs": [],
   "source": [
    "import copy"
   ]
  },
  {
   "cell_type": "code",
   "execution_count": null,
   "metadata": {},
   "outputs": [
    {
     "ename": "AttributeError",
     "evalue": "Figure.show works only for figures managed by pyplot, normally created by pyplot.figure()",
     "output_type": "error",
     "traceback": [
      "\u001b[0;31m---------------------------------------------------------------------------\u001b[0m",
      "\u001b[0;31mAttributeError\u001b[0m                            Traceback (most recent call last)",
      "Cell \u001b[0;32mIn[173], line 1\u001b[0m\n\u001b[0;32m----> 1\u001b[0m copy\u001b[39m.\u001b[39;49mcopy(f)\u001b[39m.\u001b[39;49mshow()\n",
      "File \u001b[0;32m~/.local/lib/python3.10/site-packages/matplotlib/figure.py:2632\u001b[0m, in \u001b[0;36mFigure.show\u001b[0;34m(self, warn)\u001b[0m\n\u001b[1;32m   2605\u001b[0m \u001b[39m\"\"\"\u001b[39;00m\n\u001b[1;32m   2606\u001b[0m \u001b[39mIf using a GUI backend with pyplot, display the figure window.\u001b[39;00m\n\u001b[1;32m   2607\u001b[0m \n\u001b[0;32m   (...)\u001b[0m\n\u001b[1;32m   2629\u001b[0m \u001b[39m    unset DISPLAY), issue warning when called on a non-GUI backend.\u001b[39;00m\n\u001b[1;32m   2630\u001b[0m \u001b[39m\"\"\"\u001b[39;00m\n\u001b[1;32m   2631\u001b[0m \u001b[39mif\u001b[39;00m \u001b[39mself\u001b[39m\u001b[39m.\u001b[39mcanvas\u001b[39m.\u001b[39mmanager \u001b[39mis\u001b[39;00m \u001b[39mNone\u001b[39;00m:\n\u001b[0;32m-> 2632\u001b[0m     \u001b[39mraise\u001b[39;00m \u001b[39mAttributeError\u001b[39;00m(\n\u001b[1;32m   2633\u001b[0m         \u001b[39m\"\u001b[39m\u001b[39mFigure.show works only for figures managed by pyplot, \u001b[39m\u001b[39m\"\u001b[39m\n\u001b[1;32m   2634\u001b[0m         \u001b[39m\"\u001b[39m\u001b[39mnormally created by pyplot.figure()\u001b[39m\u001b[39m\"\u001b[39m)\n\u001b[1;32m   2635\u001b[0m \u001b[39mtry\u001b[39;00m:\n\u001b[1;32m   2636\u001b[0m     \u001b[39mself\u001b[39m\u001b[39m.\u001b[39mcanvas\u001b[39m.\u001b[39mmanager\u001b[39m.\u001b[39mshow()\n",
      "\u001b[0;31mAttributeError\u001b[0m: Figure.show works only for figures managed by pyplot, normally created by pyplot.figure()"
     ]
    }
   ],
   "source": [
    "copy.copy(f).show()"
   ]
  },
  {
   "cell_type": "code",
   "execution_count": null,
   "metadata": {},
   "outputs": [],
   "source": [
    "f.draw(f.canvas.get_renderer())"
   ]
  },
  {
   "cell_type": "code",
   "execution_count": null,
   "metadata": {},
   "outputs": [
    {
     "data": {
      "text/plain": [
       "(80.0, 52.8, 496.0, 369.59999999999997)"
      ]
     },
     "execution_count": 124,
     "metadata": {},
     "output_type": "execute_result"
    }
   ],
   "source": [
    "ax.get_window_extent().bounds"
   ]
  },
  {
   "cell_type": "code",
   "execution_count": null,
   "metadata": {},
   "outputs": [
    {
     "data": {
      "text/plain": [
       "False"
      ]
     },
     "execution_count": 130,
     "metadata": {},
     "output_type": "execute_result"
    }
   ],
   "source": [
    "np.isnan(np.frombuffer(f.canvas.tostring_rgb())).all()"
   ]
  },
  {
   "cell_type": "code",
   "execution_count": null,
   "metadata": {},
   "outputs": [
    {
     "data": {
      "text/plain": [
       "Bbox([[328.0, 233.59999999999997], [419.125, 251.59999999999997]])"
      ]
     },
     "execution_count": 76,
     "metadata": {},
     "output_type": "execute_result"
    },
    {
     "data": {
      "image/svg+xml": "<?xml version=\"1.0\" encoding=\"utf-8\" standalone=\"no\"?>\n<!DOCTYPE svg PUBLIC \"-//W3C//DTD SVG 1.1//EN\"\n  \"http://www.w3.org/Graphics/SVG/1.1/DTD/svg11.dtd\">\n<svg xmlns:xlink=\"http://www.w3.org/1999/xlink\" width=\"402.374687pt\" height=\"300.989344pt\" viewBox=\"0 0 402.374687 300.989344\" xmlns=\"http://www.w3.org/2000/svg\" version=\"1.1\">\n <metadata>\n  <rdf:RDF xmlns:dc=\"http://purl.org/dc/elements/1.1/\" xmlns:cc=\"http://creativecommons.org/ns#\" xmlns:rdf=\"http://www.w3.org/1999/02/22-rdf-syntax-ns#\">\n   <cc:Work>\n    <dc:type rdf:resource=\"http://purl.org/dc/dcmitype/StillImage\"/>\n    <dc:date>2022-12-24T17:19:39.510474</dc:date>\n    <dc:format>image/svg+xml</dc:format>\n    <dc:creator>\n     <cc:Agent>\n      <dc:title>Matplotlib v3.6.2, https://matplotlib.org/</dc:title>\n     </cc:Agent>\n    </dc:creator>\n   </cc:Work>\n  </rdf:RDF>\n </metadata>\n <defs>\n  <style type=\"text/css\">*{stroke-linejoin: round; stroke-linecap: butt}</style>\n </defs>\n <g id=\"figure_1\">\n  <g id=\"patch_1\">\n   <path d=\"M 0 300.989344 \nL 402.374687 300.989344 \nL 402.374687 0 \nL 0 0 \nz\n\" style=\"fill: #ffffff\"/>\n  </g>\n  <g id=\"axes_1\">\n   <g id=\"patch_2\">\n    <path d=\"M 30.103125 277.111219 \nL 387.223125 277.111219 \nL 387.223125 10.999219 \nL 30.103125 10.999219 \nz\n\" style=\"fill: #ffffff\"/>\n   </g>\n   <g id=\"matplotlib.axis_1\">\n    <g id=\"xtick_1\">\n     <g id=\"line2d_1\">\n      <defs>\n       <path id=\"m0f1d2e7819\" d=\"M 0 0 \nL 0 3.5 \n\" style=\"stroke: #000000; stroke-width: 0.8\"/>\n      </defs>\n      <g>\n       <use xlink:href=\"#m0f1d2e7819\" x=\"30.103125\" y=\"277.111219\" style=\"stroke: #000000; stroke-width: 0.8\"/>\n      </g>\n     </g>\n     <g id=\"text_1\">\n      <!-- 0.0 -->\n      <g transform=\"translate(22.151563 291.709656) scale(0.1 -0.1)\">\n       <defs>\n        <path id=\"DejaVuSans-30\" d=\"M 2034 4250 \nQ 1547 4250 1301 3770 \nQ 1056 3291 1056 2328 \nQ 1056 1369 1301 889 \nQ 1547 409 2034 409 \nQ 2525 409 2770 889 \nQ 3016 1369 3016 2328 \nQ 3016 3291 2770 3770 \nQ 2525 4250 2034 4250 \nz\nM 2034 4750 \nQ 2819 4750 3233 4129 \nQ 3647 3509 3647 2328 \nQ 3647 1150 3233 529 \nQ 2819 -91 2034 -91 \nQ 1250 -91 836 529 \nQ 422 1150 422 2328 \nQ 422 3509 836 4129 \nQ 1250 4750 2034 4750 \nz\n\" transform=\"scale(0.015625)\"/>\n        <path id=\"DejaVuSans-2e\" d=\"M 684 794 \nL 1344 794 \nL 1344 0 \nL 684 0 \nL 684 794 \nz\n\" transform=\"scale(0.015625)\"/>\n       </defs>\n       <use xlink:href=\"#DejaVuSans-30\"/>\n       <use xlink:href=\"#DejaVuSans-2e\" x=\"63.623047\"/>\n       <use xlink:href=\"#DejaVuSans-30\" x=\"95.410156\"/>\n      </g>\n     </g>\n    </g>\n    <g id=\"xtick_2\">\n     <g id=\"line2d_2\">\n      <g>\n       <use xlink:href=\"#m0f1d2e7819\" x=\"101.527125\" y=\"277.111219\" style=\"stroke: #000000; stroke-width: 0.8\"/>\n      </g>\n     </g>\n     <g id=\"text_2\">\n      <!-- 0.2 -->\n      <g transform=\"translate(93.575563 291.709656) scale(0.1 -0.1)\">\n       <defs>\n        <path id=\"DejaVuSans-32\" d=\"M 1228 531 \nL 3431 531 \nL 3431 0 \nL 469 0 \nL 469 531 \nQ 828 903 1448 1529 \nQ 2069 2156 2228 2338 \nQ 2531 2678 2651 2914 \nQ 2772 3150 2772 3378 \nQ 2772 3750 2511 3984 \nQ 2250 4219 1831 4219 \nQ 1534 4219 1204 4116 \nQ 875 4013 500 3803 \nL 500 4441 \nQ 881 4594 1212 4672 \nQ 1544 4750 1819 4750 \nQ 2544 4750 2975 4387 \nQ 3406 4025 3406 3419 \nQ 3406 3131 3298 2873 \nQ 3191 2616 2906 2266 \nQ 2828 2175 2409 1742 \nQ 1991 1309 1228 531 \nz\n\" transform=\"scale(0.015625)\"/>\n       </defs>\n       <use xlink:href=\"#DejaVuSans-30\"/>\n       <use xlink:href=\"#DejaVuSans-2e\" x=\"63.623047\"/>\n       <use xlink:href=\"#DejaVuSans-32\" x=\"95.410156\"/>\n      </g>\n     </g>\n    </g>\n    <g id=\"xtick_3\">\n     <g id=\"line2d_3\">\n      <g>\n       <use xlink:href=\"#m0f1d2e7819\" x=\"172.951125\" y=\"277.111219\" style=\"stroke: #000000; stroke-width: 0.8\"/>\n      </g>\n     </g>\n     <g id=\"text_3\">\n      <!-- 0.4 -->\n      <g transform=\"translate(164.999563 291.709656) scale(0.1 -0.1)\">\n       <defs>\n        <path id=\"DejaVuSans-34\" d=\"M 2419 4116 \nL 825 1625 \nL 2419 1625 \nL 2419 4116 \nz\nM 2253 4666 \nL 3047 4666 \nL 3047 1625 \nL 3713 1625 \nL 3713 1100 \nL 3047 1100 \nL 3047 0 \nL 2419 0 \nL 2419 1100 \nL 313 1100 \nL 313 1709 \nL 2253 4666 \nz\n\" transform=\"scale(0.015625)\"/>\n       </defs>\n       <use xlink:href=\"#DejaVuSans-30\"/>\n       <use xlink:href=\"#DejaVuSans-2e\" x=\"63.623047\"/>\n       <use xlink:href=\"#DejaVuSans-34\" x=\"95.410156\"/>\n      </g>\n     </g>\n    </g>\n    <g id=\"xtick_4\">\n     <g id=\"line2d_4\">\n      <g>\n       <use xlink:href=\"#m0f1d2e7819\" x=\"244.375125\" y=\"277.111219\" style=\"stroke: #000000; stroke-width: 0.8\"/>\n      </g>\n     </g>\n     <g id=\"text_4\">\n      <!-- 0.6 -->\n      <g transform=\"translate(236.423563 291.709656) scale(0.1 -0.1)\">\n       <defs>\n        <path id=\"DejaVuSans-36\" d=\"M 2113 2584 \nQ 1688 2584 1439 2293 \nQ 1191 2003 1191 1497 \nQ 1191 994 1439 701 \nQ 1688 409 2113 409 \nQ 2538 409 2786 701 \nQ 3034 994 3034 1497 \nQ 3034 2003 2786 2293 \nQ 2538 2584 2113 2584 \nz\nM 3366 4563 \nL 3366 3988 \nQ 3128 4100 2886 4159 \nQ 2644 4219 2406 4219 \nQ 1781 4219 1451 3797 \nQ 1122 3375 1075 2522 \nQ 1259 2794 1537 2939 \nQ 1816 3084 2150 3084 \nQ 2853 3084 3261 2657 \nQ 3669 2231 3669 1497 \nQ 3669 778 3244 343 \nQ 2819 -91 2113 -91 \nQ 1303 -91 875 529 \nQ 447 1150 447 2328 \nQ 447 3434 972 4092 \nQ 1497 4750 2381 4750 \nQ 2619 4750 2861 4703 \nQ 3103 4656 3366 4563 \nz\n\" transform=\"scale(0.015625)\"/>\n       </defs>\n       <use xlink:href=\"#DejaVuSans-30\"/>\n       <use xlink:href=\"#DejaVuSans-2e\" x=\"63.623047\"/>\n       <use xlink:href=\"#DejaVuSans-36\" x=\"95.410156\"/>\n      </g>\n     </g>\n    </g>\n    <g id=\"xtick_5\">\n     <g id=\"line2d_5\">\n      <g>\n       <use xlink:href=\"#m0f1d2e7819\" x=\"315.799125\" y=\"277.111219\" style=\"stroke: #000000; stroke-width: 0.8\"/>\n      </g>\n     </g>\n     <g id=\"text_5\">\n      <!-- 0.8 -->\n      <g transform=\"translate(307.847562 291.709656) scale(0.1 -0.1)\">\n       <defs>\n        <path id=\"DejaVuSans-38\" d=\"M 2034 2216 \nQ 1584 2216 1326 1975 \nQ 1069 1734 1069 1313 \nQ 1069 891 1326 650 \nQ 1584 409 2034 409 \nQ 2484 409 2743 651 \nQ 3003 894 3003 1313 \nQ 3003 1734 2745 1975 \nQ 2488 2216 2034 2216 \nz\nM 1403 2484 \nQ 997 2584 770 2862 \nQ 544 3141 544 3541 \nQ 544 4100 942 4425 \nQ 1341 4750 2034 4750 \nQ 2731 4750 3128 4425 \nQ 3525 4100 3525 3541 \nQ 3525 3141 3298 2862 \nQ 3072 2584 2669 2484 \nQ 3125 2378 3379 2068 \nQ 3634 1759 3634 1313 \nQ 3634 634 3220 271 \nQ 2806 -91 2034 -91 \nQ 1263 -91 848 271 \nQ 434 634 434 1313 \nQ 434 1759 690 2068 \nQ 947 2378 1403 2484 \nz\nM 1172 3481 \nQ 1172 3119 1398 2916 \nQ 1625 2713 2034 2713 \nQ 2441 2713 2670 2916 \nQ 2900 3119 2900 3481 \nQ 2900 3844 2670 4047 \nQ 2441 4250 2034 4250 \nQ 1625 4250 1398 4047 \nQ 1172 3844 1172 3481 \nz\n\" transform=\"scale(0.015625)\"/>\n       </defs>\n       <use xlink:href=\"#DejaVuSans-30\"/>\n       <use xlink:href=\"#DejaVuSans-2e\" x=\"63.623047\"/>\n       <use xlink:href=\"#DejaVuSans-38\" x=\"95.410156\"/>\n      </g>\n     </g>\n    </g>\n    <g id=\"xtick_6\">\n     <g id=\"line2d_6\">\n      <g>\n       <use xlink:href=\"#m0f1d2e7819\" x=\"387.223125\" y=\"277.111219\" style=\"stroke: #000000; stroke-width: 0.8\"/>\n      </g>\n     </g>\n     <g id=\"text_6\">\n      <!-- 1.0 -->\n      <g transform=\"translate(379.271562 291.709656) scale(0.1 -0.1)\">\n       <defs>\n        <path id=\"DejaVuSans-31\" d=\"M 794 531 \nL 1825 531 \nL 1825 4091 \nL 703 3866 \nL 703 4441 \nL 1819 4666 \nL 2450 4666 \nL 2450 531 \nL 3481 531 \nL 3481 0 \nL 794 0 \nL 794 531 \nz\n\" transform=\"scale(0.015625)\"/>\n       </defs>\n       <use xlink:href=\"#DejaVuSans-31\"/>\n       <use xlink:href=\"#DejaVuSans-2e\" x=\"63.623047\"/>\n       <use xlink:href=\"#DejaVuSans-30\" x=\"95.410156\"/>\n      </g>\n     </g>\n    </g>\n   </g>\n   <g id=\"matplotlib.axis_2\">\n    <g id=\"ytick_1\">\n     <g id=\"line2d_7\">\n      <defs>\n       <path id=\"m311834c813\" d=\"M 0 0 \nL -3.5 0 \n\" style=\"stroke: #000000; stroke-width: 0.8\"/>\n      </defs>\n      <g>\n       <use xlink:href=\"#m311834c813\" x=\"30.103125\" y=\"277.111219\" style=\"stroke: #000000; stroke-width: 0.8\"/>\n      </g>\n     </g>\n     <g id=\"text_7\">\n      <!-- 0.0 -->\n      <g transform=\"translate(7.2 280.910437) scale(0.1 -0.1)\">\n       <use xlink:href=\"#DejaVuSans-30\"/>\n       <use xlink:href=\"#DejaVuSans-2e\" x=\"63.623047\"/>\n       <use xlink:href=\"#DejaVuSans-30\" x=\"95.410156\"/>\n      </g>\n     </g>\n    </g>\n    <g id=\"ytick_2\">\n     <g id=\"line2d_8\">\n      <g>\n       <use xlink:href=\"#m311834c813\" x=\"30.103125\" y=\"223.888819\" style=\"stroke: #000000; stroke-width: 0.8\"/>\n      </g>\n     </g>\n     <g id=\"text_8\">\n      <!-- 0.2 -->\n      <g transform=\"translate(7.2 227.688037) scale(0.1 -0.1)\">\n       <use xlink:href=\"#DejaVuSans-30\"/>\n       <use xlink:href=\"#DejaVuSans-2e\" x=\"63.623047\"/>\n       <use xlink:href=\"#DejaVuSans-32\" x=\"95.410156\"/>\n      </g>\n     </g>\n    </g>\n    <g id=\"ytick_3\">\n     <g id=\"line2d_9\">\n      <g>\n       <use xlink:href=\"#m311834c813\" x=\"30.103125\" y=\"170.666419\" style=\"stroke: #000000; stroke-width: 0.8\"/>\n      </g>\n     </g>\n     <g id=\"text_9\">\n      <!-- 0.4 -->\n      <g transform=\"translate(7.2 174.465637) scale(0.1 -0.1)\">\n       <use xlink:href=\"#DejaVuSans-30\"/>\n       <use xlink:href=\"#DejaVuSans-2e\" x=\"63.623047\"/>\n       <use xlink:href=\"#DejaVuSans-34\" x=\"95.410156\"/>\n      </g>\n     </g>\n    </g>\n    <g id=\"ytick_4\">\n     <g id=\"line2d_10\">\n      <g>\n       <use xlink:href=\"#m311834c813\" x=\"30.103125\" y=\"117.444019\" style=\"stroke: #000000; stroke-width: 0.8\"/>\n      </g>\n     </g>\n     <g id=\"text_10\">\n      <!-- 0.6 -->\n      <g transform=\"translate(7.2 121.243237) scale(0.1 -0.1)\">\n       <use xlink:href=\"#DejaVuSans-30\"/>\n       <use xlink:href=\"#DejaVuSans-2e\" x=\"63.623047\"/>\n       <use xlink:href=\"#DejaVuSans-36\" x=\"95.410156\"/>\n      </g>\n     </g>\n    </g>\n    <g id=\"ytick_5\">\n     <g id=\"line2d_11\">\n      <g>\n       <use xlink:href=\"#m311834c813\" x=\"30.103125\" y=\"64.221619\" style=\"stroke: #000000; stroke-width: 0.8\"/>\n      </g>\n     </g>\n     <g id=\"text_11\">\n      <!-- 0.8 -->\n      <g transform=\"translate(7.2 68.020837) scale(0.1 -0.1)\">\n       <use xlink:href=\"#DejaVuSans-30\"/>\n       <use xlink:href=\"#DejaVuSans-2e\" x=\"63.623047\"/>\n       <use xlink:href=\"#DejaVuSans-38\" x=\"95.410156\"/>\n      </g>\n     </g>\n    </g>\n    <g id=\"ytick_6\">\n     <g id=\"line2d_12\">\n      <g>\n       <use xlink:href=\"#m311834c813\" x=\"30.103125\" y=\"10.999219\" style=\"stroke: #000000; stroke-width: 0.8\"/>\n      </g>\n     </g>\n     <g id=\"text_12\">\n      <!-- 1.0 -->\n      <g transform=\"translate(7.2 14.798437) scale(0.1 -0.1)\">\n       <use xlink:href=\"#DejaVuSans-31\"/>\n       <use xlink:href=\"#DejaVuSans-2e\" x=\"63.623047\"/>\n       <use xlink:href=\"#DejaVuSans-30\" x=\"95.410156\"/>\n      </g>\n     </g>\n    </g>\n   </g>\n   <g id=\"patch_3\">\n    <path d=\"M 30.103125 277.111219 \nL 30.103125 10.999219 \n\" style=\"fill: none; stroke: #000000; stroke-width: 0.8; stroke-linejoin: miter; stroke-linecap: square\"/>\n   </g>\n   <g id=\"patch_4\">\n    <path d=\"M 387.223125 277.111219 \nL 387.223125 10.999219 \n\" style=\"fill: none; stroke: #000000; stroke-width: 0.8; stroke-linejoin: miter; stroke-linecap: square\"/>\n   </g>\n   <g id=\"patch_5\">\n    <path d=\"M 30.103125 277.111219 \nL 387.223125 277.111219 \n\" style=\"fill: none; stroke: #000000; stroke-width: 0.8; stroke-linejoin: miter; stroke-linecap: square\"/>\n   </g>\n   <g id=\"patch_6\">\n    <path d=\"M 30.103125 10.999219 \nL 387.223125 10.999219 \n\" style=\"fill: none; stroke: #000000; stroke-width: 0.8; stroke-linejoin: miter; stroke-linecap: square\"/>\n   </g>\n   <g id=\"text_13\">\n    <g id=\"patch_7\">\n     <path d=\"M 196.663125 158.550844 \nL 286.516875 158.550844 \nL 286.516875 122.937094 \nL 196.663125 122.937094 \nz\n\" style=\"fill: #ff0000\"/>\n    </g>\n    <!-- hello world -->\n    <g transform=\"translate(208.663125 144.055219) scale(0.12 -0.12)\">\n     <defs>\n      <path id=\"DejaVuSans-68\" d=\"M 3513 2113 \nL 3513 0 \nL 2938 0 \nL 2938 2094 \nQ 2938 2591 2744 2837 \nQ 2550 3084 2163 3084 \nQ 1697 3084 1428 2787 \nQ 1159 2491 1159 1978 \nL 1159 0 \nL 581 0 \nL 581 4863 \nL 1159 4863 \nL 1159 2956 \nQ 1366 3272 1645 3428 \nQ 1925 3584 2291 3584 \nQ 2894 3584 3203 3211 \nQ 3513 2838 3513 2113 \nz\n\" transform=\"scale(0.015625)\"/>\n      <path id=\"DejaVuSans-65\" d=\"M 3597 1894 \nL 3597 1613 \nL 953 1613 \nQ 991 1019 1311 708 \nQ 1631 397 2203 397 \nQ 2534 397 2845 478 \nQ 3156 559 3463 722 \nL 3463 178 \nQ 3153 47 2828 -22 \nQ 2503 -91 2169 -91 \nQ 1331 -91 842 396 \nQ 353 884 353 1716 \nQ 353 2575 817 3079 \nQ 1281 3584 2069 3584 \nQ 2775 3584 3186 3129 \nQ 3597 2675 3597 1894 \nz\nM 3022 2063 \nQ 3016 2534 2758 2815 \nQ 2500 3097 2075 3097 \nQ 1594 3097 1305 2825 \nQ 1016 2553 972 2059 \nL 3022 2063 \nz\n\" transform=\"scale(0.015625)\"/>\n      <path id=\"DejaVuSans-6c\" d=\"M 603 4863 \nL 1178 4863 \nL 1178 0 \nL 603 0 \nL 603 4863 \nz\n\" transform=\"scale(0.015625)\"/>\n      <path id=\"DejaVuSans-6f\" d=\"M 1959 3097 \nQ 1497 3097 1228 2736 \nQ 959 2375 959 1747 \nQ 959 1119 1226 758 \nQ 1494 397 1959 397 \nQ 2419 397 2687 759 \nQ 2956 1122 2956 1747 \nQ 2956 2369 2687 2733 \nQ 2419 3097 1959 3097 \nz\nM 1959 3584 \nQ 2709 3584 3137 3096 \nQ 3566 2609 3566 1747 \nQ 3566 888 3137 398 \nQ 2709 -91 1959 -91 \nQ 1206 -91 779 398 \nQ 353 888 353 1747 \nQ 353 2609 779 3096 \nQ 1206 3584 1959 3584 \nz\n\" transform=\"scale(0.015625)\"/>\n      <path id=\"DejaVuSans-20\" transform=\"scale(0.015625)\"/>\n      <path id=\"DejaVuSans-77\" d=\"M 269 3500 \nL 844 3500 \nL 1563 769 \nL 2278 3500 \nL 2956 3500 \nL 3675 769 \nL 4391 3500 \nL 4966 3500 \nL 4050 0 \nL 3372 0 \nL 2619 2869 \nL 1863 0 \nL 1184 0 \nL 269 3500 \nz\n\" transform=\"scale(0.015625)\"/>\n      <path id=\"DejaVuSans-72\" d=\"M 2631 2963 \nQ 2534 3019 2420 3045 \nQ 2306 3072 2169 3072 \nQ 1681 3072 1420 2755 \nQ 1159 2438 1159 1844 \nL 1159 0 \nL 581 0 \nL 581 3500 \nL 1159 3500 \nL 1159 2956 \nQ 1341 3275 1631 3429 \nQ 1922 3584 2338 3584 \nQ 2397 3584 2469 3576 \nQ 2541 3569 2628 3553 \nL 2631 2963 \nz\n\" transform=\"scale(0.015625)\"/>\n      <path id=\"DejaVuSans-64\" d=\"M 2906 2969 \nL 2906 4863 \nL 3481 4863 \nL 3481 0 \nL 2906 0 \nL 2906 525 \nQ 2725 213 2448 61 \nQ 2172 -91 1784 -91 \nQ 1150 -91 751 415 \nQ 353 922 353 1747 \nQ 353 2572 751 3078 \nQ 1150 3584 1784 3584 \nQ 2172 3584 2448 3432 \nQ 2725 3281 2906 2969 \nz\nM 947 1747 \nQ 947 1113 1208 752 \nQ 1469 391 1925 391 \nQ 2381 391 2643 752 \nQ 2906 1113 2906 1747 \nQ 2906 2381 2643 2742 \nQ 2381 3103 1925 3103 \nQ 1469 3103 1208 2742 \nQ 947 2381 947 1747 \nz\n\" transform=\"scale(0.015625)\"/>\n     </defs>\n     <use xlink:href=\"#DejaVuSans-68\"/>\n     <use xlink:href=\"#DejaVuSans-65\" x=\"63.378906\"/>\n     <use xlink:href=\"#DejaVuSans-6c\" x=\"124.902344\"/>\n     <use xlink:href=\"#DejaVuSans-6c\" x=\"152.685547\"/>\n     <use xlink:href=\"#DejaVuSans-6f\" x=\"180.46875\"/>\n     <use xlink:href=\"#DejaVuSans-20\" x=\"241.650391\"/>\n     <use xlink:href=\"#DejaVuSans-77\" x=\"273.4375\"/>\n     <use xlink:href=\"#DejaVuSans-6f\" x=\"355.224609\"/>\n     <use xlink:href=\"#DejaVuSans-72\" x=\"416.40625\"/>\n     <use xlink:href=\"#DejaVuSans-6c\" x=\"457.519531\"/>\n     <use xlink:href=\"#DejaVuSans-64\" x=\"485.302734\"/>\n    </g>\n   </g>\n  </g>\n </g>\n</svg>\n",
      "text/plain": [
       "<Figure size 640x480 with 1 Axes>"
      ]
     },
     "metadata": {},
     "output_type": "display_data"
    }
   ],
   "source": [
    "import matplotlib.pyplot as plt\n",
    "\n",
    "fig, ax = plt.subplots()\n",
    "a = ax.text(0.5, 0.5, 'hello world', fontsize=12,\n",
    "            #bbox=None\n",
    "            #bbox=dict()\n",
    "            bbox=dict(boxstyle='square,pad=1', fc='red', ec='none', visible=True)\n",
    "    )\n",
    "a.get_window_extent()\n",
    "\n",
    "#plt.close()"
   ]
  },
  {
   "cell_type": "code",
   "execution_count": null,
   "metadata": {},
   "outputs": [
    {
     "data": {
      "text/plain": [
       "Bbox([[328.0, 235.10437499999998], [393.85375, 246.71812499999996]])"
      ]
     },
     "execution_count": 80,
     "metadata": {},
     "output_type": "execute_result"
    }
   ],
   "source": [
    "a.get_window_extent()"
   ]
  },
  {
   "cell_type": "code",
   "execution_count": null,
   "metadata": {},
   "outputs": [
    {
     "data": {
      "text/plain": [
       "(328.0, 235.10437499999998, 65.85374999999999, 11.613749999999982)"
      ]
     },
     "execution_count": 85,
     "metadata": {},
     "output_type": "execute_result"
    }
   ],
   "source": [
    "a.get_tightbbox().bounds\n"
   ]
  },
  {
   "cell_type": "code",
   "execution_count": null,
   "metadata": {},
   "outputs": [
    {
     "data": {
      "text/plain": [
       "Bbox([[196.663125, 142.4385], [286.516875, 178.05225000000002]])"
      ]
     },
     "execution_count": 77,
     "metadata": {},
     "output_type": "execute_result"
    }
   ],
   "source": [
    "a.get_bbox_patch().get_extents() #== a.get_bbox_patch().get_window_extent()"
   ]
  },
  {
   "cell_type": "code",
   "execution_count": null,
   "metadata": {},
   "outputs": [
    {
     "data": {
      "text/plain": [
       "Bbox([[196.663125, 142.4385], [286.516875, 178.05225000000002]])"
      ]
     },
     "execution_count": 75,
     "metadata": {},
     "output_type": "execute_result"
    }
   ],
   "source": [
    "a.get_bbox_patch().get_window_extent()"
   ]
  },
  {
   "cell_type": "code",
   "execution_count": null,
   "metadata": {},
   "outputs": [
    {
     "data": {
      "text/plain": [
       "Bbox([[0.0, 0.0], [65.85374999999999, 11.61375]])"
      ]
     },
     "execution_count": 79,
     "metadata": {},
     "output_type": "execute_result"
    }
   ],
   "source": [
    "a.get_bbox_patch().get_bbox()"
   ]
  },
  {
   "cell_type": "code",
   "execution_count": null,
   "metadata": {},
   "outputs": [],
   "source": [
    "t.get_bbox_patch()"
   ]
  },
  {
   "cell_type": "code",
   "execution_count": null,
   "metadata": {},
   "outputs": [
    {
     "data": {
      "text/plain": [
       "Bbox([[1667.2, 825.9599999999999], [1728.45, 839.9599999999999]])"
      ]
     },
     "execution_count": 50,
     "metadata": {},
     "output_type": "execute_result"
    }
   ],
   "source": [
    "bb"
   ]
  },
  {
   "cell_type": "code",
   "execution_count": null,
   "metadata": {},
   "outputs": [
    {
     "data": {
      "image/png": "[encoded data removed]",
      "text/plain": [
       "<PIL.Image.Image image mode=RGB size=400x200>"
      ]
     },
     "metadata": {},
     "output_type": "display_data"
    }
   ],
   "source": [
    "import matplotlib as mpl\n",
    "%matplotlib inline\n",
    "%config InlineBackend.figure_formats = ['svg']\n",
    "\n",
    "import matplotlib.pyplot as plt\n",
    "def set_constrained_layout(plt):\n",
    "    plt.rcParams['figure.constrained_layout.use'] = True\n",
    "set_constrained_layout(plt)\n",
    "\n",
    "plt.style.use('default')\n",
    "\n",
    "import wordcloud\n",
    "\n",
    "display(wordcloud.WordCloud().generate('this is a test word cloud and many more').to_image())"
   ]
  },
  {
   "cell_type": "code",
   "execution_count": null,
   "metadata": {},
   "outputs": [
    {
     "data": {
      "text/plain": [
       "['__builtins__',\n",
       " '__cached__',\n",
       " '__doc__',\n",
       " '__file__',\n",
       " '__loader__',\n",
       " '__name__',\n",
       " '__package__',\n",
       " '__spec__',\n",
       " 'generate_from_frequencies']"
      ]
     },
     "execution_count": 33,
     "metadata": {},
     "output_type": "execute_result"
    }
   ],
   "source": [
    "dir(wordcloud)"
   ]
  },
  {
   "cell_type": "code",
   "execution_count": null,
   "metadata": {},
   "outputs": [],
   "source": [
    "import wordcloud"
   ]
  },
  {
   "cell_type": "code",
   "execution_count": null,
   "metadata": {},
   "outputs": [
    {
     "data": {
      "text/plain": [
       "(<Figure size 640x480 with 1 Axes>, <AxesSubplot: >)"
      ]
     },
     "execution_count": 12,
     "metadata": {},
     "output_type": "execute_result"
    },
    {
     "data": {
      "image/png": "[encoded data removed]",
      "text/plain": [
       "<Figure size 640x480 with 1 Axes>"
      ]
     },
     "metadata": {},
     "output_type": "display_data"
    }
   ],
   "source": [
    "import matplotlib.pyplot as plt\n",
    "plt.subplots()"
   ]
  },
  {
   "cell_type": "code",
   "execution_count": null,
   "metadata": {},
   "outputs": [
    {
     "data": {
      "image/png": "[encoded data removed]",
      "text/plain": [
       "<Figure size 640x480 with 1 Axes>"
      ]
     },
     "metadata": {},
     "output_type": "display_data"
    }
   ],
   "source": []
  },
  {
   "cell_type": "code",
   "execution_count": null,
   "metadata": {},
   "outputs": [],
   "source": [
    "ax.transData"
   ]
  },
  {
   "cell_type": "code",
   "execution_count": null,
   "metadata": {},
   "outputs": [
    {
     "data": {
      "text/plain": [
       "Text(0.5, 0.5, 'Test 1')"
      ]
     },
     "execution_count": 22,
     "metadata": {},
     "output_type": "execute_result"
    }
   ],
   "source": []
  },
  {
   "cell_type": "code",
   "execution_count": null,
   "metadata": {},
   "outputs": [
    {
     "data": {
      "text/plain": [
       "Text(50, 5, 'Test 1')"
      ]
     },
     "execution_count": 28,
     "metadata": {},
     "output_type": "execute_result"
    },
    {
     "data": {
      "image/png": "[encoded data removed]",
      "text/plain": [
       "<Figure size 640x480 with 1 Axes>"
      ]
     },
     "metadata": {},
     "output_type": "display_data"
    }
   ],
   "source": [
    "ax = plt.gca()\n",
    "\n",
    "#ax.text(5, 5, 'matplotlib')\n",
    "ax.annotate(\"Test 1\", xy=(50, 5), xycoords='axes pixels')\n"
   ]
  },
  {
   "cell_type": "code",
   "execution_count": null,
   "metadata": {},
   "outputs": [
    {
     "data": {
      "text/plain": [
       "array([328. , 237.6])"
      ]
     },
     "execution_count": 19,
     "metadata": {},
     "output_type": "execute_result"
    }
   ],
   "source": [
    "ax.transData.transform([0.5, .5])"
   ]
  },
  {
   "cell_type": "code",
   "execution_count": null,
   "metadata": {},
   "outputs": [
    {
     "data": {
      "text/plain": [
       "True"
      ]
     },
     "execution_count": 7,
     "metadata": {},
     "output_type": "execute_result"
    }
   ],
   "source": [
    "random.choice((True, False))"
   ]
  },
  {
   "cell_type": "code",
   "execution_count": null,
   "metadata": {},
   "outputs": [
    {
     "ename": "TypeError",
     "evalue": "Population must be a sequence.  For dicts or sets, use sorted(d).",
     "output_type": "error",
     "traceback": [
      "\u001b[0;31m---------------------------------------------------------------------------\u001b[0m",
      "\u001b[0;31mTypeError\u001b[0m                                 Traceback (most recent call last)",
      "Cell \u001b[0;32mIn[4], line 1\u001b[0m\n\u001b[0;32m----> 1\u001b[0m random\u001b[39m.\u001b[39;49msample(\u001b[39miter\u001b[39;49m([\u001b[39m1\u001b[39;49m, \u001b[39m2\u001b[39;49m, \u001b[39m3\u001b[39;49m]), \u001b[39m6\u001b[39;49m)\n",
      "File \u001b[0;32m/usr/lib/python3.10/random.py:466\u001b[0m, in \u001b[0;36mRandom.sample\u001b[0;34m(self, population, k, counts)\u001b[0m\n\u001b[1;32m    464\u001b[0m         population \u001b[39m=\u001b[39m \u001b[39mtuple\u001b[39m(population)\n\u001b[1;32m    465\u001b[0m     \u001b[39melse\u001b[39;00m:\n\u001b[0;32m--> 466\u001b[0m         \u001b[39mraise\u001b[39;00m \u001b[39mTypeError\u001b[39;00m(\u001b[39m\"\u001b[39m\u001b[39mPopulation must be a sequence.  For dicts or sets, use sorted(d).\u001b[39m\u001b[39m\"\u001b[39m)\n\u001b[1;32m    467\u001b[0m n \u001b[39m=\u001b[39m \u001b[39mlen\u001b[39m(population)\n\u001b[1;32m    468\u001b[0m \u001b[39mif\u001b[39;00m counts \u001b[39mis\u001b[39;00m \u001b[39mnot\u001b[39;00m \u001b[39mNone\u001b[39;00m:\n",
      "\u001b[0;31mTypeError\u001b[0m: Population must be a sequence.  For dicts or sets, use sorted(d)."
     ]
    }
   ],
   "source": [
    "random.sample(iter([1, 2, 3]), 6)"
   ]
  },
  {
   "cell_type": "code",
   "execution_count": null,
   "metadata": {},
   "outputs": [],
   "source": [
    "import random"
   ]
  },
  {
   "cell_type": "code",
   "execution_count": null,
   "metadata": {},
   "outputs": [],
   "source": [
    "random.Random()"
   ]
  },
  {
   "cell_type": "code",
   "execution_count": null,
   "metadata": {},
   "outputs": [],
   "source": [
    "import numpy as np\n",
    "\n",
    "\n",
    "def query_integral_image(\n",
    "    integral_image, \n",
    "    size_x, size_y\n",
    "):\n",
    "    x, y = np.shape(integral_image)\n",
    "\n",
    "    # count how many possible locations\n",
    "    for i in range(x - size_x):\n",
    "        for j in range(y - size_y):\n",
    "            area = integral_image[i, j] + integral_image[i + size_x, j + size_y]\n",
    "            area -= integral_image[i + size_x, j] + integral_image[i, j + size_y]\n",
    "            if not area:\n",
    "                yield i, j"
   ]
  },
  {
   "cell_type": "code",
   "execution_count": null,
   "metadata": {},
   "outputs": [],
   "source": []
  },
  {
   "cell_type": "code",
   "execution_count": null,
   "metadata": {},
   "outputs": [],
   "source": []
  }
 ],
 "metadata": {
  "kernelspec": {
   "display_name": "Python 3.10.6 64-bit",
   "language": "python",
   "name": "python3"
  },
  "language_info": {
   "codemirror_mode": {
    "name": "ipython",
    "version": 3
   },
   "file_extension": ".py",
   "mimetype": "text/x-python",
   "name": "python",
   "nbconvert_exporter": "python",
   "pygments_lexer": "ipython3",
   "version": "3.10.6"
  },
  "orig_nbformat": 4,
  "vscode": {
   "interpreter": {
    "hash": "916dbcbb3f70747c44a77c7bcd40155683ae19c65e1c03b4aa3499c5328201f1"
   }
  }
 },
 "nbformat": 4,
 "nbformat_minor": 2
}
